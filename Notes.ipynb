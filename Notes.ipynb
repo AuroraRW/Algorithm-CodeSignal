{
 "cells": [
  {
   "cell_type": "markdown",
   "metadata": {},
   "source": [
    "### Python\n",
    "1. math.ceil() / math.floor() / math.round() \n",
    "2. 3/4=0.75       \n",
    "   3//4=0"
   ]
  },
  {
   "cell_type": "markdown",
   "metadata": {},
   "source": [
    "### CSharp\n",
    "1. Math.celling() / Math.Floor()\n",
    "2. 3/4=0   \n",
    "   3.0/4=0.75  \n",
    "   There is no // in CSharp"
   ]
  },
  {
   "cell_type": "markdown",
   "metadata": {},
   "source": [
    "1. ['123'] * 5\n",
    "   ['123', '123', '123', '123', '123']\n",
    "\n",
    "2.map() return a object, need to list()\n",
    "\n",
    "3.enumerate() \n",
    "\n",
    "4.zip() \n",
    "\n",
    "5.all()\n",
    "\n",
    "6.b = sorted(a)\n",
    "\n",
    "7.Counter()\n",
    "\n",
    "8.any()\n",
    "\n",
    "9.'{:08b}'.format(a)   \n",
    "  '{:8b}'.format(a)\n",
    "  \n",
    "10. groupby\n",
    "\n",
    "11. max(key)\n",
    "\n",
    "12. string.Template\n",
    "https://blog.csdn.net/u010895119/article/details/80308872\n",
    "\n",
    "13. iter\n",
    "https://blog.csdn.net/sxingming/article/details/51479039\n",
    "\n",
    "\n",
    "https://www.cnblogs.com/ifantastic/p/3811145.html\n",
    "\n",
    "\"\"\"\n",
    "convert string to int: str()  \n",
    "convert int to string: int()  \n",
    "convert string to list 'a.b.c.d'.split('.')  \n",
    "                       list('abcd')  \n",
    "convert list to string '.'.join(list)  \n",
    "\"\"\"  \n",
    "\n",
    "['3','4'] to [3,4]  \n",
    "list(map(int, ['3','4']))\n",
    "\n",
    "https://blog.csdn.net/AnneQiQi/article/details/71057069  \n",
    "List: del, remove, pop\n",
    "\n",
    "\n",
    "math.ceil"
   ]
  },
  {
   "cell_type": "code",
   "execution_count": 1,
   "metadata": {},
   "outputs": [
    {
     "name": "stdout",
     "output_type": "stream",
     "text": [
      "0.75\n"
     ]
    }
   ],
   "source": [
    "print(3/4)"
   ]
  },
  {
   "cell_type": "code",
   "execution_count": null,
   "metadata": {},
   "outputs": [],
   "source": []
  }
 ],
 "metadata": {
  "kernelspec": {
   "display_name": "Python 3",
   "language": "python",
   "name": "python3"
  },
  "language_info": {
   "codemirror_mode": {
    "name": "ipython",
    "version": 3
   },
   "file_extension": ".py",
   "mimetype": "text/x-python",
   "name": "python",
   "nbconvert_exporter": "python",
   "pygments_lexer": "ipython3",
   "version": "3.7.3"
  }
 },
 "nbformat": 4,
 "nbformat_minor": 2
}
