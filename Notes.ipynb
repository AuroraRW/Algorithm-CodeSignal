{
 "cells": [
  {
   "cell_type": "markdown",
   "metadata": {},
   "source": [
    "1. ['123'] * 5\n",
    "   ['123', '123', '123', '123', '123']\n",
    "\n",
    "2.map() return a object, need to list()\n",
    "\n",
    "3.enumerate() \n",
    "\n",
    "4.zip() \n",
    "\n",
    "5.all()\n",
    "\n",
    "6.b = sorted(a)\n",
    "\n",
    "7.Counter()\n",
    "\n",
    "8.any()\n",
    "\n",
    "9.'{:08b}'.format(a)   \n",
    "  '{:8b}'.format(a)\n",
    "  \n",
    "10. groupby\n",
    "\n",
    "11. max(key)\n",
    "\n",
    "\n",
    "https://www.cnblogs.com/ifantastic/p/3811145.html\n",
    "\n",
    "\"\"\"\n",
    "convert string to int: str()  \n",
    "convert int to string: int()  \n",
    "convert string to list 'a.b.c.d'.split('.')  \n",
    "                       list('abcd')  \n",
    "convert list to string '.'.join(list)  \n",
    "\"\"\"  \n",
    "\n",
    "['3','4'] to [3,4]  \n",
    "list(map(int, ['3','4']))\n",
    "\n",
    "https://blog.csdn.net/AnneQiQi/article/details/71057069  \n",
    "List: del, remove, pop\n",
    "\n",
    "\n",
    "math.ceil"
   ]
  },
  {
   "cell_type": "code",
   "execution_count": 7,
   "metadata": {},
   "outputs": [],
   "source": [
    "def lineEncoding(s):\n",
    "    start = 0\n",
    "    StringToList = []\n",
    "    result=[]\n",
    "    for i in range(len(s)-1):\n",
    "        if ord(s[i]) - ord(s[i + 1]) != 0:\n",
    "            StringToList.append(s[start: i + 1])\n",
    "            start = i + 1\n",
    "    StringToList.append(s[start:])\n",
    "    for i in StringToList:\n",
    "        result.append(str(len(i))+i[0])\n",
    "        \n",
    "    return result"
   ]
  },
  {
   "cell_type": "code",
   "execution_count": 8,
   "metadata": {},
   "outputs": [
    {
     "name": "stdout",
     "output_type": "stream",
     "text": [
      "['aa', 'bbb', 'c']\n"
     ]
    },
    {
     "data": {
      "text/plain": [
       "['2a', '3b', '1c']"
      ]
     },
     "execution_count": 8,
     "metadata": {},
     "output_type": "execute_result"
    }
   ],
   "source": [
    "lineEncoding('aabbbc')"
   ]
  },
  {
   "cell_type": "code",
   "execution_count": 10,
   "metadata": {},
   "outputs": [
    {
     "data": {
      "text/plain": [
       "[]"
      ]
     },
     "execution_count": 10,
     "metadata": {},
     "output_type": "execute_result"
    }
   ],
   "source": [
    "list('123')[0:0]"
   ]
  },
  {
   "cell_type": "code",
   "execution_count": null,
   "metadata": {},
   "outputs": [],
   "source": []
  }
 ],
 "metadata": {
  "kernelspec": {
   "display_name": "Alg",
   "language": "python",
   "name": "alg"
  },
  "language_info": {
   "codemirror_mode": {
    "name": "ipython",
    "version": 3
   },
   "file_extension": ".py",
   "mimetype": "text/x-python",
   "name": "python",
   "nbconvert_exporter": "python",
   "pygments_lexer": "ipython3",
   "version": "3.7.3"
  }
 },
 "nbformat": 4,
 "nbformat_minor": 2
}
