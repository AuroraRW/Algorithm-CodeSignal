{
 "cells": [
  {
   "cell_type": "markdown",
   "metadata": {},
   "source": [
    "### File Naming\n",
    "You are given an array of desired filenames in the order of their creation. Since two files cannot have equal names, the one which comes later will have an addition to its name in a form of (k), where k is the smallest positive integer such that the obtained name is not used yet.\n",
    "\n",
    "Return an array of names that will be given to the files.\n",
    "\n",
    "Example\n",
    "\n",
    "For names = [\"doc\", \"doc\", \"image\", \"doc(1)\", \"doc\"], the output should be\n",
    "fileNaming(names) = [\"doc\", \"doc(1)\", \"image\", \"doc(1)(1)\", \"doc(2)\"].\n",
    "\n",
    "Input/Output\n",
    "\n",
    "    [execution time limit] 4 seconds (py3)\n",
    "\n",
    "    [input] array.string names\n",
    "\n",
    "    Guaranteed constraints:\n",
    "    5 ≤ names.length ≤ 1000,\n",
    "    1 ≤ names[i].length ≤ 15.\n",
    "\n",
    "    [output] array.string\n"
   ]
  },
  {
   "cell_type": "code",
   "execution_count": 1,
   "metadata": {},
   "outputs": [],
   "source": [
    "def fileNaming(names):\n",
    "    output = [names[0]]\n",
    "    for i in range(1,len(names)):\n",
    "        if names[i] in names[0:i] or names[i] in output[0:i]:\n",
    "            j = names[0:i].count(names[i])\n",
    "            k = output[0:i].count(names[i])\n",
    "            j = max(j,k)\n",
    "            temp = names[i]+\"(\"+str(j)+\")\"\n",
    "            while temp in output[0:i]:\n",
    "                j+=1\n",
    "                temp = names[i]+\"(\"+str(j)+\")\"\n",
    "            output.append(temp)\n",
    "        else:\n",
    "            output.append(names[i])\n",
    "    return output"
   ]
  },
  {
   "cell_type": "code",
   "execution_count": null,
   "metadata": {},
   "outputs": [],
   "source": []
  }
 ],
 "metadata": {
  "kernelspec": {
   "display_name": "Alg",
   "language": "python",
   "name": "alg"
  },
  "language_info": {
   "codemirror_mode": {
    "name": "ipython",
    "version": 3
   },
   "file_extension": ".py",
   "mimetype": "text/x-python",
   "name": "python",
   "nbconvert_exporter": "python",
   "pygments_lexer": "ipython3",
   "version": "3.7.3"
  }
 },
 "nbformat": 4,
 "nbformat_minor": 2
}
