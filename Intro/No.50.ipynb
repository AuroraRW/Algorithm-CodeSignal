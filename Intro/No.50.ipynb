{
 "cells": [
  {
   "cell_type": "markdown",
   "metadata": {},
   "source": [
    "### chessKnight\n",
    "Given a position of a knight on the standard chessboard, find the number of different moves the knight can perform.\n",
    "\n",
    "The knight can move to a square that is two squares horizontally and one square vertically, or two squares vertically and one square horizontally away from it. The complete move therefore looks like the letter L. Check out the image below to see all valid moves for a knight piece that is placed on one of the central squares.\n",
    "![title](50-1.png)\n",
    "Example\n",
    "\n",
    "    For cell = \"a1\", the output should be\n",
    "    chessKnight(cell) = 2.\n",
    "![title](50-2.png)\n",
    "For cell = \"c2\", the output should be\n",
    "chessKnight(cell) = 6.\n",
    "![title](50-3.png)\n",
    "Input/Output\n",
    "\n",
    "    [execution time limit] 4 seconds (py3)\n",
    "\n",
    "    [input] string cell\n",
    "\n",
    "    String consisting of 2 letters - coordinates of the knight on an 8 × 8 chessboard in chess notation.\n",
    "\n",
    "    Guaranteed constraints:\n",
    "    cell.length = 2,\n",
    "    'a' ≤ cell[0] ≤ 'h',\n",
    "    1 ≤ cell[1] ≤ 8.\n",
    "\n",
    "    [output] integer\n"
   ]
  },
  {
   "cell_type": "code",
   "execution_count": 6,
   "metadata": {},
   "outputs": [],
   "source": [
    "def chessKnight(cell):\n",
    "    result = 0\n",
    "    print(chr(ord(cell[0]) + 1))\n",
    "    if int(cell[1]) + 2 < 9 and chr(ord(cell[0]) + 1) <= 'H':\n",
    "        result += 1\n",
    "        print('1')\n",
    "    if int(cell[1]) + 2 < 9 and chr(ord(cell[0]) - 1) >= 'A':\n",
    "        result += 1\n",
    "        print('2')\n",
    "    if int(cell[1]) - 2 >0 and chr(ord(cell[0]) + 1) <= 'H':\n",
    "        result += 1\n",
    "        print('3')\n",
    "    if int(cell[1]) - 2 >0 and chr(ord(cell[0]) - 1) >= 'A':\n",
    "        result += 1\n",
    "        print('4')\n",
    "    if int(cell[1]) + 1 < 9 and chr(ord(cell[0]) + 2) <= 'H':\n",
    "        result += 1\n",
    "        print('5')\n",
    "    if int(cell[1]) + 1 < 9 and chr(ord(cell[0]) - 2) >= 'A':\n",
    "        result += 1\n",
    "        print('6')\n",
    "    if int(cell[1]) - 1 >0 and chr(ord(cell[0]) + 2) <= 'H':\n",
    "        result += 1\n",
    "        print('7')\n",
    "    if int(cell[1]) - 1 >0 and chr(ord(cell[0]) - 2) >= 'A':\n",
    "        result += 1\n",
    "        print('8')\n",
    "        \n",
    "    return result"
   ]
  },
  {
   "cell_type": "code",
   "execution_count": null,
   "metadata": {},
   "outputs": [],
   "source": []
  }
 ],
 "metadata": {
  "kernelspec": {
   "display_name": "Alg",
   "language": "python",
   "name": "alg"
  },
  "language_info": {
   "codemirror_mode": {
    "name": "ipython",
    "version": 3
   },
   "file_extension": ".py",
   "mimetype": "text/x-python",
   "name": "python",
   "nbconvert_exporter": "python",
   "pygments_lexer": "ipython3",
   "version": "3.7.3"
  }
 },
 "nbformat": 4,
 "nbformat_minor": 2
}
