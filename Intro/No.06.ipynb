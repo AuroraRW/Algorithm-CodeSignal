{
 "cells": [
  {
   "cell_type": "markdown",
   "metadata": {},
   "source": [
    "### No.6 Ratiorg got statues of different sizes as a present from CodeMaster for his birthday, each statue having an non-negative integer size. Since he likes to make things perfect, he wants to arrange them from smallest to largest so that each statue will be bigger than the previous one exactly by 1. He may need some additional statues to be able to accomplish that. Help him figure out the minimum number of additional statues needed.\n",
    "\n",
    "Example\n",
    "\n",
    "For statues = [6, 2, 3, 8], the output should be\n",
    "makeArrayConsecutive2(statues) = 3.\n",
    "\n",
    "Ratiorg needs statues of sizes 4, 5 and 7.\n",
    "\n",
    "Input/Output\n",
    "\n",
    "    [execution time limit] 4 seconds (py3)\n",
    "\n",
    "    [input] array.integer statues\n",
    "\n",
    "    An array of distinct non-negative integers.\n",
    "\n",
    "    Guaranteed constraints:\n",
    "    1 ≤ statues.length ≤ 10,\n",
    "    0 ≤ statues[i] ≤ 20.\n",
    "\n",
    "    [output] integer\n",
    "        The minimal number of statues that need to be added to existing statues such that it contains every integer size from an interval [L, R] (for some L, R) and no other sizes.\n"
   ]
  },
  {
   "cell_type": "code",
   "execution_count": 1,
   "metadata": {},
   "outputs": [],
   "source": [
    "def makeArrayConsecutive2(statues):\n",
    "    Maxium = 0\n",
    "    Minmum = 20\n",
    "    for i in range(len(statues)):\n",
    "        if statues[i] > Maxium:\n",
    "            Maxium = statues[i]\n",
    "        if statues[i] < Minmum:\n",
    "            Minmum = statues[i]\n",
    "    return Maxium - Minmum + 1 - len(statues)"
   ]
  },
  {
   "cell_type": "code",
   "execution_count": 3,
   "metadata": {},
   "outputs": [],
   "source": [
    "def makeArrayConsecutive2(statues):\n",
    "    inputrange = max(statues) - min(statues) - 1\n",
    "    return inputrange - (len(set(statues)) - 2)"
   ]
  },
  {
   "cell_type": "code",
   "execution_count": null,
   "metadata": {},
   "outputs": [],
   "source": []
  }
 ],
 "metadata": {
  "kernelspec": {
   "display_name": "Alg",
   "language": "python",
   "name": "alg"
  },
  "language_info": {
   "codemirror_mode": {
    "name": "ipython",
    "version": 3
   },
   "file_extension": ".py",
   "mimetype": "text/x-python",
   "name": "python",
   "nbconvert_exporter": "python",
   "pygments_lexer": "ipython3",
   "version": "3.7.3"
  }
 },
 "nbformat": 4,
 "nbformat_minor": 2
}
