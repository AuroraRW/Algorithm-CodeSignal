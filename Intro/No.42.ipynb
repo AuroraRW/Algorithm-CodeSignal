{
 "cells": [
  {
   "cell_type": "markdown",
   "metadata": {},
   "source": [
    "### Bishop and Pawn\n",
    "Given the positions of a white bishop and a black pawn on the standard chess board, determine whether the bishop can capture the pawn in one move.\n",
    "\n",
    "The bishop has no restrictions in distance for each move, but is limited to diagonal movement. Check out the example below to see how it can move:\n",
    "![title](41-1.png)\n",
    "Example\n",
    "\n",
    "    For bishop = \"a1\" and pawn = \"c3\", the output should be\n",
    "    bishopAndPawn(bishop, pawn) = true.\n",
    "![title](41-2.png)\n",
    "Input/Output\n",
    "\n",
    "    [execution time limit] 4 seconds (py3)\n",
    "\n",
    "    [input] string bishop\n",
    "\n",
    "    Coordinates of the white bishop in the chess notation.\n",
    "\n",
    "    Guaranteed constraints:\n",
    "    bishop.length = 2,\n",
    "    'a' ≤ bishop[0] ≤ 'h',\n",
    "    1 ≤ bishop[1] ≤ 8.\n",
    "\n",
    "    [input] string pawn\n",
    "\n",
    "    Coordinates of the black pawn in the same notation.\n",
    "\n",
    "    Guaranteed constraints:\n",
    "    pawn.length = 2,\n",
    "    'a' ≤ pawn[0] ≤ 'h',\n",
    "    1 ≤ pawn[1] ≤ 8.\n",
    "\n",
    "    [output] boolean\n",
    "        true if the bishop can capture the pawn, false otherwise."
   ]
  },
  {
   "cell_type": "code",
   "execution_count": null,
   "metadata": {},
   "outputs": [],
   "source": [
    "def bishopAndPawn(bishop, pawn):\n",
    "    bishop_col = bishop[0]\n",
    "    bishop_row = int(bishop[1])\n",
    "    pawn_col = pawn[0]\n",
    "    pawn_row = int(pawn[1])\n",
    "    if abs(ord(pawn_col) - ord(bishop_col)) == abs(pawn_row - bishop_row):\n",
    "        return True\n",
    "    return False"
   ]
  }
 ],
 "metadata": {
  "kernelspec": {
   "display_name": "Alg",
   "language": "python",
   "name": "alg"
  },
  "language_info": {
   "codemirror_mode": {
    "name": "ipython",
    "version": 3
   },
   "file_extension": ".py",
   "mimetype": "text/x-python",
   "name": "python",
   "nbconvert_exporter": "python",
   "pygments_lexer": "ipython3",
   "version": "3.7.3"
  }
 },
 "nbformat": 4,
 "nbformat_minor": 2
}
