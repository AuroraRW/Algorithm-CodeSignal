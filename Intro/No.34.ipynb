{
 "cells": [
  {
   "cell_type": "markdown",
   "metadata": {},
   "source": [
    "### extractEachKth\n",
    "Given array of integers, remove each kth element from it.\n",
    "\n",
    "Example\n",
    "\n",
    "For inputArray = [1, 2, 3, 4, 5, 6, 7, 8, 9, 10] and k = 3, the output should be\n",
    "extractEachKth(inputArray, k) = [1, 2, 4, 5, 7, 8, 10].\n",
    "\n",
    "Input/Output\n",
    "\n",
    "    [execution time limit] 4 seconds (py3)\n",
    "\n",
    "    [input] array.integer inputArray\n",
    "\n",
    "    Guaranteed constraints:\n",
    "    5 ≤ inputArray.length ≤ 15,\n",
    "    -20 ≤ inputArray[i] ≤ 20.\n",
    "\n",
    "    [input] integer k\n",
    "\n",
    "    Guaranteed constraints:\n",
    "    1 ≤ k ≤ 10.\n",
    "\n",
    "    [output] array.integer\n",
    "        inputArray without elements k - 1, 2k - 1, 3k - 1 etc.\n"
   ]
  },
  {
   "cell_type": "code",
   "execution_count": 18,
   "metadata": {},
   "outputs": [],
   "source": [
    "def extractEachKth(inputArray, k):\n",
    "    result = []\n",
    "    t = 1\n",
    "    for i in range(1, len(inputArray) + 1):\n",
    "        if i != t * k:\n",
    "            result.append(inputArray[i - 1])\n",
    "        else:\n",
    "            t = t + 1\n",
    "    return result"
   ]
  },
  {
   "cell_type": "code",
   "execution_count": 19,
   "metadata": {},
   "outputs": [],
   "source": [
    "def extractEachKth(inputArray, k):\n",
    "    del inputArray[k-1::k]\n",
    "    return inputArray"
   ]
  },
  {
   "cell_type": "code",
   "execution_count": 20,
   "metadata": {},
   "outputs": [],
   "source": [
    "def extractEachKth(inputArray, k):\n",
    "    return [i for (n,i) in enumerate(inputArray) if (n+1) % k != 0]"
   ]
  },
  {
   "cell_type": "code",
   "execution_count": null,
   "metadata": {},
   "outputs": [],
   "source": []
  }
 ],
 "metadata": {
  "kernelspec": {
   "display_name": "Alg",
   "language": "python",
   "name": "alg"
  },
  "language_info": {
   "codemirror_mode": {
    "name": "ipython",
    "version": 3
   },
   "file_extension": ".py",
   "mimetype": "text/x-python",
   "name": "python",
   "nbconvert_exporter": "python",
   "pygments_lexer": "ipython3",
   "version": "3.7.3"
  }
 },
 "nbformat": 4,
 "nbformat_minor": 2
}
