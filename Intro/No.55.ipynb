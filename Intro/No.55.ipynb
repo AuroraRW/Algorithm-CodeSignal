{
 "cells": [
  {
   "cell_type": "markdown",
   "metadata": {},
   "source": [
    "### Different Squares\n",
    "Given a rectangular matrix containing only digits, calculate the number of different 2 × 2 squares in it.\n",
    "\n",
    "Example\n",
    "\n",
    "For\n",
    "\n",
    "matrix = [[1, 2, 1],\n",
    "          [2, 2, 2],\n",
    "          [2, 2, 2],\n",
    "          [1, 2, 3],\n",
    "          [2, 2, 1]]\n",
    "\n",
    "the output should be\n",
    "differentSquares(matrix) = 6.\n",
    "\n",
    "Here are all 6 different 2 × 2 squares:\n",
    "\n",
    "    1 2\n",
    "    2 2\n",
    "    2 1\n",
    "    2 2\n",
    "    2 2\n",
    "    2 2\n",
    "    2 2\n",
    "    1 2\n",
    "    2 2\n",
    "    2 3\n",
    "    2 3\n",
    "    2 1\n",
    "\n",
    "Input/Output\n",
    "\n",
    "    [execution time limit] 4 seconds (py3)\n",
    "\n",
    "    [input] array.array.integer matrix\n",
    "\n",
    "    Guaranteed constraints:\n",
    "    1 ≤ matrix.length ≤ 100,\n",
    "    1 ≤ matrix[i].length ≤ 100,\n",
    "    0 ≤ matrix[i][j] ≤ 9.\n",
    "\n",
    "    [output] integer\n",
    "        The number of different 2 × 2 squares in matrix.\n"
   ]
  },
  {
   "cell_type": "code",
   "execution_count": 6,
   "metadata": {},
   "outputs": [],
   "source": [
    "def differentSquares(matrix):\n",
    "    ListM=[]\n",
    "    for r in range(len(matrix) - 1):\n",
    "        for c in range(len(matrix[0])-1):\n",
    "            temp=(matrix[r][c], matrix[r][c+1], matrix[r+1][c], matrix[r+1][c+1])\n",
    "            ListM.append(temp)\n",
    "    \n",
    "    return len(set(ListM))"
   ]
  },
  {
   "cell_type": "code",
   "execution_count": null,
   "metadata": {},
   "outputs": [],
   "source": []
  }
 ],
 "metadata": {
  "kernelspec": {
   "display_name": "Alg",
   "language": "python",
   "name": "alg"
  },
  "language_info": {
   "codemirror_mode": {
    "name": "ipython",
    "version": 3
   },
   "file_extension": ".py",
   "mimetype": "text/x-python",
   "name": "python",
   "nbconvert_exporter": "python",
   "pygments_lexer": "ipython3",
   "version": "3.7.3"
  }
 },
 "nbformat": 4,
 "nbformat_minor": 2
}
