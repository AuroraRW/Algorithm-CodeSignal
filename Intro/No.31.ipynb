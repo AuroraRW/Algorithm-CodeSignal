{
 "cells": [
  {
   "cell_type": "markdown",
   "metadata": {},
   "source": [
    "### deposit profit\n",
    "You have deposited a specific amount of money into your bank account. Each year your balance increases at the same growth rate. With the assumption that you don't make any additional deposits, find out how long it would take for your balance to pass a specific threshold.\n",
    "\n",
    "Example\n",
    "\n",
    "For deposit = 100, rate = 20, and threshold = 170, the output should be\n",
    "depositProfit(deposit, rate, threshold) = 3.\n",
    "\n",
    "Each year the amount of money in your account increases by 20%. So throughout the years, your balance would be:\n",
    "\n",
    "    year 0: 100;\n",
    "    year 1: 120;\n",
    "    year 2: 144;\n",
    "    year 3: 172.8.\n",
    "\n",
    "Thus, it will take 3 years for your balance to pass the threshold, so the answer is 3.\n",
    "\n",
    "Input/Output\n",
    "\n",
    "    [execution time limit] 4 seconds (py3)\n",
    "\n",
    "    [input] integer deposit\n",
    "\n",
    "    The initial deposit, guaranteed to be a positive integer.\n",
    "\n",
    "    Guaranteed constraints:\n",
    "    1 ≤ deposit ≤ 100.\n",
    "\n",
    "    [input] integer rate\n",
    "\n",
    "    The rate of increase. Each year the balance increases by the rate percent of the current sum.\n",
    "\n",
    "    Guaranteed constraints:\n",
    "    1 ≤ rate ≤ 100.\n",
    "\n",
    "    [input] integer threshold\n",
    "\n",
    "    The target balance.\n",
    "\n",
    "    Guaranteed constraints:\n",
    "    deposit < threshold ≤ 200.\n",
    "\n",
    "    [output] integer\n",
    "        The number of years it would take to hit the threshold.\n"
   ]
  },
  {
   "cell_type": "code",
   "execution_count": 1,
   "metadata": {},
   "outputs": [],
   "source": [
    "def depositProfit(deposit, rate, threshold):\n",
    "    year = 0\n",
    "    while deposit < threshold:\n",
    "        deposit = deposit * (rate / 100 + 1)\n",
    "        year = year + 1\n",
    "\n",
    "    return year"
   ]
  },
  {
   "cell_type": "code",
   "execution_count": null,
   "metadata": {},
   "outputs": [],
   "source": []
  }
 ],
 "metadata": {
  "kernelspec": {
   "display_name": "Alg",
   "language": "python",
   "name": "alg"
  },
  "language_info": {
   "codemirror_mode": {
    "name": "ipython",
    "version": 3
   },
   "file_extension": ".py",
   "mimetype": "text/x-python",
   "name": "python",
   "nbconvert_exporter": "python",
   "pygments_lexer": "ipython3",
   "version": "3.7.3"
  }
 },
 "nbformat": 4,
 "nbformat_minor": 2
}
