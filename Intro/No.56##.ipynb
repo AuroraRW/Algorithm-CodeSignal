{
 "cells": [
  {
   "cell_type": "markdown",
   "metadata": {},
   "source": [
    "### digitsProduct\n",
    "Given an integer product, find the smallest positive (i.e. greater than 0) integer the product of whose digits is equal to product. If there is no such integer, return -1 instead.\n",
    "\n",
    "Example\n",
    "\n",
    "    For product = 12, the output should be\n",
    "    digitsProduct(product) = 26;\n",
    "    For product = 19, the output should be\n",
    "    digitsProduct(product) = -1.\n",
    "\n",
    "Input/Output\n",
    "\n",
    "    [execution time limit] 4 seconds (py3)\n",
    "\n",
    "    [input] integer product\n",
    "\n",
    "    Guaranteed constraints:\n",
    "    0 ≤ product ≤ 600.\n",
    "\n",
    "    [output] integer\n"
   ]
  },
  {
   "cell_type": "code",
   "execution_count": 3,
   "metadata": {},
   "outputs": [],
   "source": [
    "def digitsProduct(product):\n",
    "    answerDigits = []\n",
    "    answer = 0\n",
    "    if not product:\n",
    "        return 10\n",
    "    \n",
    "    if product == 1:\n",
    "        return 1\n",
    "\n",
    "    for divisor in range(9, 1, -1):\n",
    "        while product % divisor == 0:\n",
    "            product = product // divisor\n",
    "            answerDigits.append(divisor)\n",
    "            \n",
    "    if product > 1:\n",
    "        return -1\n",
    "    \n",
    "    for i in range(len(answerDigits) - 1, -1, -1):\n",
    "        answer = answer + answerDigits[i] * math.pow(10, i)\n",
    "    \n",
    "    return answer"
   ]
  },
  {
   "cell_type": "code",
   "execution_count": null,
   "metadata": {},
   "outputs": [],
   "source": []
  }
 ],
 "metadata": {
  "kernelspec": {
   "display_name": "Alg",
   "language": "python",
   "name": "alg"
  },
  "language_info": {
   "codemirror_mode": {
    "name": "ipython",
    "version": 3
   },
   "file_extension": ".py",
   "mimetype": "text/x-python",
   "name": "python",
   "nbconvert_exporter": "python",
   "pygments_lexer": "ipython3",
   "version": "3.7.3"
  }
 },
 "nbformat": 4,
 "nbformat_minor": 2
}
