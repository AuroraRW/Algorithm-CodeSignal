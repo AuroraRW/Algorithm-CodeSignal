{
 "cells": [
  {
   "cell_type": "markdown",
   "metadata": {},
   "source": [
    "### isDigit\n",
    "Determine if the given character is a digit or not.\n",
    "\n",
    "Example\n",
    "\n",
    "    For symbol = '0', the output should be\n",
    "    isDigit(symbol) = true;\n",
    "    For symbol = '-', the output should be\n",
    "    isDigit(symbol) = false.\n",
    "\n",
    "Input/Output\n",
    "\n",
    "    [execution time limit] 4 seconds (py3)\n",
    "\n",
    "    [input] char symbol\n",
    "\n",
    "    A character which is either a digit or not.\n",
    "\n",
    "    Guaranteed constraints:\n",
    "    Given symbol is from ASCII table.\n",
    "\n",
    "    [output] boolean\n",
    "        true if symbol is a digit, false otherwise.\n"
   ]
  },
  {
   "cell_type": "code",
   "execution_count": 1,
   "metadata": {},
   "outputs": [],
   "source": [
    "def isDigit(symbol):\n",
    "    try:\n",
    "        int(symbol)\n",
    "    except:\n",
    "        return False\n",
    "    else:\n",
    "        return True"
   ]
  },
  {
   "cell_type": "code",
   "execution_count": 2,
   "metadata": {},
   "outputs": [],
   "source": [
    "def isDigit(symbol):\n",
    "    return symbol.isdigit()"
   ]
  },
  {
   "cell_type": "code",
   "execution_count": null,
   "metadata": {},
   "outputs": [],
   "source": []
  }
 ],
 "metadata": {
  "kernelspec": {
   "display_name": "Alg",
   "language": "python",
   "name": "alg"
  },
  "language_info": {
   "codemirror_mode": {
    "name": "ipython",
    "version": 3
   },
   "file_extension": ".py",
   "mimetype": "text/x-python",
   "name": "python",
   "nbconvert_exporter": "python",
   "pygments_lexer": "ipython3",
   "version": "3.7.3"
  }
 },
 "nbformat": 4,
 "nbformat_minor": 2
}
