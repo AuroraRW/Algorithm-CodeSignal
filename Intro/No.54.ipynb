{
 "cells": [
  {
   "cell_type": "markdown",
   "metadata": {},
   "source": [
    "### sumUpNumbers\n",
    "CodeMaster has just returned from shopping. He scanned the check of the items he bought and gave the resulting string to Ratiorg to figure out the total number of purchased items. Since Ratiorg is a bot he is definitely going to automate it, so he needs a program that sums up all the numbers which appear in the given input.\n",
    "\n",
    "Help Ratiorg by writing a function that returns the sum of numbers that appear in the given inputString.\n",
    "\n",
    "Example\n",
    "\n",
    "For inputString = \"2 apples, 12 oranges\", the output should be\n",
    "sumUpNumbers(inputString) = 14.\n",
    "\n",
    "Input/Output\n",
    "\n",
    "    [execution time limit] 4 seconds (py3)\n",
    "\n",
    "    [input] string inputString\n",
    "\n",
    "    Guaranteed constraints:\n",
    "    0 ≤ inputString.length ≤ 105.\n",
    "\n",
    "    [output] integer\n"
   ]
  },
  {
   "cell_type": "code",
   "execution_count": 1,
   "metadata": {},
   "outputs": [],
   "source": [
    "def sumUpNumbers(inputString):\n",
    "    ListNum=re.findall(r'\\d+', inputString)\n",
    "    return sum(map(int, ListNum))"
   ]
  },
  {
   "cell_type": "code",
   "execution_count": null,
   "metadata": {},
   "outputs": [],
   "source": []
  }
 ],
 "metadata": {
  "kernelspec": {
   "display_name": "Alg",
   "language": "python",
   "name": "alg"
  },
  "language_info": {
   "codemirror_mode": {
    "name": "ipython",
    "version": 3
   },
   "file_extension": ".py",
   "mimetype": "text/x-python",
   "name": "python",
   "nbconvert_exporter": "python",
   "pygments_lexer": "ipython3",
   "version": "3.7.3"
  }
 },
 "nbformat": 4,
 "nbformat_minor": 2
}
