{
 "cells": [
  {
   "cell_type": "markdown",
   "metadata": {},
   "source": [
    "### longestWord\n",
    "Define a word as a sequence of consecutive English letters. Find the longest word from the given string.\n",
    "\n",
    "Example\n",
    "\n",
    "For text = \"Ready, steady, go!\", the output should be\n",
    "longestWord(text) = \"steady\".\n",
    "\n",
    "Input/Output\n",
    "\n",
    "    [execution time limit] 4 seconds (py3)\n",
    "\n",
    "    [input] string text\n",
    "\n",
    "    Guaranteed constraints:\n",
    "    4 ≤ text.length ≤ 50.\n",
    "\n",
    "    [output] string\n",
    "        The longest word from text. It's guaranteed that there is a unique output.\n"
   ]
  },
  {
   "cell_type": "code",
   "execution_count": 26,
   "metadata": {},
   "outputs": [],
   "source": [
    "def longestWord(text):\n",
    "\n",
    "    lista = list(text)\n",
    "    long = len(lista)\n",
    "\n",
    "    larger = 0\n",
    "    #Current Size of word\n",
    "    currentSize = 0\n",
    "    #Store current word\n",
    "    word = []\n",
    "    #Store max size word\n",
    "    wordMax = []\n",
    "\n",
    "    for i in range(long):\n",
    "        if lista[i].isalpha():\n",
    "            currentSize += 1\n",
    "            word.append(lista[i])\n",
    "        else:\n",
    "            if currentSize > larger:\n",
    "                larger = currentSize\n",
    "                wordMax = list(word)\n",
    "\n",
    "            currentSize = 0\n",
    "            word = []\n",
    "    #We get to the end\n",
    "    if currentSize > larger:\n",
    "        larger = currentSize\n",
    "        wordMax = list(word)\n",
    "        word = []\n",
    "    return ''.join(wordMax)"
   ]
  },
  {
   "cell_type": "code",
   "execution_count": 27,
   "metadata": {},
   "outputs": [],
   "source": [
    "def longestWord(text):\n",
    "    return max(re.split('[^a-zA-Z]', text), key=len)"
   ]
  },
  {
   "cell_type": "code",
   "execution_count": null,
   "metadata": {},
   "outputs": [],
   "source": []
  }
 ],
 "metadata": {
  "kernelspec": {
   "display_name": "Alg",
   "language": "python",
   "name": "alg"
  },
  "language_info": {
   "codemirror_mode": {
    "name": "ipython",
    "version": 3
   },
   "file_extension": ".py",
   "mimetype": "text/x-python",
   "name": "python",
   "nbconvert_exporter": "python",
   "pygments_lexer": "ipython3",
   "version": "3.7.3"
  }
 },
 "nbformat": 4,
 "nbformat_minor": 2
}
