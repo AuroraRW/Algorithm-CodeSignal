{
 "cells": [
  {
   "cell_type": "markdown",
   "metadata": {},
   "source": [
    "### Sort by Height\n",
    "Some people are standing in a row in a park. There are trees between them which cannot be moved. Your task is to rearrange the people by their heights in a non-descending order without moving the trees. People can be very tall!\n",
    "\n",
    "Example\n",
    "\n",
    "For a = [-1, 150, 190, 170, -1, -1, 160, 180], the output should be\n",
    "sortByHeight(a) = [-1, 150, 160, 170, -1, -1, 180, 190].\n",
    "\n",
    "Input/Output\n",
    "\n",
    "    [execution time limit] 4 seconds (py3)\n",
    "\n",
    "    [input] array.integer a\n",
    "\n",
    "    If a[i] = -1, then the ith position is occupied by a tree. Otherwise a[i] is the height of a person standing in the ith position.\n",
    "\n",
    "    Guaranteed constraints:\n",
    "    1 ≤ a.length ≤ 1000,\n",
    "    -1 ≤ a[i] ≤ 1000.\n",
    "\n",
    "    [output] array.integer\n",
    "        Sorted array a with all the trees untouched.\n"
   ]
  },
  {
   "cell_type": "code",
   "execution_count": 3,
   "metadata": {},
   "outputs": [],
   "source": [
    "def sortByHeight(a):\n",
    "    aa = []\n",
    "    for i in a:\n",
    "        if i != -1:\n",
    "            aa.append(i)\n",
    "    for i in range(1, len(aa)):\n",
    "        for j in range(0, len(aa) - i):\n",
    "            if aa[j] > aa[j + 1]:\n",
    "                aa[j], aa[j + 1] = aa[j + 1], aa[j]\n",
    "    j = 0\n",
    "    for i in range(len(a)):\n",
    "        if a[i] != -1:\n",
    "            a[i] = aa[j]\n",
    "            j = j + 1\n",
    "    \n",
    "    return a"
   ]
  },
  {
   "cell_type": "code",
   "execution_count": 11,
   "metadata": {},
   "outputs": [],
   "source": [
    "def sortByHeight(a):\n",
    "    SortedList = sorted([i for i in a if i > 0])\n",
    "    print(SortedList)\n",
    "    for i, v in enumerate(a):\n",
    "        if v == -1:\n",
    "            SortedList.insert(i, v)\n",
    "    return SortedList"
   ]
  },
  {
   "cell_type": "code",
   "execution_count": null,
   "metadata": {},
   "outputs": [],
   "source": []
  }
 ],
 "metadata": {
  "kernelspec": {
   "display_name": "Alg",
   "language": "python",
   "name": "alg"
  },
  "language_info": {
   "codemirror_mode": {
    "name": "ipython",
    "version": 3
   },
   "file_extension": ".py",
   "mimetype": "text/x-python",
   "name": "python",
   "nbconvert_exporter": "python",
   "pygments_lexer": "ipython3",
   "version": "3.7.3"
  }
 },
 "nbformat": 4,
 "nbformat_minor": 2
}
