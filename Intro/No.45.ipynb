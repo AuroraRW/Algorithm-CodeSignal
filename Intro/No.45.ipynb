{
 "cells": [
  {
   "cell_type": "markdown",
   "metadata": {},
   "source": [
    "### buildPalindrome\n",
    "Given a string, find the shortest possible string which can be achieved by adding characters to the end of initial string to make it a palindrome.\n",
    "\n",
    "Example\n",
    "\n",
    "For st = \"abcdc\", the output should be\n",
    "buildPalindrome(st) = \"abcdcba\".\n",
    "\n",
    "Input/Output\n",
    "\n",
    "    [execution time limit] 4 seconds (py3)\n",
    "\n",
    "    [input] string st\n",
    "\n",
    "    A string consisting of lowercase English letters.\n",
    "\n",
    "    Guaranteed constraints:\n",
    "    3 ≤ st.length ≤ 10.\n",
    "\n",
    "    [output] string\n"
   ]
  },
  {
   "cell_type": "code",
   "execution_count": 14,
   "metadata": {},
   "outputs": [],
   "source": [
    "def isPalindrome(s):\n",
    "    return s == s[::-1]\n",
    "\n",
    "\n",
    "def buildPalindrome(st):\n",
    "    palindrome = ''\n",
    "    for i in range(len(st)):\n",
    "        potentialPalindrome = st[i:]\n",
    "        if(isPalindrome(potentialPalindrome)):\n",
    "            palindrome = potentialPalindrome\n",
    "            if (len(st) == len(palindrome)):\n",
    "                return palindrome\n",
    "            break\n",
    "    return st + st[:i][::-1]"
   ]
  },
  {
   "cell_type": "code",
   "execution_count": 15,
   "metadata": {},
   "outputs": [],
   "source": [
    "def buildPalindrome(st):\n",
    "    for i in range(0,len(st)):\n",
    "        if(st[i:len(st)] == st[i:len(st)][::-1]):\n",
    "            return st[0:i] + st[i:len(st)] + st[0:i][::-1]"
   ]
  },
  {
   "cell_type": "code",
   "execution_count": null,
   "metadata": {},
   "outputs": [],
   "source": []
  }
 ],
 "metadata": {
  "kernelspec": {
   "display_name": "Python 3",
   "language": "python",
   "name": "python3"
  },
  "language_info": {
   "codemirror_mode": {
    "name": "ipython",
    "version": 3
   },
   "file_extension": ".py",
   "mimetype": "text/x-python",
   "name": "python",
   "nbconvert_exporter": "python",
   "pygments_lexer": "ipython3",
   "version": "3.7.3"
  }
 },
 "nbformat": 4,
 "nbformat_minor": 2
}
