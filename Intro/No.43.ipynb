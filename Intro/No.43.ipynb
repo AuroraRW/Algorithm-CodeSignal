{
 "cells": [
  {
   "cell_type": "markdown",
   "metadata": {},
   "source": [
    "### isBeautifulString\n",
    "A string is said to be beautiful if each letter in the string appears at most as many times as the previous letter in the alphabet within the string; ie: b occurs no more times than a; c occurs no more times than b; etc.\n",
    "\n",
    "Given a string, check whether it is beautiful.\n",
    "\n",
    "Example\n",
    "\n",
    "    For inputString = \"bbbaacdafe\", the output should be isBeautifulString(inputString) = true.\n",
    "\n",
    "    This string contains 3 as, 3 bs, 1 c, 1 d, 1 e, and 1 f (and 0 of every other letter), so since there aren't any letters that appear more frequently than the previous letter, this string qualifies as beautiful.\n",
    "\n",
    "    For inputString = \"aabbb\", the output should be isBeautifulString(inputString) = false.\n",
    "\n",
    "    Since there are more bs than as, this string is not beautiful.\n",
    "\n",
    "    For inputString = \"bbc\", the output should be isBeautifulString(inputString) = false.\n",
    "\n",
    "    Although there are more bs than cs, this string is not beautiful because there are no as, so therefore there are more bs than as.\n",
    "\n",
    "Input/Output\n",
    "\n",
    "    [execution time limit] 4 seconds (py3)\n",
    "\n",
    "    [input] string inputString\n",
    "\n",
    "    A string of lowercase English letters.\n",
    "\n",
    "    Guaranteed constraints:\n",
    "    3 ≤ inputString.length ≤ 50.\n",
    "\n",
    "    [output] boolean\n",
    "        Return true if the string is beautiful, false otherwise.\n"
   ]
  },
  {
   "cell_type": "code",
   "execution_count": 1,
   "metadata": {},
   "outputs": [],
   "source": [
    "def isBeautifulString(inputString):\n",
    "    from collections import Counter\n",
    "    d = dict(Counter(inputString))\n",
    "    k = list(d.keys())\n",
    "    k.sort()\n",
    "    if ord(k[len(k) - 1]) - ord('a') != len(k) - 1:\n",
    "        return False\n",
    "    for i in range(len(k) - 1):\n",
    "        if d[k[i]] < d[k[i + 1]]:\n",
    "            return False\n",
    "    return True"
   ]
  },
  {
   "cell_type": "code",
   "execution_count": null,
   "metadata": {},
   "outputs": [],
   "source": [
    "def isBeautifulString(inputString):\n",
    "\n",
    "    r = [inputString.count(i) for i in string.ascii_lowercase]\n",
    "    \n",
    "    return r[::-1] == sorted(r)"
   ]
  }
 ],
 "metadata": {
  "kernelspec": {
   "display_name": "Alg",
   "language": "python",
   "name": "alg"
  },
  "language_info": {
   "codemirror_mode": {
    "name": "ipython",
    "version": 3
   },
   "file_extension": ".py",
   "mimetype": "text/x-python",
   "name": "python",
   "nbconvert_exporter": "python",
   "pygments_lexer": "ipython3",
   "version": "3.7.3"
  }
 },
 "nbformat": 4,
 "nbformat_minor": 2
}
