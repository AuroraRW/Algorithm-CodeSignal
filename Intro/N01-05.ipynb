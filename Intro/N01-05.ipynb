{
 "cells": [
  {
   "cell_type": "markdown",
   "metadata": {},
   "source": [
    "### No.01 Write a function that returns the sum of two numbers.\n",
    "\n",
    "Example\n",
    "\n",
    "For param1 = 1 and param2 = 2, the output should be\n",
    "add(param1, param2) = 3.\n",
    "\n",
    "Input/Output  \n",
    "[execution time limit] 4 seconds (py3) \n",
    "\n",
    "[input] integer param1  \n",
    "\n",
    "Guaranteed constraints:  \n",
    "-1000 ≤ param1 ≤ 1000.  \n",
    "\n",
    "[input] integer param2  \n",
    "Guaranteed constraints:  \n",
    "-1000 ≤ param2 ≤ 1000.  \n",
    "\n",
    "[output] integer  \n",
    "The sum of the two inputs.  "
   ]
  },
  {
   "cell_type": "code",
   "execution_count": 1,
   "metadata": {},
   "outputs": [],
   "source": [
    "def add(param1, param2):\n",
    "    return param1 + param2"
   ]
  },
  {
   "cell_type": "markdown",
   "metadata": {},
   "source": [
    "### No.02 Given a year, return the century it is in. The first century spans from the year 1 up to and including the year 100, the second - from the year 101 up to and including the year 200, etc.\n",
    "\n",
    "Example\n",
    "\n",
    "    For year = 1905, the output should be\n",
    "    centuryFromYear(year) = 20;\n",
    "    For year = 1700, the output should be\n",
    "    centuryFromYear(year) = 17.\n",
    "\n",
    "Input/Output\n",
    "\n",
    "    [execution time limit] 4 seconds (py3)\n",
    "\n",
    "    [input] integer year\n",
    "\n",
    "    A positive integer, designating the year.\n",
    "\n",
    "    Guaranteed constraints:\n",
    "    1 ≤ year ≤ 2005.\n",
    "\n",
    "    [output] integer\n",
    "        The number of the century the year is in.\n"
   ]
  },
  {
   "cell_type": "code",
   "execution_count": 2,
   "metadata": {},
   "outputs": [],
   "source": [
    "def centuryFromYear(year):\n",
    "    return ((year - 1) // 100) + 1"
   ]
  },
  {
   "cell_type": "code",
   "execution_count": 3,
   "metadata": {},
   "outputs": [],
   "source": [
    "def centuryFromYear(year):\n",
    "    return math.ceil(year/100)"
   ]
  },
  {
   "cell_type": "markdown",
   "metadata": {},
   "source": [
    "### No.03 Given the string, check if it is a palindrome.\n",
    "\n",
    "Example\n",
    "\n",
    "    For inputString = \"aabaa\", the output should be\n",
    "    checkPalindrome(inputString) = true;\n",
    "    For inputString = \"abac\", the output should be\n",
    "    checkPalindrome(inputString) = false;\n",
    "    For inputString = \"a\", the output should be\n",
    "    checkPalindrome(inputString) = true.\n",
    "\n",
    "Input/Output\n",
    "\n",
    "    [execution time limit] 4 seconds (py3)\n",
    "\n",
    "    [input] string inputString\n",
    "\n",
    "    A non-empty string consisting of lowercase characters.\n",
    "\n",
    "    Guaranteed constraints:\n",
    "    1 ≤ inputString.length ≤ 105.\n",
    "\n",
    "    [output] boolean\n",
    "        true if inputString is a palindrome, false otherwise.\n"
   ]
  },
  {
   "cell_type": "code",
   "execution_count": 19,
   "metadata": {},
   "outputs": [],
   "source": [
    "# convert string to list, then use reverse() function\n",
    "def checkPalindrome(inputString):\n",
    "    temp = list(inputString)\n",
    "    temp.reverse()\n",
    "    outputString = ''.join(temp)\n",
    "    if inputString == outputString:\n",
    "        return True\n",
    "    else:\n",
    "        return False"
   ]
  },
  {
   "cell_type": "code",
   "execution_count": 5,
   "metadata": {},
   "outputs": [],
   "source": [
    "# use ~\n",
    "def checkPalindrome(inputString):\n",
    "    for i in range(len(inputString)):\n",
    "        if inputString[i] != inputString[~i]:\n",
    "            return False\n",
    "    return True"
   ]
  },
  {
   "cell_type": "code",
   "execution_count": 20,
   "metadata": {},
   "outputs": [],
   "source": [
    "# use reversed() function\n",
    "def checkPalindrome(inputString):\n",
    "    return inputString== ''.join(reversed(inputString))"
   ]
  },
  {
   "cell_type": "code",
   "execution_count": 21,
   "metadata": {},
   "outputs": [],
   "source": [
    "def checkPalindrome(inputString):\n",
    "    return inputString== inputString[::-1]"
   ]
  },
  {
   "cell_type": "markdown",
   "metadata": {},
   "source": [
    "### No.04 Given an array of integers, find the pair of adjacent elements that has the largest product and return that product.\n",
    "\n",
    "Example\n",
    "\n",
    "For inputArray = [3, 6, -2, -5, 7, 3], the output should be\n",
    "adjacentElementsProduct(inputArray) = 21.\n",
    "\n",
    "7 and 3 produce the largest product.\n",
    "\n",
    "Input/Output\n",
    "\n",
    "    [execution time limit] 4 seconds (py3)\n",
    "\n",
    "    [input] array.integer inputArray\n",
    "\n",
    "    An array of integers containing at least two elements.\n",
    "\n",
    "    Guaranteed constraints:\n",
    "    2 ≤ inputArray.length ≤ 10,\n",
    "    -1000 ≤ inputArray[i] ≤ 1000.\n",
    "\n",
    "    [output] integer\n",
    "        The largest product of adjacent elements.\n"
   ]
  },
  {
   "cell_type": "code",
   "execution_count": 6,
   "metadata": {},
   "outputs": [],
   "source": [
    "def adjacentElementsProduct(inputArray):\n",
    "    Maxium = -1000\n",
    "    for i in range(len(inputArray) - 1):\n",
    "        if inputArray[i] * inputArray[i + 1] > Maxium:\n",
    "            Maxium = inputArray[i] * inputArray[i + 1]\n",
    "    return Maxium"
   ]
  },
  {
   "cell_type": "code",
   "execution_count": 7,
   "metadata": {},
   "outputs": [],
   "source": [
    "def adjacentElementsProduct(inputArray):\n",
    "    Maxium = float('-inf')\n",
    "    for (a, b) in zip(inputArray, inputArray[1:]):\n",
    "        Maxium = max(Maxium, a * b)\n",
    "    return Maxium"
   ]
  },
  {
   "cell_type": "code",
   "execution_count": 8,
   "metadata": {},
   "outputs": [],
   "source": [
    "def adjacentElementsProduct(inputArray):\n",
    "    return max([inputArray[i] * inputArray[i + 1] for i in range(len(inputArray) - 1)])"
   ]
  },
  {
   "cell_type": "markdown",
   "metadata": {},
   "source": [
    "### No.05 Below we will define an n-interesting polygon. Your task is to find the area of a polygon for a given n.\n",
    "\n",
    "A 1-interesting polygon is just a square with a side of length 1. An n-interesting polygon is obtained by taking the n - 1-interesting polygon and appending 1-interesting polygons to its rim, side by side. You can see the 1-, 2-, 3- and 4-interesting polygons in the picture below.  \n",
    "\n",
    "![title](P05-1.png)  \n",
    "\n",
    "Example\n",
    "\n",
    "    For n = 2, the output should be\n",
    "    shapeArea(n) = 5;\n",
    "    For n = 3, the output should be\n",
    "    shapeArea(n) = 13.\n",
    "\n",
    "Input/Output\n",
    "\n",
    "    [execution time limit] 4 seconds (py3)\n",
    "\n",
    "    [input] integer n\n",
    "\n",
    "    Guaranteed constraints:\n",
    "    1 ≤ n < 104.\n",
    "\n",
    "    [output] integer\n",
    "        The area of the n-interesting polygon.\n"
   ]
  },
  {
   "cell_type": "code",
   "execution_count": 10,
   "metadata": {},
   "outputs": [
    {
     "data": {
      "text/plain": [
       "'\\ndef shapeArea(n):\\n    if n == 1:\\n        return 1\\n    else:\\n        return 4 * n - 4 + shapeArea(n - 1)\\n'"
      ]
     },
     "execution_count": 10,
     "metadata": {},
     "output_type": "execute_result"
    }
   ],
   "source": [
    "def shapeArea(n):\n",
    "    return 2 * (n - 1) * n + 1\n",
    "\n",
    "\n",
    "\"\"\"\n",
    " 1+4(2-1)+4(3-1)+4(4-1)+...+4(n-1)\n",
    "=1+4(2+3+4+...+n-(n-1))\n",
    "\n",
    "\"\"\"\n",
    "\n",
    "\"\"\"\n",
    "def shapeArea(n):\n",
    "    if n == 1:\n",
    "        return 1\n",
    "    else:\n",
    "        return 4 * n - 4 + shapeArea(n - 1)\n",
    "\"\"\""
   ]
  },
  {
   "cell_type": "code",
   "execution_count": null,
   "metadata": {},
   "outputs": [],
   "source": []
  }
 ],
 "metadata": {
  "kernelspec": {
   "display_name": "Python 3",
   "language": "python",
   "name": "python3"
  },
  "language_info": {
   "codemirror_mode": {
    "name": "ipython",
    "version": 3
   },
   "file_extension": ".py",
   "mimetype": "text/x-python",
   "name": "python",
   "nbconvert_exporter": "python",
   "pygments_lexer": "ipython3",
   "version": "3.7.3"
  }
 },
 "nbformat": 4,
 "nbformat_minor": 2
}
