{
 "cells": [
  {
   "cell_type": "markdown",
   "metadata": {},
   "source": [
    "### Matrix Elements Sum\n",
    "After becoming famous, the CodeBots decided to move into a new building together. Each of the rooms has a different cost, and some of them are free, but there's a rumour that all the free rooms are haunted! Since the CodeBots are quite superstitious, they refuse to stay in any of the free rooms, or any of the rooms below any of the free rooms.\n",
    "\n",
    "Given matrix, a rectangular matrix of integers, where each value represents the cost of the room, your task is to return the total sum of all rooms that are suitable for the CodeBots (ie: add up all the values that don't appear below a 0).\n",
    "\n",
    "Example\n",
    "\n",
    "    For\n",
    "\n",
    "    matrix = [[0, 1, 1, 2], \n",
    "              [0, 5, 0, 0], \n",
    "              [2, 0, 3, 3]]\n",
    "\n",
    "    the output should be\n",
    "    matrixElementsSum(matrix) = 9.\n",
    "![title](08-1.png)\n",
    "There are several haunted rooms, so we'll disregard them as well as any rooms beneath them. Thus, the answer is 1 + 5 + 1 + 2 = 9.\n",
    "\n",
    "For\n",
    "\n",
    "matrix = [[1, 1, 1, 0], \n",
    "          [0, 5, 0, 1], \n",
    "          [2, 1, 3, 10]]\n",
    "\n",
    "the output should be\n",
    "matrixElementsSum(matrix) = 9.\n",
    "![title](08-2.png)\n",
    "Note that the free room in the final column makes the full column unsuitable for bots (not just the room directly beneath it). Thus, the answer is 1 + 1 + 1 + 5 + 1 = 9.\n",
    "\n",
    "Input/Output\n",
    "\n",
    "    [execution time limit] 4 seconds (py3)\n",
    "\n",
    "    [input] array.array.integer matrix\n",
    "\n",
    "    A 2-dimensional array of integers representing the cost of each room in the building. A value of 0 indicates that the room is haunted.\n",
    "\n",
    "    Guaranteed constraints:\n",
    "    1 ≤ matrix.length ≤ 5,\n",
    "    1 ≤ matrix[i].length ≤ 5,\n",
    "    0 ≤ matrix[i][j] ≤ 10.\n",
    "\n",
    "    [output] integer\n",
    "        The total price of all the rooms that are suitable for the CodeBots to live in.\n"
   ]
  },
  {
   "cell_type": "code",
   "execution_count": 2,
   "metadata": {},
   "outputs": [],
   "source": [
    "def matrixElementsSum(matrix):\n",
    "    # i is column, j is row\n",
    "    sum = 0\n",
    "    for i in range(len(matrix[0])):\n",
    "        for j in range(len(matrix)):\n",
    "            if matrix[j][i] == 0:\n",
    "                break\n",
    "            sum = sum + matrix[j][i]\n",
    "    return sum"
   ]
  },
  {
   "cell_type": "code",
   "execution_count": null,
   "metadata": {},
   "outputs": [],
   "source": []
  }
 ],
 "metadata": {
  "kernelspec": {
   "display_name": "Alg",
   "language": "python",
   "name": "alg"
  },
  "language_info": {
   "codemirror_mode": {
    "name": "ipython",
    "version": 3
   },
   "file_extension": ".py",
   "mimetype": "text/x-python",
   "name": "python",
   "nbconvert_exporter": "python",
   "pygments_lexer": "ipython3",
   "version": "3.7.3"
  }
 },
 "nbformat": 4,
 "nbformat_minor": 2
}
