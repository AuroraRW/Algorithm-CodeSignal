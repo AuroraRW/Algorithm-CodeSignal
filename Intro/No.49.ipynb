{
 "cells": [
  {
   "cell_type": "markdown",
   "metadata": {},
   "source": [
    "### lineEncoding\n",
    "Given a string, return its encoding defined as follows:\n",
    "\n",
    "    First, the string is divided into the least possible number of disjoint substrings consisting of identical characters\n",
    "        for example, \"aabbbc\" is divided into [\"aa\", \"bbb\", \"c\"]\n",
    "    Next, each substring with length greater than one is replaced with a concatenation of its length and the repeating character\n",
    "        for example, substring \"bbb\" is replaced by \"3b\"\n",
    "    Finally, all the new strings are concatenated together in the same order and a new string is returned.\n",
    "\n",
    "Example\n",
    "\n",
    "For s = \"aabbbc\", the output should be\n",
    "lineEncoding(s) = \"2a3bc\".\n",
    "\n",
    "Input/Output\n",
    "\n",
    "    [execution time limit] 4 seconds (py3)\n",
    "\n",
    "    [input] string s\n",
    "\n",
    "    String consisting of lowercase English letters.\n",
    "\n",
    "    Guaranteed constraints:\n",
    "    4 ≤ s.length ≤ 15.\n",
    "\n",
    "    [output] string\n",
    "        Encoded version of s.\n"
   ]
  },
  {
   "cell_type": "code",
   "execution_count": 1,
   "metadata": {},
   "outputs": [],
   "source": [
    "def lineEncoding(s):\n",
    "    start = 0\n",
    "    StringToList = []\n",
    "    result = ''\n",
    "    for i in range(len(s)-1):\n",
    "        if ord(s[i]) - ord(s[i + 1]) != 0:\n",
    "            StringToList.append(s[start: i + 1])\n",
    "            start = i + 1\n",
    "    StringToList.append(s[start:])\n",
    "    for i in StringToList:\n",
    "        if len(i) == 1:\n",
    "            result = result +i[0]\n",
    "        else:    \n",
    "            result = result + str(len(i))+i[0]\n",
    "        \n",
    "    return result"
   ]
  },
  {
   "cell_type": "code",
   "execution_count": 2,
   "metadata": {},
   "outputs": [],
   "source": [
    "from itertools import groupby\n",
    "def lineEncoding(s):\n",
    "    x = ''\n",
    "    for k,g in groupby(s):\n",
    "        y = len((list(g)))\n",
    "        if y==1:\n",
    "            x += k\n",
    "        else:\n",
    "            x += str(y) + k\n",
    "    return x"
   ]
  },
  {
   "cell_type": "code",
   "execution_count": null,
   "metadata": {},
   "outputs": [],
   "source": []
  }
 ],
 "metadata": {
  "kernelspec": {
   "display_name": "Alg",
   "language": "python",
   "name": "alg"
  },
  "language_info": {
   "codemirror_mode": {
    "name": "ipython",
    "version": 3
   },
   "file_extension": ".py",
   "mimetype": "text/x-python",
   "name": "python",
   "nbconvert_exporter": "python",
   "pygments_lexer": "ipython3",
   "version": "3.7.3"
  }
 },
 "nbformat": 4,
 "nbformat_minor": 2
}
