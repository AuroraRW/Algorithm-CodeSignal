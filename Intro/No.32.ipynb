{
 "cells": [
  {
   "cell_type": "markdown",
   "metadata": {},
   "source": [
    "### absoluteValuesSumMinimization\n",
    "Given a sorted array of integers a, your task is to determine which element of a is closest to all other values of a. In other words, find the element x in a, which minimizes the following sum:\n",
    "abs(a[0] - x) + abs(a[1] - x) + ... + abs(a[a.length - 1] - x)\n",
    "(where abs denotes the absolute value)\n",
    "\n",
    "If there are several possible answers, output the smallest one.\n",
    "\n",
    "Example\n",
    "\n",
    "    For a = [2, 4, 7], the output should be absoluteValuesSumMinimization(a) = 4.\n",
    "        for x = 2, the value will be abs(2 - 2) + abs(4 - 2) + abs(7 - 2) = 7.\n",
    "        for x = 4, the value will be abs(2 - 4) + abs(4 - 4) + abs(7 - 4) = 5.\n",
    "        for x = 7, the value will be abs(2 - 7) + abs(4 - 7) + abs(7 - 7) = 8.\n",
    "\n",
    "    The lowest possible value is when x = 4, so the answer is 4.\n",
    "\n",
    "    For a = [2, 3], the output should be absoluteValuesSumMinimization(a) = 2.\n",
    "        for x = 2, the value will be abs(2 - 2) + abs(3 - 2) = 1.\n",
    "        for x = 3, the value will be abs(2 - 3) + abs(3 - 3) = 1.\n",
    "\n",
    "    Because there is a tie, the smallest x between x = 2 and x = 3 is the answer.\n",
    "\n",
    "Input/Output\n",
    "\n",
    "    [execution time limit] 4 seconds (py3)\n",
    "\n",
    "    [input] array.integer a\n",
    "\n",
    "    A non-empty array of integers, sorted in ascending order.\n",
    "\n",
    "    Guaranteed constraints:\n",
    "    1 ≤ a.length ≤ 1000,\n",
    "    -106 ≤ a[i] ≤ 106.\n",
    "\n",
    "    [output] integer\n",
    "        An integer representing the element from a that minimizes the sum of its absolute differences with all other elements.\n"
   ]
  },
  {
   "cell_type": "code",
   "execution_count": 15,
   "metadata": {},
   "outputs": [],
   "source": [
    "def absoluteValuesSumMinimization(a):\n",
    "    result = [sum(map(abs, [x - i for x in a])) for i in a]\n",
    "    index = result.index(min(result))\n",
    "    return a[index]"
   ]
  },
  {
   "cell_type": "code",
   "execution_count": 16,
   "metadata": {},
   "outputs": [],
   "source": [
    "#sorted array\n",
    "def absoluteValuesSumMinimization(A):\n",
    "    return A[(len(A)-1)//2]"
   ]
  },
  {
   "cell_type": "code",
   "execution_count": null,
   "metadata": {},
   "outputs": [],
   "source": []
  }
 ],
 "metadata": {
  "kernelspec": {
   "display_name": "Alg",
   "language": "python",
   "name": "alg"
  }
 },
 "nbformat": 4,
 "nbformat_minor": 2
}
