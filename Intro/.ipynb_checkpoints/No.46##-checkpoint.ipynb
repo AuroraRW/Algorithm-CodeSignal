{
 "cells": [
  {
   "cell_type": "markdown",
   "metadata": {},
   "source": [
    "### Elections Winners\n",
    "Elections are in progress!\n",
    "\n",
    "Given an array of the numbers of votes given to each of the candidates so far, and an integer k equal to the number of voters who haven't cast their vote yet, find the number of candidates who still have a chance to win the election.\n",
    "\n",
    "The winner of the election must secure strictly more votes than any other candidate. If two or more candidates receive the same (maximum) number of votes, assume there is no winner at all.\n",
    "\n",
    "Example\n",
    "\n",
    "For votes = [2, 3, 5, 2] and k = 3, the output should be\n",
    "electionsWinners(votes, k) = 2.\n",
    "\n",
    "    The first candidate got 2 votes. Even if all of the remaining 3 candidates vote for him, he will still have only 5 votes, i.e. the same number as the third candidate, so there will be no winner.\n",
    "    The second candidate can win if all the remaining candidates vote for him (3 + 3 = 6 > 5).\n",
    "    The third candidate can win even if none of the remaining candidates vote for him. For example, if each of the remaining voters cast their votes for each of his opponents, he will still be the winner (the votes array will thus be [3, 4, 5, 3]).\n",
    "    The last candidate can't win no matter what (for the same reason as the first candidate).\n",
    "\n",
    "Thus, only 2 candidates can win (the second and the third), which is the answer.\n",
    "\n",
    "Input/Output\n",
    "\n",
    "    [execution time limit] 4 seconds (py3)\n",
    "\n",
    "    [input] array.integer votes\n",
    "\n",
    "    A non-empty array of non-negative integers. Its ith element denotes the number of votes cast for the ith candidate.\n",
    "\n",
    "    Guaranteed constraints:\n",
    "    4 ≤ votes.length ≤ 105,\n",
    "    0 ≤ votes[i] ≤ 104.\n",
    "\n",
    "    [input] integer k\n",
    "\n",
    "    The number of voters who haven't cast their vote yet.\n",
    "\n",
    "    Guaranteed constraints:\n",
    "    0 ≤ k ≤ 105.\n",
    "\n",
    "    [output] integer\n"
   ]
  },
  {
   "cell_type": "code",
   "execution_count": 11,
   "metadata": {},
   "outputs": [],
   "source": [
    "#???\n",
    "def electionsWinners(votes, k):\n",
    "    maximo = max(votes)\n",
    "    long = len(votes)\n",
    "\n",
    "    ganar = 0\n",
    "    maximos = 0\n",
    "\n",
    "    for i in range(long):\n",
    "        if (votes[i] + k) > maximo:\n",
    "            ganar += 1\n",
    "        if votes[i] == maximo:\n",
    "            maximos += 1\n",
    "\n",
    "    if ((maximos > 1) & (ganar == 0)):\n",
    "        return 0\n",
    "    elif ((maximos == 1) & (ganar == 0)):\n",
    "        return 1\n",
    "    else:\n",
    "        return ganar"
   ]
  },
  {
   "cell_type": "code",
   "execution_count": 12,
   "metadata": {},
   "outputs": [],
   "source": [
    "#???\n",
    "def electionsWinners(v, k):\n",
    "    m = max(v)\n",
    "    return int(v.count(m) == 1) if k == 0 else len([n for n in v if m < n + k])"
   ]
  },
  {
   "cell_type": "code",
   "execution_count": null,
   "metadata": {},
   "outputs": [],
   "source": []
  }
 ],
 "metadata": {
  "kernelspec": {
   "display_name": "Alg",
   "language": "python",
   "name": "alg"
  },
  "language_info": {
   "codemirror_mode": {
    "name": "ipython",
    "version": 3
   },
   "file_extension": ".py",
   "mimetype": "text/x-python",
   "name": "python",
   "nbconvert_exporter": "python",
   "pygments_lexer": "ipython3",
   "version": "3.7.3"
  }
 },
 "nbformat": 4,
 "nbformat_minor": 2
}
