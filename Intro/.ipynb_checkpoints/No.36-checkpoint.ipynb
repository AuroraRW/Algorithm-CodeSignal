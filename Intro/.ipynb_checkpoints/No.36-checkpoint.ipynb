{
 "cells": [
  {
   "cell_type": "markdown",
   "metadata": {},
   "source": [
    "### differentSymblesNaive\n",
    "Given a string, find the number of different characters in it.\n",
    "\n",
    "Example\n",
    "\n",
    "For s = \"cabca\", the output should be\n",
    "differentSymbolsNaive(s) = 3.\n",
    "\n",
    "There are 3 different characters a, b and c.\n",
    "\n",
    "Input/Output\n",
    "\n",
    "    [execution time limit] 4 seconds (py3)\n",
    "\n",
    "    [input] string s\n",
    "\n",
    "    A string of lowercase English letters.\n",
    "\n",
    "    Guaranteed constraints:\n",
    "    3 ≤ s.length ≤ 1000.\n",
    "\n",
    "    [output] integer\n"
   ]
  },
  {
   "cell_type": "code",
   "execution_count": 1,
   "metadata": {},
   "outputs": [],
   "source": [
    "def differentSymbolsNaive(s):\n",
    "    return len(set(s))"
   ]
  },
  {
   "cell_type": "code",
   "execution_count": null,
   "metadata": {},
   "outputs": [],
   "source": []
  }
 ],
 "metadata": {
  "kernelspec": {
   "display_name": "Alg",
   "language": "python",
   "name": "alg"
  },
  "language_info": {
   "codemirror_mode": {
    "name": "ipython",
    "version": 3
   },
   "file_extension": ".py",
   "mimetype": "text/x-python",
   "name": "python",
   "nbconvert_exporter": "python",
   "pygments_lexer": "ipython3",
   "version": "3.7.3"
  }
 },
 "nbformat": 4,
 "nbformat_minor": 2
}
