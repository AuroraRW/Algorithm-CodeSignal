{
 "cells": [
  {
   "cell_type": "markdown",
   "metadata": {},
   "source": [
    "### Given the string, check if it is a palindrome.\n",
    "\n",
    "Example\n",
    "\n",
    "    For inputString = \"aabaa\", the output should be\n",
    "    checkPalindrome(inputString) = true;\n",
    "    For inputString = \"abac\", the output should be\n",
    "    checkPalindrome(inputString) = false;\n",
    "    For inputString = \"a\", the output should be\n",
    "    checkPalindrome(inputString) = true.\n",
    "\n",
    "Input/Output\n",
    "\n",
    "    [execution time limit] 4 seconds (py3)\n",
    "\n",
    "    [input] string inputString\n",
    "\n",
    "    A non-empty string consisting of lowercase characters.\n",
    "\n",
    "    Guaranteed constraints:\n",
    "    1 ≤ inputString.length ≤ 105.\n",
    "\n",
    "    [output] boolean\n",
    "        true if inputString is a palindrome, false otherwise.\n"
   ]
  },
  {
   "cell_type": "code",
   "execution_count": 1,
   "metadata": {},
   "outputs": [],
   "source": [
    "def checkPalindrome(inputString):\n",
    "    temp = list(inputString)\n",
    "    temp.reverse()\n",
    "    outputString = ''.join(temp)\n",
    "    if inputString == outputString:\n",
    "        return True\n",
    "    else:\n",
    "        return False"
   ]
  },
  {
   "cell_type": "code",
   "execution_count": 4,
   "metadata": {},
   "outputs": [],
   "source": [
    "def checkPalindrome(inputString):\n",
    "    for i in range(len(inputString)):\n",
    "        if inputString[i] != inputString[~i]:\n",
    "            return False\n",
    "    return True"
   ]
  },
  {
   "cell_type": "code",
   "execution_count": null,
   "metadata": {},
   "outputs": [],
   "source": []
  }
 ],
 "metadata": {
  "kernelspec": {
   "display_name": "Python 3",
   "language": "python",
   "name": "python3"
  },
  "language_info": {
   "codemirror_mode": {
    "name": "ipython",
    "version": 3
   },
   "file_extension": ".py",
   "mimetype": "text/x-python",
   "name": "python",
   "nbconvert_exporter": "python",
   "pygments_lexer": "ipython3",
   "version": "3.7.3"
  }
 },
 "nbformat": 4,
 "nbformat_minor": 2
}
