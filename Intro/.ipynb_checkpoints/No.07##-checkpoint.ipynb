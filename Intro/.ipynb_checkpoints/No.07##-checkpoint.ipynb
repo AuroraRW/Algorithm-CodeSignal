{
 "cells": [
  {
   "cell_type": "markdown",
   "metadata": {},
   "source": [
    "### No.7 Given a sequence of integers as an array, determine whether it is possible to obtain a strictly increasing sequence by removing no more than one element from the array.\n",
    "\n",
    "Note: sequence a0, a1, ..., an is considered to be a strictly increasing if a0 < a1 < ... < an. Sequence containing only one element is also considered to be strictly increasing.\n",
    "\n",
    "Example\n",
    "\n",
    "    For sequence = [1, 3, 2, 1], the output should be\n",
    "    almostIncreasingSequence(sequence) = false.\n",
    "\n",
    "    There is no one element in this array that can be removed in order to get a strictly increasing sequence.\n",
    "\n",
    "    For sequence = [1, 3, 2], the output should be\n",
    "    almostIncreasingSequence(sequence) = true.\n",
    "\n",
    "    You can remove 3 from the array to get the strictly increasing sequence [1, 2]. Alternately, you can remove 2 to get the strictly increasing sequence [1, 3].\n",
    "\n",
    "Input/Output\n",
    "\n",
    "    [execution time limit] 4 seconds (py3)\n",
    "\n",
    "    [input] array.integer sequence\n",
    "\n",
    "    Guaranteed constraints:\n",
    "    2 ≤ sequence.length ≤ 105,\n",
    "    -105 ≤ sequence[i] ≤ 105.\n",
    "\n",
    "    [output] boolean\n",
    "        Return true if it is possible to remove one element from the array in order to get a strictly increasing sequence, otherwise return false.\n"
   ]
  },
  {
   "cell_type": "code",
   "execution_count": 1,
   "metadata": {},
   "outputs": [],
   "source": [
    "def first_bad_pair(sequence):\n",
    "    \"\"\"Return the first index of a pair of elements where the earlier\n",
    "    element is not less than the later elements. If no such pair\n",
    "    exists, return -1.\"\"\"\n",
    "    for i in range(len(sequence) - 1):\n",
    "        if sequence[i] >= sequence[i + 1]:\n",
    "            return i\n",
    "    return -1\n",
    "\n",
    "def almostIncreasingSequence(sequence):\n",
    "    \"\"\"Return whether it is possible to obtain a strictly increasing\n",
    "    sequence by removing no more than one element from the array.\"\"\"\n",
    "    j = first_bad_pair(sequence)\n",
    "    if j == -1:\n",
    "        return True  # List is increasing\n",
    "    if first_bad_pair(sequence[j - 1:j] + sequence[j + 1:]) == -1:\n",
    "        return True  # Deleting earlier element makes increasing\n",
    "    if first_bad_pair(sequence[j:j + 1] + sequence[j + 2:]) == -1:\n",
    "        return True  # Deleting later element makes increasing\n",
    "    return False  # Deleting either does not make increasing"
   ]
  },
  {
   "cell_type": "code",
   "execution_count": null,
   "metadata": {},
   "outputs": [],
   "source": []
  }
 ],
 "metadata": {
  "kernelspec": {
   "display_name": "Python 3",
   "language": "python",
   "name": "python3"
  },
  "language_info": {
   "codemirror_mode": {
    "name": "ipython",
    "version": 3
   },
   "file_extension": ".py",
   "mimetype": "text/x-python",
   "name": "python",
   "nbconvert_exporter": "python",
   "pygments_lexer": "ipython3",
   "version": "3.7.3"
  }
 },
 "nbformat": 4,
 "nbformat_minor": 2
}
