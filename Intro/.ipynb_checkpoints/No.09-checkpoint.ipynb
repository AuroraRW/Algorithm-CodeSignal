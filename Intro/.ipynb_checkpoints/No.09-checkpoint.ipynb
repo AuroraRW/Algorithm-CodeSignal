{
 "cells": [
  {
   "cell_type": "markdown",
   "metadata": {},
   "source": [
    "### All Longest String\n",
    "Given an array of strings, return another array containing all of its longest strings.\n",
    "\n",
    "Example\n",
    "\n",
    "For inputArray = [\"aba\", \"aa\", \"ad\", \"vcd\", \"aba\"], the output should be\n",
    "allLongestStrings(inputArray) = [\"aba\", \"vcd\", \"aba\"].\n",
    "\n",
    "Input/Output\n",
    "\n",
    "    [execution time limit] 4 seconds (py3)\n",
    "\n",
    "    [input] array.string inputArray\n",
    "\n",
    "    A non-empty array.\n",
    "\n",
    "    Guaranteed constraints:\n",
    "    1 ≤ inputArray.length ≤ 10,\n",
    "    1 ≤ inputArray[i].length ≤ 10.\n",
    "\n",
    "    [output] array.string\n",
    "        Array of the longest strings, stored in the same order as in the inputArray.\n"
   ]
  },
  {
   "cell_type": "code",
   "execution_count": 1,
   "metadata": {},
   "outputs": [],
   "source": [
    "def allLongestStrings(inputArray):\n",
    "    Max = 0\n",
    "    for i in range(len(inputArray)):\n",
    "        if len(inputArray[i]) >= Max:\n",
    "            Max = len(inputArray[i])\n",
    "    outputArray = []\n",
    "    for string in inputArray:\n",
    "        if len(string) == Max:\n",
    "            outputArray.append(string)\n",
    "    return outputArray"
   ]
  },
  {
   "cell_type": "code",
   "execution_count": 11,
   "metadata": {},
   "outputs": [],
   "source": [
    "def allLongestStrings(inputArray):  \n",
    "    return [i for i in inputArray if len(i) == max(map(len, inputArray))]"
   ]
  },
  {
   "cell_type": "code",
   "execution_count": null,
   "metadata": {},
   "outputs": [],
   "source": []
  }
 ],
 "metadata": {
  "kernelspec": {
   "display_name": "Python 3",
   "language": "python",
   "name": "python3"
  },
  "language_info": {
   "codemirror_mode": {
    "name": "ipython",
    "version": 3
   },
   "file_extension": ".py",
   "mimetype": "text/x-python",
   "name": "python",
   "nbconvert_exporter": "python",
   "pygments_lexer": "ipython3",
   "version": "3.7.3"
  }
 },
 "nbformat": 4,
 "nbformat_minor": 2
}
