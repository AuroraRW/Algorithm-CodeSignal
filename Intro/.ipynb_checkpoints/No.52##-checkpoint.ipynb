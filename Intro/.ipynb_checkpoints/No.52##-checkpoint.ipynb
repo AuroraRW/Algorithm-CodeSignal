{
 "cells": [
  {
   "cell_type": "code",
   "execution_count": null,
   "metadata": {},
   "outputs": [],
   "source": []
  },
  {
   "cell_type": "code",
   "execution_count": 1,
   "metadata": {},
   "outputs": [
    {
     "ename": "SyntaxError",
     "evalue": "invalid syntax (<ipython-input-1-eb541d2899fd>, line 5)",
     "output_type": "error",
     "traceback": [
      "\u001b[1;36m  File \u001b[1;32m\"<ipython-input-1-eb541d2899fd>\"\u001b[1;36m, line \u001b[1;32m5\u001b[0m\n\u001b[1;33m    for idef longestWord(text):\u001b[0m\n\u001b[1;37m                       ^\u001b[0m\n\u001b[1;31mSyntaxError\u001b[0m\u001b[1;31m:\u001b[0m invalid syntax\n"
     ]
    }
   ],
   "source": [
    "def longestWord(text):\n",
    "\n",
    "    lista = list(text)\n",
    "    long = len(lista)\n",
    "\n",
    "    #print(lista)\n",
    "\n",
    "    #Larger size of word\n",
    "    larger = 0\n",
    "    #Current Size of word\n",
    "    currentSize = 0\n",
    "    #Store current word\n",
    "    word = []\n",
    "    #Store max size word\n",
    "    wordMax = []\n",
    "\n",
    "    for i in range(long):\n",
    "        if lista[i].isalpha():\n",
    "            print(lista[i],' is a word')\n",
    "            currentSize += 1\n",
    "            print(currentSize,'-thm letter in word')\n",
    "            word.append(lista[i])\n",
    "            print('Appended')\n",
    "        else:\n",
    "            print(lista[i],' is NOT a word')\n",
    "            if currentSize > larger:\n",
    "                print('The previous word was', ''.join(word) ,'the larger. Of size ',currentSize)\n",
    "                larger = currentSize\n",
    "                wordMax = list(word)\n",
    "\n",
    "            currentSize = 0\n",
    "            word = []\n",
    "    #We get to the end\n",
    "    if currentSize > larger:\n",
    "        print('The previous word was', ''.join(word) ,'the larger. Of size ',currentSize)\n",
    "        larger = currentSize\n",
    "        wordMax = list(word)\n",
    "        word = []\n",
    "    return ''.join(wordMax), v in enumerate(ListText):\n",
    "        if maximum < len(v):\n",
    "            index = i\n",
    "    \n",
    "    return ListText[i]"
   ]
  },
  {
   "cell_type": "code",
   "execution_count": null,
   "metadata": {},
   "outputs": [],
   "source": []
  }
 ],
 "metadata": {
  "kernelspec": {
   "display_name": "Alg",
   "language": "python",
   "name": "alg"
  }
 },
 "nbformat": 4,
 "nbformat_minor": 2
}
