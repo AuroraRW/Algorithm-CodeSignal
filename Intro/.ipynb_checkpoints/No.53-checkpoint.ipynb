{
 "cells": [
  {
   "cell_type": "markdown",
   "metadata": {},
   "source": [
    "### Valid Time\n",
    "Check if the given string is a correct time representation of the 24-hour clock.\n",
    "\n",
    "Example\n",
    "\n",
    "    For time = \"13:58\", the output should be\n",
    "    validTime(time) = true;\n",
    "    For time = \"25:51\", the output should be\n",
    "    validTime(time) = false;\n",
    "    For time = \"02:76\", the output should be\n",
    "    validTime(time) = false.\n",
    "\n",
    "Input/Output\n",
    "\n",
    "    [execution time limit] 4 seconds (py3)\n",
    "\n",
    "    [input] string time\n",
    "\n",
    "    A string representing time in HH:MM format. It is guaranteed that the first two characters, as well as the last two characters, are digits.\n",
    "\n",
    "    [output] boolean\n",
    "        true if the given representation is correct, false otherwise.\n"
   ]
  },
  {
   "cell_type": "code",
   "execution_count": 1,
   "metadata": {},
   "outputs": [],
   "source": [
    "def validTime(time):\n",
    "    ListTime=time.split(':')\n",
    "    hour=int(ListTime[0])\n",
    "    minute=int(ListTime[1])\n",
    "    if hour<0 or hour>=24:\n",
    "        return False\n",
    "    if minute<0 or minute>=60:\n",
    "        return False\n",
    "    return True"
   ]
  },
  {
   "cell_type": "code",
   "execution_count": null,
   "metadata": {},
   "outputs": [],
   "source": [
    "def validTime(time):\n",
    "    h,m=map(int,time.split(\":\"))\n",
    "    return 0<=h<24 and 0<=m<60"
   ]
  }
 ],
 "metadata": {
  "kernelspec": {
   "display_name": "Alg",
   "language": "python",
   "name": "alg"
  },
  "language_info": {
   "codemirror_mode": {
    "name": "ipython",
    "version": 3
   },
   "file_extension": ".py",
   "mimetype": "text/x-python",
   "name": "python",
   "nbconvert_exporter": "python",
   "pygments_lexer": "ipython3",
   "version": "3.7.3"
  }
 },
 "nbformat": 4,
 "nbformat_minor": 2
}
