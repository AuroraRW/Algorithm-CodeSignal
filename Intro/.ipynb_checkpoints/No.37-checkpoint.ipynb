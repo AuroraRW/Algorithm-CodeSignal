{
 "cells": [
  {
   "cell_type": "markdown",
   "metadata": {},
   "source": [
    "### arrayMaxConsecutiveSum\n",
    "Given array of integers, find the maximal possible sum of some of its k consecutive elements.\n",
    "\n",
    "Example\n",
    "\n",
    "For inputArray = [2, 3, 5, 1, 6] and k = 2, the output should be\n",
    "arrayMaxConsecutiveSum(inputArray, k) = 8.\n",
    "All possible sums of 2 consecutive elements are:\n",
    "\n",
    "    2 + 3 = 5;\n",
    "    3 + 5 = 8;\n",
    "    5 + 1 = 6;\n",
    "    1 + 6 = 7.\n",
    "    Thus, the answer is 8.\n",
    "\n",
    "Input/Output\n",
    "\n",
    "    [execution time limit] 4 seconds (py3)\n",
    "\n",
    "    [input] array.integer inputArray\n",
    "\n",
    "    Array of positive integers.\n",
    "\n",
    "    Guaranteed constraints:\n",
    "    3 ≤ inputArray.length ≤ 105,\n",
    "    1 ≤ inputArray[i] ≤ 1000.\n",
    "\n",
    "    [input] integer k\n",
    "\n",
    "    An integer (not greater than the length of inputArray).\n",
    "\n",
    "    Guaranteed constraints:\n",
    "    1 ≤ k ≤ inputArray.length.\n",
    "\n",
    "    [output] integer\n",
    "        The maximal possible sum.\n"
   ]
  },
  {
   "cell_type": "code",
   "execution_count": 3,
   "metadata": {},
   "outputs": [],
   "source": [
    "# time limit exceeded!!!\n",
    "def arrayMaxConsecutiveSum(inputArray, k):\n",
    "    maximum = 0\n",
    "    for i in range(len(inputArray) - k + 1):\n",
    "        temp = sum(inputArray[i: i + k])\n",
    "        if temp > maximum:\n",
    "            maximum = temp\n",
    "    return maximum"
   ]
  },
  {
   "cell_type": "code",
   "execution_count": 4,
   "metadata": {},
   "outputs": [],
   "source": [
    "def arrayMaxConsecutiveSum(inputArray, k):\n",
    "    first = sum(inputArray[0:k])\n",
    "    maximo = first\n",
    "\n",
    "    for i in range(k, len(inputArray)):\n",
    "        #Just add the last item and erase the first one\n",
    "        first = first - inputArray[i - k] + inputArray[i]\n",
    "        if first > maximo:\n",
    "            maximo = first\n",
    "    return maximo"
   ]
  },
  {
   "cell_type": "code",
   "execution_count": null,
   "metadata": {},
   "outputs": [],
   "source": []
  }
 ],
 "metadata": {
  "kernelspec": {
   "display_name": "Alg",
   "language": "python",
   "name": "alg"
  },
  "language_info": {
   "codemirror_mode": {
    "name": "ipython",
    "version": 3
   },
   "file_extension": ".py",
   "mimetype": "text/x-python",
   "name": "python",
   "nbconvert_exporter": "python",
   "pygments_lexer": "ipython3",
   "version": "3.7.3"
  }
 },
 "nbformat": 4,
 "nbformat_minor": 2
}
