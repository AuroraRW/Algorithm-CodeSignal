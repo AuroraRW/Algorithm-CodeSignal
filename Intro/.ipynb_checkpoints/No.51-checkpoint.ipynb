{
 "cells": [
  {
   "cell_type": "markdown",
   "metadata": {},
   "source": [
    "### deleteDigit\n",
    "Given some integer, find the maximal number you can obtain by deleting exactly one digit of the given number.\n",
    "\n",
    "Example\n",
    "\n",
    "    For n = 152, the output should be\n",
    "    deleteDigit(n) = 52;\n",
    "    For n = 1001, the output should be\n",
    "    deleteDigit(n) = 101.\n",
    "\n",
    "Input/Output\n",
    "\n",
    "    [execution time limit] 4 seconds (py3)\n",
    "\n",
    "    [input] integer n\n",
    "\n",
    "    Guaranteed constraints:\n",
    "    10 ≤ n ≤ 106.\n",
    "\n",
    "    [output] integer\n"
   ]
  },
  {
   "cell_type": "code",
   "execution_count": 11,
   "metadata": {},
   "outputs": [],
   "source": [
    "def deleteDigit(n):\n",
    "    num = list(str(n))\n",
    "    result = []\n",
    "    maxnum=0\n",
    "    for i in range(len(num)):\n",
    "        result=''.join(num[0:i])\n",
    "        result=result+''.join(num[i+1:])\n",
    "        maxnum = max(maxnum, int(result))\n",
    "    return maxnum"
   ]
  },
  {
   "cell_type": "code",
   "execution_count": 12,
   "metadata": {},
   "outputs": [],
   "source": [
    "def deleteDigit(n):\n",
    "    n = str(n)\n",
    "    return max(int(''.join(n[:i]+n[i+1:])) for i in range(len(n)))"
   ]
  },
  {
   "cell_type": "code",
   "execution_count": null,
   "metadata": {},
   "outputs": [],
   "source": []
  }
 ],
 "metadata": {
  "kernelspec": {
   "display_name": "Alg",
   "language": "python",
   "name": "alg"
  },
  "language_info": {
   "codemirror_mode": {
    "name": "ipython",
    "version": 3
   },
   "file_extension": ".py",
   "mimetype": "text/x-python",
   "name": "python",
   "nbconvert_exporter": "python",
   "pygments_lexer": "ipython3",
   "version": "3.7.3"
  }
 },
 "nbformat": 4,
 "nbformat_minor": 2
}
