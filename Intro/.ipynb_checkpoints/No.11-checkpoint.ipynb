{
 "cells": [
  {
   "cell_type": "markdown",
   "metadata": {},
   "source": [
    "### Is Lucky\n",
    "Ticket numbers usually consist of an even number of digits. A ticket number is considered lucky if the sum of the first half of the digits is equal to the sum of the second half.\n",
    "\n",
    "Given a ticket number n, determine if it's lucky or not.\n",
    "\n",
    "Example\n",
    "\n",
    "    For n = 1230, the output should be\n",
    "    isLucky(n) = true;\n",
    "    For n = 239017, the output should be\n",
    "    isLucky(n) = false.\n",
    "\n",
    "Input/Output\n",
    "\n",
    "    [execution time limit] 4 seconds (py3)\n",
    "\n",
    "    [input] integer n\n",
    "\n",
    "    A ticket number represented as a positive integer with an even number of digits.\n",
    "\n",
    "    Guaranteed constraints:\n",
    "    10 ≤ n < 106.\n",
    "\n",
    "    [output] boolean\n",
    "        true if n is a lucky ticket number, false otherwise.\n"
   ]
  },
  {
   "cell_type": "code",
   "execution_count": 2,
   "metadata": {},
   "outputs": [],
   "source": [
    "def isLucky(n):\n",
    "    number = str(n)\n",
    "    sum_1 = 0\n",
    "    sum_2 = 0\n",
    "    for i in range(len(number) // 2):\n",
    "        sum_1 = sum_1 + int(number[i])\n",
    "    for i in range(len(number) // 2, len(number)):\n",
    "        sum_2 = sum_2 + int(number[i])\n",
    "    if sum_1 == sum_2:\n",
    "        return True\n",
    "    else:\n",
    "        return False"
   ]
  },
  {
   "cell_type": "code",
   "execution_count": 3,
   "metadata": {},
   "outputs": [],
   "source": [
    "def isLucky(n):\n",
    "    number = str(n)\n",
    "    if sum(int(i) for i in number[:len(number) // 2]) == sum(int(i) for i in number[len(number) // 2:]):\n",
    "        return True\n",
    "    return False"
   ]
  },
  {
   "cell_type": "code",
   "execution_count": null,
   "metadata": {},
   "outputs": [],
   "source": [
    "def isLucky(n):\n",
    "    return sum(map(int, str(n)[:len(str(n)) // 2])) == sum(map(int, str(n)[len(str(n)) // 2:]))"
   ]
  }
 ],
 "metadata": {
  "kernelspec": {
   "display_name": "Python 3",
   "language": "python",
   "name": "python3"
  },
  "language_info": {
   "codemirror_mode": {
    "name": "ipython",
    "version": 3
   },
   "file_extension": ".py",
   "mimetype": "text/x-python",
   "name": "python",
   "nbconvert_exporter": "python",
   "pygments_lexer": "ipython3",
   "version": "3.7.3"
  }
 },
 "nbformat": 4,
 "nbformat_minor": 2
}
