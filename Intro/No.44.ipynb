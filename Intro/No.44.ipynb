{
 "cells": [
  {
   "cell_type": "markdown",
   "metadata": {},
   "source": [
    "### Find Email Domain\n",
    "An email address such as \"John.Smith@example.com\" is made up of a local part (\"John.Smith\"), an \"@\" symbol, then a domain part (\"example.com\").\n",
    "\n",
    "The domain name part of an email address may only consist of letters, digits, hyphens and dots. The local part, however, also allows a lot of different special characters. Here you can look at several examples of correct and incorrect email addresses.\n",
    "\n",
    "Given a valid email address, find its domain part.\n",
    "\n",
    "Example\n",
    "\n",
    "    For address = \"prettyandsimple@example.com\", the output should be\n",
    "    findEmailDomain(address) = \"example.com\";\n",
    "    For address = \"fully-qualified-domain@codesignal.com\", the output should be\n",
    "    findEmailDomain(address) = \"codesignal.com\".\n",
    "\n",
    "Input/Output\n",
    "\n",
    "    [execution time limit] 4 seconds (py3)\n",
    "\n",
    "    [input] string address\n",
    "\n",
    "    Guaranteed constraints:\n",
    "    10 ≤ address.length ≤ 50.\n",
    "\n",
    "    [output] string\n"
   ]
  },
  {
   "cell_type": "code",
   "execution_count": 1,
   "metadata": {},
   "outputs": [],
   "source": [
    "def findEmailDomain(address):\n",
    "    num = 0\n",
    "    for i in range(len(address) - 1, 0, -1):\n",
    "\n",
    "        num = num + 1\n",
    "        if address[i] == '@':\n",
    "            break\n",
    "    return address[-num + 1:]"
   ]
  },
  {
   "cell_type": "code",
   "execution_count": 2,
   "metadata": {},
   "outputs": [],
   "source": [
    "def findEmailDomain(address):\n",
    "    a = address.split('@')\n",
    "    return a[-1] "
   ]
  },
  {
   "cell_type": "code",
   "execution_count": null,
   "metadata": {},
   "outputs": [],
   "source": []
  }
 ],
 "metadata": {
  "kernelspec": {
   "display_name": "Alg",
   "language": "python",
   "name": "alg"
  },
  "language_info": {
   "codemirror_mode": {
    "name": "ipython",
    "version": 3
   },
   "file_extension": ".py",
   "mimetype": "text/x-python",
   "name": "python",
   "nbconvert_exporter": "python",
   "pygments_lexer": "ipython3",
   "version": "3.7.3"
  }
 },
 "nbformat": 4,
 "nbformat_minor": 2
}
