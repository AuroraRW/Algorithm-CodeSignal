{
 "cells": [
  {
   "cell_type": "markdown",
   "metadata": {},
   "source": [
    "### longestDigitsPrefix\n",
    "Given a string, output its longest prefix which contains only digits.\n",
    "\n",
    "Example\n",
    "\n",
    "For inputString = \"123aa1\", the output should be\n",
    "longestDigitsPrefix(inputString) = \"123\".\n",
    "\n",
    "Input/Output\n",
    "\n",
    "    [execution time limit] 4 seconds (py3)\n",
    "\n",
    "    [input] string inputString\n",
    "\n",
    "    Guaranteed constraints:\n",
    "    3 ≤ inputString.length ≤ 100.\n",
    "\n",
    "    [output] string\n"
   ]
  },
  {
   "cell_type": "code",
   "execution_count": 1,
   "metadata": {},
   "outputs": [],
   "source": [
    "def longestDigitsPrefix(inputString):\n",
    "    for i in range(len(inputString)):\n",
    "        if inputString[i].isdigit():\n",
    "            pass\n",
    "        else:\n",
    "            return inputString[:i]\n",
    "    return inputString"
   ]
  },
  {
   "cell_type": "code",
   "execution_count": 2,
   "metadata": {},
   "outputs": [],
   "source": [
    "def longestDigitsPrefix(inputString):\n",
    "    return re.findall('^\\d*',inputString)[0]"
   ]
  },
  {
   "cell_type": "code",
   "execution_count": null,
   "metadata": {},
   "outputs": [],
   "source": []
  }
 ],
 "metadata": {
  "kernelspec": {
   "display_name": "Alg",
   "language": "python",
   "name": "alg"
  },
  "language_info": {
   "codemirror_mode": {
    "name": "ipython",
    "version": 3
   },
   "file_extension": ".py",
   "mimetype": "text/x-python",
   "name": "python",
   "nbconvert_exporter": "python",
   "pygments_lexer": "ipython3",
   "version": "3.7.3"
  }
 },
 "nbformat": 4,
 "nbformat_minor": 2
}
