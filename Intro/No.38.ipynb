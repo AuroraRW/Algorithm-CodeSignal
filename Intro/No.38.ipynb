{
 "cells": [
  {
   "cell_type": "markdown",
   "metadata": {},
   "source": [
    "### growingPlant\n",
    "Caring for a plant can be hard work, but since you tend to it regularly, you have a plant that grows consistently. Each day, its height increases by a fixed amount represented by the integer upSpeed. But due to lack of sunlight, the plant decreases in height every night, by an amount represented by downSpeed.\n",
    "\n",
    "Since you grew the plant from a seed, it started at height 0 initially. Given an integer desiredHeight, your task is to find how many days it'll take for the plant to reach this height.\n",
    "\n",
    "Example\n",
    "\n",
    "For upSpeed = 100, downSpeed = 10, and desiredHeight = 910, the output should be\n",
    "growingPlant(upSpeed, downSpeed, desiredHeight) = 10.\n",
    "![title](38-1.png)\n",
    "The plant first reaches a height of 910 on day 10.\n",
    "\n",
    "Input/Output\n",
    "\n",
    "    [execution time limit] 4 seconds (py3)\n",
    "\n",
    "    [input] integer upSpeed\n",
    "\n",
    "    A positive integer representing the daily growth of the plant.\n",
    "\n",
    "    Guaranteed constraints:\n",
    "    3 ≤ upSpeed ≤ 100.\n",
    "\n",
    "    [input] integer downSpeed\n",
    "\n",
    "    A positive integer representing the nightly decline of the plant.\n",
    "\n",
    "    Guaranteed constraints:\n",
    "    2 ≤ downSpeed < upSpeed.\n",
    "\n",
    "    [input] integer desiredHeight\n",
    "\n",
    "    A positive integer representing the goal height.\n",
    "\n",
    "    Guaranteed constraints:\n",
    "    4 ≤ desiredHeight ≤ 1000.\n",
    "\n",
    "    [output] integer\n",
    "        The number of days that it will take for the plant to reach / pass desiredHeight.\n"
   ]
  },
  {
   "cell_type": "code",
   "execution_count": 1,
   "metadata": {},
   "outputs": [],
   "source": [
    "def growingPlant(upSpeed, downSpeed, desiredHeight):\n",
    "    result = 0\n",
    "    num = 0\n",
    "    while True:\n",
    "        num += 1\n",
    "        result = result + upSpeed\n",
    "        if result >= desiredHeight:\n",
    "            return num\n",
    "        else:\n",
    "            result = result - downSpeed"
   ]
  },
  {
   "cell_type": "code",
   "execution_count": 2,
   "metadata": {},
   "outputs": [],
   "source": [
    "def growingPlant(upSpeed, downSpeed, desiredHeight):\n",
    "    if desiredHeight <= upSpeed:\n",
    "        return 1\n",
    "    return math.ceil((desiredHeight - upSpeed) / (upSpeed - downSpeed) + 1)"
   ]
  },
  {
   "cell_type": "code",
   "execution_count": null,
   "metadata": {},
   "outputs": [],
   "source": []
  }
 ],
 "metadata": {
  "kernelspec": {
   "display_name": "Alg",
   "language": "python",
   "name": "alg"
  },
  "language_info": {
   "codemirror_mode": {
    "name": "ipython",
    "version": 3
   },
   "file_extension": ".py",
   "mimetype": "text/x-python",
   "name": "python",
   "nbconvert_exporter": "python",
   "pygments_lexer": "ipython3",
   "version": "3.7.3"
  }
 },
 "nbformat": 4,
 "nbformat_minor": 2
}
