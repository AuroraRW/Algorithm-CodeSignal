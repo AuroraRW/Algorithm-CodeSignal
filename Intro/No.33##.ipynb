{
 "cells": [
  {
   "cell_type": "markdown",
   "metadata": {},
   "source": [
    "### stringRearrangement\n",
    "Given an array of equal-length strings, you'd like to know if it's possible to rearrange the order of the elements in such a way that each consecutive pair of strings differ by exactly one character. Return true if it's possible, and false if not.\n",
    "\n",
    "Note: You're only rearranging the order of the strings, not the order of the letters within the strings!\n",
    "\n",
    "Example\n",
    "\n",
    "    For inputArray = [\"aba\", \"bbb\", \"bab\"], the output should be\n",
    "    stringsRearrangement(inputArray) = false.\n",
    "\n",
    "    There are 6 possible arrangements for these strings:\n",
    "        [\"aba\", \"bbb\", \"bab\"]\n",
    "        [\"aba\", \"bab\", \"bbb\"]\n",
    "        [\"bbb\", \"aba\", \"bab\"]\n",
    "        [\"bbb\", \"bab\", \"aba\"]\n",
    "        [\"bab\", \"bbb\", \"aba\"]\n",
    "        [\"bab\", \"aba\", \"bbb\"]\n",
    "\n",
    "    None of these satisfy the condition of consecutive strings differing by 1 character, so the answer is false.\n",
    "\n",
    "    For inputArray = [\"ab\", \"bb\", \"aa\"], the output should be\n",
    "    stringsRearrangement(inputArray) = true.\n",
    "\n",
    "    It's possible to arrange these strings in a way that each consecutive pair of strings differ by 1 character (eg: \"aa\", \"ab\", \"bb\" or \"bb\", \"ab\", \"aa\"), so return true.\n",
    "\n",
    "Input/Output\n",
    "\n",
    "    [execution time limit] 4 seconds (py3)\n",
    "\n",
    "    [input] array.string inputArray\n",
    "\n",
    "    A non-empty array of strings of lowercase letters.\n",
    "\n",
    "    Guaranteed constraints:\n",
    "    2 ≤ inputArray.length ≤ 10,\n",
    "    1 ≤ inputArray[i].length ≤ 15.\n",
    "\n",
    "    [output] boolean\n",
    "        Return true if the strings can be reordered in such a way that each neighbouring pair of strings differ by exactly one character (false otherwise).\n"
   ]
  },
  {
   "cell_type": "code",
   "execution_count": 1,
   "metadata": {},
   "outputs": [],
   "source": [
    "from itertools import permutations\n",
    "\n",
    "\n",
    "def diff(w1, w2):\n",
    "    return sum([a[0] != a[1] for a in zip(w1, w2)]) == 1\n",
    "\n",
    "\n",
    "def stringsRearrangement(inputArray):\n",
    "    for z in permutations(inputArray):\n",
    "        if sum([diff(*x) for x in zip(z, z[1:])]) == len(inputArray) - 1:\n",
    "            return True\n",
    "    return False"
   ]
  },
  {
   "cell_type": "code",
   "execution_count": null,
   "metadata": {},
   "outputs": [],
   "source": []
  }
 ],
 "metadata": {
  "kernelspec": {
   "display_name": "Alg",
   "language": "python",
   "name": "alg"
  },
  "language_info": {
   "codemirror_mode": {
    "name": "ipython",
    "version": 3
   },
   "file_extension": ".py",
   "mimetype": "text/x-python",
   "name": "python",
   "nbconvert_exporter": "python",
   "pygments_lexer": "ipython3",
   "version": "3.7.3"
  }
 },
 "nbformat": 4,
 "nbformat_minor": 2
}
