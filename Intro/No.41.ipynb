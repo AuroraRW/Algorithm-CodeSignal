{
 "cells": [
  {
   "cell_type": "markdown",
   "metadata": {},
   "source": [
    "### Digit Degree\n",
    "Let's define digit degree of some positive integer as the number of times we need to replace this number with the sum of its digits until we get to a one digit number.\n",
    "\n",
    "Given an integer, find its digit degree.\n",
    "\n",
    "Example\n",
    "\n",
    "    For n = 5, the output should be\n",
    "    digitDegree(n) = 0;\n",
    "    For n = 100, the output should be\n",
    "    digitDegree(n) = 1.\n",
    "    1 + 0 + 0 = 1.\n",
    "    For n = 91, the output should be\n",
    "    digitDegree(n) = 2.\n",
    "    9 + 1 = 10 -> 1 + 0 = 1.\n",
    "\n",
    "Input/Output\n",
    "\n",
    "    [execution time limit] 4 seconds (py3)\n",
    "\n",
    "    [input] integer n\n",
    "\n",
    "    Guaranteed constraints:\n",
    "    5 ≤ n ≤ 109.\n",
    "\n",
    "    [output] integer\n"
   ]
  },
  {
   "cell_type": "code",
   "execution_count": 1,
   "metadata": {},
   "outputs": [],
   "source": [
    "def digitDegree(n):\n",
    "    if n < 10:\n",
    "        return 0\n",
    "    else:\n",
    "        return computing(n)\n",
    "\n",
    "\n",
    "def computing(n):\n",
    "    result = sum(list(map(int, list(str(n)))))\n",
    "    if len(list(str(result))) == 1:\n",
    "        return 1\n",
    "    else:\n",
    "        return computing(result) + 1"
   ]
  },
  {
   "cell_type": "code",
   "execution_count": 2,
   "metadata": {},
   "outputs": [],
   "source": [
    "def digitDegree(n):\n",
    "    d=0\n",
    "    while n>=10:\n",
    "        n=sum([int(i) for i in str(n)])\n",
    "        d+=1\n",
    "    return d"
   ]
  },
  {
   "cell_type": "code",
   "execution_count": null,
   "metadata": {},
   "outputs": [],
   "source": []
  }
 ],
 "metadata": {
  "kernelspec": {
   "display_name": "Alg",
   "language": "python",
   "name": "alg"
  },
  "language_info": {
   "codemirror_mode": {
    "name": "ipython",
    "version": 3
   },
   "file_extension": ".py",
   "mimetype": "text/x-python",
   "name": "python",
   "nbconvert_exporter": "python",
   "pygments_lexer": "ipython3",
   "version": "3.7.3"
  }
 },
 "nbformat": 4,
 "nbformat_minor": 2
}
