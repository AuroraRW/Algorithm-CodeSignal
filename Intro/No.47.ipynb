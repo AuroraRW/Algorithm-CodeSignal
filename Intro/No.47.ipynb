{
 "cells": [
  {
   "cell_type": "markdown",
   "metadata": {},
   "source": [
    "### Is MAC48 Address\n",
    "A media access control address (MAC address) is a unique identifier assigned to network interfaces for communications on the physical network segment.\n",
    "\n",
    "The standard (IEEE 802) format for printing MAC-48 addresses in human-friendly form is six groups of two hexadecimal digits (0 to 9 or A to F), separated by hyphens (e.g. 01-23-45-67-89-AB).\n",
    "\n",
    "Your task is to check by given string inputString whether it corresponds to MAC-48 address or not.\n",
    "\n",
    "Example\n",
    "\n",
    "    For inputString = \"00-1B-63-84-45-E6\", the output should be\n",
    "    isMAC48Address(inputString) = true;\n",
    "    For inputString = \"Z1-1B-63-84-45-E6\", the output should be\n",
    "    isMAC48Address(inputString) = false;\n",
    "    For inputString = \"not a MAC-48 address\", the output should be\n",
    "    isMAC48Address(inputString) = false.\n",
    "\n",
    "Input/Output\n",
    "\n",
    "    [execution time limit] 4 seconds (py3)\n",
    "\n",
    "    [input] string inputString\n",
    "\n",
    "    Guaranteed constraints:\n",
    "    15 ≤ inputString.length ≤ 20.\n",
    "\n",
    "    [output] boolean\n",
    "        true if inputString corresponds to MAC-48 address naming rules, false otherwise.\n"
   ]
  },
  {
   "cell_type": "code",
   "execution_count": 1,
   "metadata": {},
   "outputs": [],
   "source": [
    "def isMAC48Address(inputString):\n",
    "    inputList = inputString.split('-')\n",
    "    MAC = {'0', '1', '2', '3', '4', '5', '6', '7', '8', '9', 'A', 'B', 'C', 'D', 'E', 'F'}\n",
    "    if len(inputList) != 6:\n",
    "        return False\n",
    "    else:\n",
    "        for i in inputList:\n",
    "            if len(i) != 2:\n",
    "                return False\n",
    "            else:\n",
    "                if i[0] not in MAC:\n",
    "                    return False\n",
    "                if i[1] not in MAC:\n",
    "                    return False    \n",
    "    return True"
   ]
  },
  {
   "cell_type": "code",
   "execution_count": 2,
   "metadata": {},
   "outputs": [],
   "source": [
    "def isMAC48Address(s):\n",
    "    return bool(re.match(('^' + '[\\dA-F]{2}-' * 6)[:-1] + '$', s))"
   ]
  },
  {
   "cell_type": "code",
   "execution_count": null,
   "metadata": {},
   "outputs": [],
   "source": []
  }
 ],
 "metadata": {
  "kernelspec": {
   "display_name": "Alg",
   "language": "python",
   "name": "alg"
  },
  "language_info": {
   "codemirror_mode": {
    "name": "ipython",
    "version": 3
   },
   "file_extension": ".py",
   "mimetype": "text/x-python",
   "name": "python",
   "nbconvert_exporter": "python",
   "pygments_lexer": "ipython3",
   "version": "3.7.3"
  }
 },
 "nbformat": 4,
 "nbformat_minor": 2
}
