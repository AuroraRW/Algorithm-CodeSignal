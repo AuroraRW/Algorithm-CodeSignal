{
 "cells": [
  {
   "cell_type": "markdown",
   "metadata": {},
   "source": [
    "### Below we will define an n-interesting polygon. Your task is to find the area of a polygon for a given n.\n",
    "\n",
    "A 1-interesting polygon is just a square with a side of length 1. An n-interesting polygon is obtained by taking the n - 1-interesting polygon and appending 1-interesting polygons to its rim, side by side. You can see the 1-, 2-, 3- and 4-interesting polygons in the picture below.  \n",
    "\n",
    "![title](05-1.png)  \n",
    "\n",
    "Example\n",
    "\n",
    "    For n = 2, the output should be\n",
    "    shapeArea(n) = 5;\n",
    "    For n = 3, the output should be\n",
    "    shapeArea(n) = 13.\n",
    "\n",
    "Input/Output\n",
    "\n",
    "    [execution time limit] 4 seconds (py3)\n",
    "\n",
    "    [input] integer n\n",
    "\n",
    "    Guaranteed constraints:\n",
    "    1 ≤ n < 104.\n",
    "\n",
    "    [output] integer\n",
    "        The area of the n-interesting polygon.\n"
   ]
  },
  {
   "cell_type": "code",
   "execution_count": 1,
   "metadata": {},
   "outputs": [
    {
     "data": {
      "text/plain": [
       "'\\ndef shapeArea(n):\\n    if n == 1:\\n        return 1\\n    else:\\n        return 4 * n - 4 + shapeArea(n - 1)\\n'"
      ]
     },
     "execution_count": 1,
     "metadata": {},
     "output_type": "execute_result"
    }
   ],
   "source": [
    "def shapeArea(n):\n",
    "    return 2 * (n - 1) * n + 1\n",
    "\n",
    "\n",
    "\"\"\"\n",
    " 1+4(2-1)+4(3-1)+4(4-1)+...+4(n-1)\n",
    "=1+4(2+3+4+...+n-(n-1))\n",
    "\n",
    "\"\"\"\n",
    "\n",
    "\"\"\"\n",
    "def shapeArea(n):\n",
    "    if n == 1:\n",
    "        return 1\n",
    "    else:\n",
    "        return 4 * n - 4 + shapeArea(n - 1)\n",
    "\"\"\""
   ]
  },
  {
   "cell_type": "code",
   "execution_count": null,
   "metadata": {},
   "outputs": [],
   "source": []
  }
 ],
 "metadata": {
  "kernelspec": {
   "display_name": "Alg",
   "language": "python",
   "name": "alg"
  },
  "language_info": {
   "codemirror_mode": {
    "name": "ipython",
    "version": 3
   },
   "file_extension": ".py",
   "mimetype": "text/x-python",
   "name": "python",
   "nbconvert_exporter": "python",
   "pygments_lexer": "ipython3",
   "version": "3.7.3"
  }
 },
 "nbformat": 4,
 "nbformat_minor": 2
}
