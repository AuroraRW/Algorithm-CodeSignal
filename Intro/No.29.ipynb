{
 "cells": [
  {
   "cell_type": "markdown",
   "metadata": {},
   "source": [
    "### chess Board Cell Color\n",
    "Given two cells on the standard chess board, determine whether they have the same color or not.\n",
    "\n",
    "Example\n",
    "\n",
    "    For cell1 = \"A1\" and cell2 = \"C3\", the output should be\n",
    "    chessBoardCellColor(cell1, cell2) = true.\n",
    "![title](29-1.png)\n",
    "For cell1 = \"A1\" and cell2 = \"H3\", the output should be\n",
    "chessBoardCellColor(cell1, cell2) = false.\n",
    "![title](29-1.png)\n",
    "Input/Output\n",
    "\n",
    "    [execution time limit] 4 seconds (py3)\n",
    "\n",
    "    [input] string cell1\n",
    "\n",
    "    Guaranteed constraints:\n",
    "    cell1.length = 2,\n",
    "    'A' ≤ cell1[0] ≤ 'H',\n",
    "    1 ≤ cell1[1] ≤ 8.\n",
    "\n",
    "    [input] string cell2\n",
    "\n",
    "    Guaranteed constraints:\n",
    "    cell2.length = 2,\n",
    "    'A' ≤ cell2[0] ≤ 'H',\n",
    "    1 ≤ cell2[1] ≤ 8.\n",
    "\n",
    "    [output] boolean\n",
    "        true if both cells have the same color, false otherwise.\n"
   ]
  },
  {
   "cell_type": "code",
   "execution_count": null,
   "metadata": {},
   "outputs": [],
   "source": [
    "def chessBoardCellColor(cell1, cell2):\n",
    "    arr = {'A': 1, 'B': 2, 'C': 3, 'D': 4, 'E': 5, 'F': 6, 'G': 7, 'H': 8}\n",
    "    if (arr[cell1[0]] + int(cell1[1]) + 1) % 2 == (arr[cell2[0]] + int(cell2[1]) + 1) % 2:\n",
    "        return True\n",
    "            \n",
    "    return False"
   ]
  },
  {
   "cell_type": "code",
   "execution_count": null,
   "metadata": {},
   "outputs": [],
   "source": [
    "def chessBoardCellColor(cell1, cell2):\n",
    "    return (ord(cell1[0])+int(cell1[1])+ord(cell2[0])+int(cell2[1]))%2==0"
   ]
  }
 ],
 "metadata": {
  "kernelspec": {
   "display_name": "Alg",
   "language": "python",
   "name": "alg"
  },
  "language_info": {
   "codemirror_mode": {
    "name": "ipython",
    "version": 3
   },
   "file_extension": ".py",
   "mimetype": "text/x-python",
   "name": "python",
   "nbconvert_exporter": "python",
   "pygments_lexer": "ipython3",
   "version": "3.7.3"
  }
 },
 "nbformat": 4,
 "nbformat_minor": 2
}
