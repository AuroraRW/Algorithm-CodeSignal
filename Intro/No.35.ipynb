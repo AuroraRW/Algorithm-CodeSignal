{
 "cells": [
  {
   "cell_type": "markdown",
   "metadata": {},
   "source": [
    "### firstDigit\n",
    "Find the leftmost digit that occurs in a given string.\n",
    "\n",
    "Example\n",
    "\n",
    "    For inputString = \"var_1__Int\", the output should be\n",
    "    firstDigit(inputString) = '1';\n",
    "    For inputString = \"q2q-q\", the output should be\n",
    "    firstDigit(inputString) = '2';\n",
    "    For inputString = \"0ss\", the output should be\n",
    "    firstDigit(inputString) = '0'.\n",
    "\n",
    "Input/Output\n",
    "\n",
    "    [execution time limit] 4 seconds (py3)\n",
    "\n",
    "    [input] string inputString\n",
    "\n",
    "    A string containing at least one digit.\n",
    "\n",
    "    Guaranteed constraints:\n",
    "    3 ≤ inputString.length ≤ 10.\n",
    "\n",
    "    [output] char\n"
   ]
  },
  {
   "cell_type": "code",
   "execution_count": 5,
   "metadata": {},
   "outputs": [],
   "source": [
    "def firstDigit(inputString):\n",
    "    digit = {'1', '2', '3', '4', '5', '6', '7', '8', '9', '0'}\n",
    "    for i in inputString:\n",
    "        if i in digit:\n",
    "            return i"
   ]
  },
  {
   "cell_type": "code",
   "execution_count": 6,
   "metadata": {},
   "outputs": [],
   "source": [
    "def firstDigit(inputString):\n",
    "    for i in inputString:\n",
    "        if i.isdigit():\n",
    "            return i"
   ]
  },
  {
   "cell_type": "code",
   "execution_count": 7,
   "metadata": {},
   "outputs": [],
   "source": [
    "def firstDigit(inputString):\n",
    "\n",
    "    return re.findall('\\d', inputString)[0]"
   ]
  },
  {
   "cell_type": "code",
   "execution_count": 8,
   "metadata": {},
   "outputs": [],
   "source": [
    "def firstDigit(s):\n",
    "    for i in s:\n",
    "        try:\n",
    "            x=int(i)\n",
    "            return i\n",
    "        except:\n",
    "            continue"
   ]
  },
  {
   "cell_type": "code",
   "execution_count": null,
   "metadata": {},
   "outputs": [],
   "source": []
  }
 ],
 "metadata": {
  "kernelspec": {
   "display_name": "Alg",
   "language": "python",
   "name": "alg"
  },
  "language_info": {
   "codemirror_mode": {
    "name": "ipython",
    "version": 3
   },
   "file_extension": ".py",
   "mimetype": "text/x-python",
   "name": "python",
   "nbconvert_exporter": "python",
   "pygments_lexer": "ipython3",
   "version": "3.7.3"
  }
 },
 "nbformat": 4,
 "nbformat_minor": 2
}
