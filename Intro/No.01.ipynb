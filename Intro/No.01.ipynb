{
 "cells": [
  {
   "cell_type": "markdown",
   "metadata": {},
   "source": [
    "\n",
    "### Write a function that returns the sum of two numbers.\n",
    "\n",
    "Example\n",
    "\n",
    "For param1 = 1 and param2 = 2, the output should be\n",
    "add(param1, param2) = 3.\n",
    "\n",
    "Input/Output  \n",
    "[execution time limit] 4 seconds (py3) \n",
    "\n",
    "[input] integer param1  \n",
    "\n",
    "Guaranteed constraints:  \n",
    "-1000 ≤ param1 ≤ 1000.  \n",
    "\n",
    "[input] integer param2  \n",
    "Guaranteed constraints:  \n",
    "-1000 ≤ param2 ≤ 1000.  \n",
    "\n",
    "[output] integer  \n",
    "The sum of the two inputs.  "
   ]
  },
  {
   "cell_type": "code",
   "execution_count": 1,
   "metadata": {},
   "outputs": [],
   "source": [
    "def add(param1, param2):\n",
    "    return param1 + param2"
   ]
  },
  {
   "cell_type": "code",
   "execution_count": null,
   "metadata": {},
   "outputs": [],
   "source": []
  }
 ],
 "metadata": {
  "kernelspec": {
   "display_name": "Alg",
   "language": "python",
   "name": "alg"
  },
  "language_info": {
   "codemirror_mode": {
    "name": "ipython",
    "version": 3
   },
   "file_extension": ".py",
   "mimetype": "text/x-python",
   "name": "python",
   "nbconvert_exporter": "python",
   "pygments_lexer": "ipython3",
   "version": "3.7.3"
  }
 },
 "nbformat": 4,
 "nbformat_minor": 2
}
