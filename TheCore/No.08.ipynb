{
 "cells": [
  {
   "cell_type": "markdown",
   "metadata": {},
   "source": [
    "### Phone Call\n",
    "Some phone usage rate may be described as follows:\n",
    "\n",
    "    first minute of a call costs min1 cents,\n",
    "    each minute from the 2nd up to 10th (inclusive) costs min2_10 cents\n",
    "    each minute after 10th costs min11 cents.\n",
    "\n",
    "You have s cents on your account before the call. What is the duration of the longest call (in minutes rounded down to the nearest integer) you can have?\n",
    "\n",
    "Example\n",
    "\n",
    "For min1 = 3, min2_10 = 1, min11 = 2, and s = 20, the output should be\n",
    "phoneCall(min1, min2_10, min11, s) = 14.\n",
    "\n",
    "Here's why:\n",
    "\n",
    "    the first minute costs 3 cents, which leaves you with 20 - 3 = 17 cents;\n",
    "    the total cost of minutes 2 through 10 is 1 * 9 = 9, so you can talk 9 more minutes and still have 17 - 9 = 8 cents;\n",
    "    each next minute costs 2 cents, which means that you can talk 8 / 2 = 4 more minutes.\n",
    "\n",
    "Thus, the longest call you can make is 1 + 9 + 4 = 14 minutes long.\n",
    "\n",
    "Input/Output\n",
    "\n",
    "    [execution time limit] 4 seconds (py3)\n",
    "\n",
    "    [input] integer min1\n",
    "\n",
    "    Guaranteed constraints:\n",
    "    1 ≤ min1 ≤ 10.\n",
    "\n",
    "    [input] integer min2_10\n",
    "\n",
    "    Guaranteed constraints:\n",
    "    1 ≤ min2_10 ≤ 10.\n",
    "\n",
    "    [input] integer min11\n",
    "\n",
    "    Guaranteed constraints:\n",
    "    1 ≤ min11 ≤ 10.\n",
    "\n",
    "    [input] integer s\n",
    "\n",
    "    Guaranteed constraints:\n",
    "    2 ≤ s ≤ 500.\n",
    "\n",
    "    [output] integer\n"
   ]
  },
  {
   "cell_type": "code",
   "execution_count": 1,
   "metadata": {},
   "outputs": [],
   "source": [
    "def phoneCall(min1, min2_10, min11, s):\n",
    "    if s < min1:\n",
    "        return 0\n",
    "    elif s == min1:\n",
    "        return 1\n",
    "    else:\n",
    "        s = s - min1\n",
    "    \n",
    "    if s <= min2_10 * 9:\n",
    "        return (s // min2_10) + 1\n",
    "    else:\n",
    "        s = s - min2_10 * 9\n",
    "\n",
    "    return s // min11 + 9 + 1"
   ]
  },
  {
   "cell_type": "code",
   "execution_count": null,
   "metadata": {},
   "outputs": [],
   "source": []
  }
 ],
 "metadata": {
  "kernelspec": {
   "display_name": "Alg",
   "language": "python",
   "name": "alg"
  },
  "language_info": {
   "codemirror_mode": {
    "name": "ipython",
    "version": 3
   },
   "file_extension": ".py",
   "mimetype": "text/x-python",
   "name": "python",
   "nbconvert_exporter": "python",
   "pygments_lexer": "ipython3",
   "version": "3.7.3"
  }
 },
 "nbformat": 4,
 "nbformat_minor": 2
}
