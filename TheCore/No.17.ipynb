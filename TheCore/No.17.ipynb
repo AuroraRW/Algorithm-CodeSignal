{
 "cells": [
  {
   "cell_type": "markdown",
   "metadata": {},
   "source": [
    "### Kill K=th Bit\n",
    "Implement the missing code, denoted by ellipses. You may not modify the pre-existing code.\n",
    "\n",
    "In order to stop the Mad Coder evil genius you need to decipher the encrypted message he sent to his minions. The message contains several numbers that, when typed into a supercomputer, will launch a missile into the sky blocking out the sun, and making all the people on Earth grumpy and sad.\n",
    "\n",
    "You figured out that some numbers have a modified single digit in their binary representation. More specifically, in the given number n the kth bit from the right was initially set to 0, but its current value might be different. It's now up to you to write a function that will change the kth bit of n back to 0.\n",
    "\n",
    "Example\n",
    "\n",
    "    For n = 37 and k = 3, the output should be\n",
    "    killKthBit(n, k) = 33.\n",
    "\n",
    "    3710 = 1001012 ~> 1000012 = 3310.\n",
    "\n",
    "    For n = 37 and k = 4, the output should be\n",
    "    killKthBit(n, k) = 37.\n",
    "\n",
    "    The 4th bit is 0 already (looks like the Mad Coder forgot to encrypt this number), so the answer is still 37.\n",
    "\n",
    "Input/Output\n",
    "\n",
    "    [execution time limit] 4 seconds (py3)\n",
    "\n",
    "    [input] integer n\n",
    "\n",
    "    Guaranteed constraints:\n",
    "    0 ≤ n ≤ 231 - 1.\n",
    "\n",
    "    [input] integer k\n",
    "\n",
    "    The 1-based index of the changed bit (counting from the right).\n",
    "\n",
    "    Guaranteed constraints:\n",
    "    1 ≤ k ≤ 31.\n",
    "\n",
    "    [output] integer\n"
   ]
  },
  {
   "cell_type": "code",
   "execution_count": 1,
   "metadata": {},
   "outputs": [],
   "source": [
    "def killKthBit(n, k):\n",
    "    return n & ~(1 << (k - 1))"
   ]
  },
  {
   "cell_type": "code",
   "execution_count": null,
   "metadata": {},
   "outputs": [],
   "source": []
  }
 ],
 "metadata": {
  "kernelspec": {
   "display_name": "Alg",
   "language": "python",
   "name": "alg"
  },
  "language_info": {
   "codemirror_mode": {
    "name": "ipython",
    "version": 3
   },
   "file_extension": ".py",
   "mimetype": "text/x-python",
   "name": "python",
   "nbconvert_exporter": "python",
   "pygments_lexer": "ipython3",
   "version": "3.7.3"
  }
 },
 "nbformat": 4,
 "nbformat_minor": 2
}
