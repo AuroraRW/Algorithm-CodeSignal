{
 "cells": [
  {
   "cell_type": "markdown",
   "metadata": {},
   "source": [
    "### Extra Number\n",
    "You're given three integers, a, b and c. It is guaranteed that two of these integers are equal to each other. What is the value of the third integer?\n",
    "\n",
    "Example\n",
    "\n",
    "For a = 2, b = 7, and c = 2, the output should be\n",
    "extraNumber(a, b, c) = 7.\n",
    "\n",
    "The two equal numbers are a and c. The third number (b) equals 7, which is the answer.\n",
    "\n",
    "Input/Output\n",
    "\n",
    "    [execution time limit] 4 seconds (py3)\n",
    "\n",
    "    [input] integer a\n",
    "\n",
    "    Guaranteed constraints:\n",
    "    1 ≤ a ≤ 109.\n",
    "\n",
    "    [input] integer b\n",
    "\n",
    "    Guaranteed constraints:\n",
    "    1 ≤ b ≤ 109.\n",
    "\n",
    "    [input] integer c\n",
    "\n",
    "    Guaranteed constraints:\n",
    "    1 ≤ c ≤ 109.\n",
    "\n",
    "    [output] integer\n"
   ]
  },
  {
   "cell_type": "code",
   "execution_count": 1,
   "metadata": {},
   "outputs": [],
   "source": [
    "def extraNumber(a, b, c):\n",
    "    import collections\n",
    "    Number = dict(collections.Counter([a, b, c]))\n",
    "    for k in Number.keys():\n",
    "        if Number[k] == 1:\n",
    "            return k"
   ]
  },
  {
   "cell_type": "code",
   "execution_count": 1,
   "metadata": {},
   "outputs": [],
   "source": [
    "def extraNumber(a, b, c):\n",
    "    return a ^ b ^ c "
   ]
  }
 ],
 "metadata": {
  "kernelspec": {
   "display_name": "Alg",
   "language": "python",
   "name": "alg"
  },
  "language_info": {
   "codemirror_mode": {
    "name": "ipython",
    "version": 3
   },
   "file_extension": ".py",
   "mimetype": "text/x-python",
   "name": "python",
   "nbconvert_exporter": "python",
   "pygments_lexer": "ipython3",
   "version": "3.7.3"
  }
 },
 "nbformat": 4,
 "nbformat_minor": 2
}
