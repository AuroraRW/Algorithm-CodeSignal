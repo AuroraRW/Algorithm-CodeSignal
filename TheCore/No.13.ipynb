{
 "cells": [
  {
   "cell_type": "markdown",
   "metadata": {},
   "source": [
    "### Arithmetic Expression\n",
    "Consider an arithmetic expression of the form a#b=c. Check whether it is possible to replace # with one of the four signs: +, -, * or / to obtain a correct expression.\n",
    "\n",
    "Example\n",
    "\n",
    "    For a = 2, b = 3, and c = 5, the output should be\n",
    "    arithmeticExpression(a, b, c) = true.\n",
    "\n",
    "    We can replace # with a + to obtain 2 + 3 = 5, so the answer is true.\n",
    "\n",
    "    For a = 8, b = 2, and c = 4, the output should be\n",
    "    arithmeticExpression(a, b, c) = true.\n",
    "\n",
    "    We can replace # with a / to obtain 8 / 2 = 4, so the answer is true.\n",
    "\n",
    "    For a = 8, b = 3, and c = 2, the output should be\n",
    "    arithmeticExpression(a, b, c) = false.\n",
    "        8 + 3 = 11 ≠ 2;\n",
    "        8 - 3 = 5 ≠ 2;\n",
    "        8 * 3 = 24 ≠ 2;\n",
    "        8 / 3 = 2.(6) ≠ 2.\n",
    "\n",
    "    So the answer is false.\n",
    "\n",
    "Input/Output\n",
    "\n",
    "    [execution time limit] 4 seconds (py3)\n",
    "\n",
    "    [input] integer a\n",
    "\n",
    "    Guaranteed constraints:\n",
    "    1 ≤ a ≤ 20.\n",
    "\n",
    "    [input] integer b\n",
    "\n",
    "    Guaranteed constraints:\n",
    "    1 ≤ b ≤ 20.\n",
    "\n",
    "    [input] integer c\n",
    "\n",
    "    Guaranteed constraints:\n",
    "    0 ≤ c ≤ 20.\n",
    "\n",
    "    [output] boolean\n",
    "        true if the desired replacement is possible, false otherwise.\n"
   ]
  },
  {
   "cell_type": "code",
   "execution_count": 1,
   "metadata": {},
   "outputs": [],
   "source": [
    "def arithmeticExpression(a, b, c):\n",
    "    import operator\n",
    "\n",
    "    if operator.add(a, b) == c or operator.sub(a, b) == c or operator.mul(a, b) == c or operator.truediv(a, b) == c:\n",
    "        return True\n",
    "    else:\n",
    "        return False"
   ]
  },
  {
   "cell_type": "code",
   "execution_count": 2,
   "metadata": {},
   "outputs": [],
   "source": [
    "def arithmeticExpression(a, b, c):\n",
    "    return c in (a+b,a-b,a*b,a/b)"
   ]
  },
  {
   "cell_type": "code",
   "execution_count": 3,
   "metadata": {},
   "outputs": [],
   "source": [
    "def arithmeticExpression(A, B, C):\n",
    "    return any([\n",
    "        A + B == C,\n",
    "        A - B == C,\n",
    "        A * B == C,\n",
    "        A / B == C])"
   ]
  },
  {
   "cell_type": "code",
   "execution_count": 4,
   "metadata": {},
   "outputs": [],
   "source": [
    "def arithmeticExpression(a, b, c):\n",
    "    if a + b == c:\n",
    "        return True\n",
    "    if a - b == c:\n",
    "        return True\n",
    "    if a * b == c:\n",
    "        return True\n",
    "    if a / b == c:\n",
    "        return True\n",
    "    return False"
   ]
  },
  {
   "cell_type": "code",
   "execution_count": null,
   "metadata": {},
   "outputs": [],
   "source": []
  }
 ],
 "metadata": {
  "kernelspec": {
   "display_name": "Alg",
   "language": "python",
   "name": "alg"
  },
  "language_info": {
   "codemirror_mode": {
    "name": "ipython",
    "version": 3
   },
   "file_extension": ".py",
   "mimetype": "text/x-python",
   "name": "python",
   "nbconvert_exporter": "python",
   "pygments_lexer": "ipython3",
   "version": "3.7.3"
  }
 },
 "nbformat": 4,
 "nbformat_minor": 2
}
