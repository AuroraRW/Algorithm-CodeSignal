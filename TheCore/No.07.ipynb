{
 "cells": [
  {
   "cell_type": "markdown",
   "metadata": {},
   "source": [
    "### Late Ride\n",
    "One night you go for a ride on your motorcycle. At 00:00 you start your engine, and the built-in timer automatically begins counting the length of your ride, in minutes. Off you go to explore the neighborhood.\n",
    "\n",
    "When you finally decide to head back, you realize there's a chance the bridges on your route home are up, leaving you stranded! Unfortunately, you don't have your watch on you and don't know what time it is. All you know thanks to the bike's timer is that n minutes have passed since 00:00.\n",
    "\n",
    "Using the bike's timer, calculate the current time. Return an answer as the sum of digits that the digital timer in the format hh:mm would show.\n",
    "\n",
    "Example\n",
    "\n",
    "    For n = 240, the output should be\n",
    "    lateRide(n) = 4.\n",
    "\n",
    "    Since 240 minutes have passed, the current time is 04:00. The digits sum up to 0 + 4 + 0 + 0 = 4, which is the answer.\n",
    "\n",
    "    For n = 808, the output should be\n",
    "    lateRide(n) = 14.\n",
    "\n",
    "    808 minutes mean that it's 13:28 now, so the answer should be 1 + 3 + 2 + 8 = 14.\n",
    "\n",
    "Input/Output\n",
    "\n",
    "    [execution time limit] 4 seconds (py3)\n",
    "\n",
    "    [input] integer n\n",
    "\n",
    "    The duration of your ride, in minutes. It is guaranteed that you've been riding for less than a day (24 hours).\n",
    "\n",
    "    Guaranteed constraints:\n",
    "    0 ≤ n < 60 · 24.\n",
    "\n",
    "    [output] integer\n",
    "        The sum of the digits the digital timer would show.\n"
   ]
  },
  {
   "cell_type": "code",
   "execution_count": 1,
   "metadata": {},
   "outputs": [],
   "source": [
    "def lateRide(n):\n",
    "    hours = n // 60\n",
    "    minute = n % 60\n",
    "    return hours // 10 + hours % 10 + minute // 10 + minute % 10"
   ]
  },
  {
   "cell_type": "code",
   "execution_count": 2,
   "metadata": {},
   "outputs": [],
   "source": [
    "def lateRide(n):\n",
    "    return sum(map(int, str(n // 60 * 100 + n % 60)))"
   ]
  },
  {
   "cell_type": "code",
   "execution_count": 3,
   "metadata": {},
   "outputs": [],
   "source": [
    "def lateRide(n):\n",
    "    m, s = divmod(n, 60)\n",
    "    return sum([int(i) for i in str(m)+str(s)])"
   ]
  }
 ],
 "metadata": {
  "kernelspec": {
   "display_name": "Alg",
   "language": "python",
   "name": "alg"
  },
  "language_info": {
   "codemirror_mode": {
    "name": "ipython",
    "version": 3
   },
   "file_extension": ".py",
   "mimetype": "text/x-python",
   "name": "python",
   "nbconvert_exporter": "python",
   "pygments_lexer": "ipython3",
   "version": "3.7.3"
  }
 },
 "nbformat": 4,
 "nbformat_minor": 2
}
