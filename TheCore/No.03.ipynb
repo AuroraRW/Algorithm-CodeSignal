{
 "cells": [
  {
   "cell_type": "markdown",
   "metadata": {},
   "source": [
    "### Candies\n",
    "n children have got m pieces of candy. They want to eat as much candy as they can, but each child must eat exactly the same amount of candy as any other child. Determine how many pieces of candy will be eaten by all the children together. Individual pieces of candy cannot be split.\n",
    "Example\n",
    "\n",
    "For n = 3 and m = 10, the output should be\n",
    "candies(n, m) = 9.\n",
    "\n",
    "Each child will eat 3 pieces. So the answer is 9.\n",
    "\n",
    "Input/Output\n",
    "\n",
    "    [execution time limit] 4 seconds (py3)\n",
    "\n",
    "    [input] integer n\n",
    "\n",
    "    The number of children.\n",
    "\n",
    "    Guaranteed constraints:\n",
    "    1 ≤ n ≤ 10.\n",
    "\n",
    "    [input] integer m\n",
    "\n",
    "    The number of pieces of candy.\n",
    "\n",
    "    Guaranteed constraints:\n",
    "    2 ≤ m ≤ 100.\n",
    "\n",
    "    [output] integer\n",
    "        The total number of pieces of candy the children will eat provided they eat as much as they can and all children eat the same amount.\n"
   ]
  },
  {
   "cell_type": "code",
   "execution_count": 1,
   "metadata": {},
   "outputs": [],
   "source": [
    "def candies(n, m):\n",
    "    return (m // n) * n"
   ]
  },
  {
   "cell_type": "code",
   "execution_count": 2,
   "metadata": {},
   "outputs": [],
   "source": [
    "def candies(n, m):   \n",
    "    return m - m % n"
   ]
  },
  {
   "cell_type": "code",
   "execution_count": null,
   "metadata": {},
   "outputs": [],
   "source": []
  }
 ],
 "metadata": {
  "kernelspec": {
   "display_name": "Alg",
   "language": "python",
   "name": "alg"
  },
  "language_info": {
   "codemirror_mode": {
    "name": "ipython",
    "version": 3
   },
   "file_extension": ".py",
   "mimetype": "text/x-python",
   "name": "python",
   "nbconvert_exporter": "python",
   "pygments_lexer": "ipython3",
   "version": "3.7.3"
  }
 },
 "nbformat": 4,
 "nbformat_minor": 2
}
