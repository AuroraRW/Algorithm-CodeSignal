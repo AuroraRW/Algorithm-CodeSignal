{
 "cells": [
  {
   "cell_type": "markdown",
   "metadata": {},
   "source": [
    "### Will You\n",
    "Once Mary heard a famous song, and a line from it stuck in her head. That line was \"Will you still love me when I'm no longer young and beautiful?\". Mary believes that a person is loved if and only if he/she is both young and beautiful, but this is quite a depressing thought, so she wants to put her belief to the test.\n",
    "\n",
    "Knowing whether a person is young, beautiful and loved, find out if they contradict Mary's belief.\n",
    "\n",
    "A person contradicts Mary's belief if one of the following statements is true:\n",
    "\n",
    "    they are young and beautiful but not loved;\n",
    "    they are loved but not young or not beautiful.\n",
    "\n",
    "Example\n",
    "\n",
    "    For young = true, beautiful = true, and loved = true, the output should be\n",
    "    willYou(young, beautiful, loved) = false.\n",
    "\n",
    "    Young and beautiful people are loved according to Mary's belief.\n",
    "\n",
    "    For young = true, beautiful = false, and loved = true, the output should be\n",
    "    willYou(young, beautiful, loved) = true.\n",
    "\n",
    "    Mary doesn't believe that not beautiful people can be loved.\n",
    "\n",
    "Input/Output\n",
    "\n",
    "    [execution time limit] 4 seconds (py3)\n",
    "\n",
    "    [input] boolean young\n",
    "\n",
    "    [input] boolean beautiful\n",
    "\n",
    "    [input] boolean loved\n",
    "\n",
    "    [output] boolean\n",
    "        true if the person contradicts Mary's belief, false otherwise.\n"
   ]
  },
  {
   "cell_type": "code",
   "execution_count": 1,
   "metadata": {},
   "outputs": [],
   "source": [
    "def willYou(young, beautiful, loved):\n",
    "    if young and beautiful and not loved:\n",
    "        return True\n",
    "    if (not young or not beautiful) and loved:\n",
    "        return True\n",
    "    return False"
   ]
  },
  {
   "cell_type": "code",
   "execution_count": null,
   "metadata": {},
   "outputs": [],
   "source": []
  }
 ],
 "metadata": {
  "kernelspec": {
   "display_name": "Alg",
   "language": "python",
   "name": "alg"
  },
  "language_info": {
   "codemirror_mode": {
    "name": "ipython",
    "version": 3
   },
   "file_extension": ".py",
   "mimetype": "text/x-python",
   "name": "python",
   "nbconvert_exporter": "python",
   "pygments_lexer": "ipython3",
   "version": "3.7.3"
  }
 },
 "nbformat": 4,
 "nbformat_minor": 2
}
