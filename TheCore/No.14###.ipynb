{
 "cells": [
  {
   "cell_type": "markdown",
   "metadata": {},
   "source": [
    "### Tennis Set\n",
    "In tennis, the winner of a set is based on how many games each player wins. The first player to win 6 games is declared the winner unless their opponent had already won 5 games, in which case the set continues until one of the players has won 7 games.\n",
    "\n",
    "Given two integers score1 and score2, your task is to determine if it is possible for a tennis set to be finished with a final score of score1 : score2.\n",
    "\n",
    "Example\n",
    "\n",
    "    For score1 = 3 and score2 = 6, the output should be\n",
    "    tennisSet(score1, score2) = true.\n",
    "\n",
    "    Since player 1 hadn't reached 5 wins, the set ends once player 2 has won 6 games.\n",
    "\n",
    "    For score1 = 8 and score2 = 5, the output should be\n",
    "    tennisSet(score1, score2) = false.\n",
    "\n",
    "    Since both players won at least 5 games, the set would've ended once one of them won the 7th one.\n",
    "\n",
    "    For score1 = 6 and score2 = 5, the output should be\n",
    "    tennisSet(score1, score2) = false.\n",
    "\n",
    "    This set will continue until one of these players wins their 7th game, so this can't be the final score.\n",
    "\n",
    "Input/Output\n",
    "\n",
    "    [execution time limit] 4 seconds (py3)\n",
    "\n",
    "    [input] integer score1\n",
    "\n",
    "    Number of games won by the 1st player, non-negative integer.\n",
    "\n",
    "    Guaranteed constraints:\n",
    "    0 ≤ score1 ≤ 10.\n",
    "\n",
    "    [input] integer score2\n",
    "\n",
    "    Number of games won by the 2nd player, non-negative integer.\n",
    "\n",
    "    Guaranteed constraints:\n",
    "    0 ≤ score2 ≤ 10.\n",
    "\n",
    "    [output] boolean\n",
    "        true if score1 : score2 represents a possible score for an ended set, false otherwise.\n"
   ]
  },
  {
   "cell_type": "code",
   "execution_count": 1,
   "metadata": {},
   "outputs": [],
   "source": [
    "def tennisSet(score1, score2):\n",
    "    if((score1 == 5 or score1 == 6) and score2 == 7 or\n",
    "           (score2 == 5 or score2 == 6) and score1 == 7 or\n",
    "          score1<5 and score2==6 or score2<5 and score1==6):\n",
    "        return True\n",
    "    else:\n",
    "        return False"
   ]
  },
  {
   "cell_type": "code",
   "execution_count": 2,
   "metadata": {},
   "outputs": [],
   "source": [
    "def tennisSet(score1, score2):\n",
    "    mins, maxs = (min(score1, score2), max(score1, score2))\n",
    "    return (maxs == 6 and mins < 5) or (maxs == 7 and mins in (5,6))"
   ]
  },
  {
   "cell_type": "code",
   "execution_count": null,
   "metadata": {},
   "outputs": [],
   "source": []
  }
 ],
 "metadata": {
  "kernelspec": {
   "display_name": "Alg",
   "language": "python",
   "name": "alg"
  },
  "language_info": {
   "codemirror_mode": {
    "name": "ipython",
    "version": 3
   },
   "file_extension": ".py",
   "mimetype": "text/x-python",
   "name": "python",
   "nbconvert_exporter": "python",
   "pygments_lexer": "ipython3",
   "version": "3.7.3"
  }
 },
 "nbformat": 4,
 "nbformat_minor": 2
}
