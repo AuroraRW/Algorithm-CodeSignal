{
 "cells": [
  {
   "cell_type": "markdown",
   "metadata": {},
   "source": [
    "### Metro Card\n",
    "You just bought a public transit card that allows you to ride the Metro for a certain number of days.\n",
    "\n",
    "Here is how it works: upon first receiving the card, the system allocates you a 31-day pass, which equals the number of days in January. The second time you pay for the card, your pass is extended by 28 days, i.e. the number of days in February (note that leap years are not considered), and so on. The 13th time you extend the pass, you get 31 days again.\n",
    "\n",
    "You just ran out of days on the card, and unfortunately you've forgotten how many times your pass has been extended so far. However, you do remember the number of days you were able to ride the Metro during this most recent month. Figure out the number of days by which your pass will now be extended, and return all the options as an array sorted in increasing order.\n",
    "\n",
    "Example\n",
    "\n",
    "For lastNumberOfDays = 30, the output should be\n",
    "metroCard(lastNumberOfDays) = [31].\n",
    "\n",
    "There are 30 days in April, June, September and November, so the next months to consider are May, July, October or December. All of them have exactly 31 days, which means that you will definitely get a 31-days pass the next time you extend your card.\n",
    "\n",
    "Input/Output\n",
    "\n",
    "    [execution time limit] 4 seconds (py3)\n",
    "\n",
    "    [input] integer lastNumberOfDays\n",
    "\n",
    "    A positive integer, the number of days for which the card was extended the last time.\n",
    "\n",
    "    Guaranteed constraints:\n",
    "    lastNumberOfDays = 28 or lastNumberOfDays = 30 or lastNumberOfDays = 31.\n",
    "\n",
    "    [output] array.integer\n",
    "        An array of positive integers, the possible number of days for which you will extend your pass. The elements of the array can only be equal to 28, 30 or 31 and must be sorted in increasing order.\n"
   ]
  },
  {
   "cell_type": "code",
   "execution_count": 2,
   "metadata": {},
   "outputs": [],
   "source": [
    "def metroCard(lastNumberOfDays):\n",
    "    Number = {0: 31, 1: 28, 2: 31, 3: 30, 4: 31, 5: 30, 6: 31, 7: 31, 8: 30, 9: 31, 10: 30, 11: 31}\n",
    "    result = set()\n",
    "    for i in Number.keys():\n",
    "        if Number[i] == lastNumberOfDays:\n",
    "            result.add(Number[(i + 1) %12])\n",
    "    result = list(result)\n",
    "    result.sort()\n",
    "    \n",
    "    return result"
   ]
  },
  {
   "cell_type": "code",
   "execution_count": 3,
   "metadata": {},
   "outputs": [],
   "source": [
    "def metroCard(lastNumberOfDays):\n",
    "    if lastNumberOfDays == 31:\n",
    "        return [28, 30, 31]\n",
    "    return [31]"
   ]
  },
  {
   "cell_type": "code",
   "execution_count": null,
   "metadata": {},
   "outputs": [],
   "source": []
  }
 ],
 "metadata": {
  "kernelspec": {
   "display_name": "Alg",
   "language": "python",
   "name": "alg"
  }
 },
 "nbformat": 4,
 "nbformat_minor": 2
}
