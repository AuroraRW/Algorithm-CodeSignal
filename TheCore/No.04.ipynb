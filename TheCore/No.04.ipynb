{
 "cells": [
  {
   "cell_type": "markdown",
   "metadata": {},
   "source": [
    "### Seats in Theater\n",
    "Your friend advised you to see a new performance in the most popular theater in the city. He knows a lot about art and his advice is usually good, but not this time: the performance turned out to be awfully dull. It's so bad you want to sneak out, which is quite simple, especially since the exit is located right behind your row to the left. All you need to do is climb over your seat and make your way to the exit.\n",
    "\n",
    "The main problem is your shyness: you're afraid that you'll end up blocking the view (even if only for a couple of seconds) of all the people who sit behind you and in your column or the columns to your left. To gain some courage, you decide to calculate the number of such people and see if you can possibly make it to the exit without disturbing too many people.\n",
    "\n",
    "Given the total number of rows and columns in the theater (nRows and nCols, respectively), and the row and column you're sitting in, return the number of people who sit strictly behind you and in your column or to the left, assuming all seats are occupied.\n",
    "\n",
    "Example\n",
    "\n",
    "For nCols = 16, nRows = 11, col = 5, and row = 3, the output should be\n",
    "seatsInTheater(nCols, nRows, col, row) = 96.\n",
    "\n",
    "Here is what the theater looks like:\n",
    "![title](04-1.png)\n",
    "Input/Output\n",
    "\n",
    "    [execution time limit] 4 seconds (py3)\n",
    "\n",
    "    [input] integer nCols\n",
    "\n",
    "    An integer, the number of theater's columns.\n",
    "\n",
    "    Guaranteed constraints:\n",
    "    1 ≤ nCols ≤ 1000.\n",
    "\n",
    "    [input] integer nRows\n",
    "\n",
    "    An integer, the number of theater's rows.\n",
    "\n",
    "    Guaranteed constraints:\n",
    "    1 ≤ nRows ≤ 1000.\n",
    "\n",
    "    [input] integer col\n",
    "\n",
    "    An integer, the column number of your own seat (1-based).\n",
    "\n",
    "    Guaranteed constraints:\n",
    "    1 ≤ col ≤ nCols.\n",
    "\n",
    "    [input] integer row\n",
    "\n",
    "    An integer, the row number of your own seat (1-based).\n",
    "\n",
    "    Guaranteed constraints:\n",
    "    1 ≤ row ≤ nRows.\n",
    "\n",
    "    [output] integer\n",
    "        The number of people who sit strictly behind you and in your column or to the left.\n"
   ]
  },
  {
   "cell_type": "code",
   "execution_count": null,
   "metadata": {},
   "outputs": [],
   "source": [
    "def seatsInTheater(nCols, nRows, col, row):\n",
    "    return (nCols - col + 1) * (nRows - row)"
   ]
  }
 ],
 "metadata": {
  "kernelspec": {
   "display_name": "Alg",
   "language": "python",
   "name": "alg"
  },
  "language_info": {
   "codemirror_mode": {
    "name": "ipython",
    "version": 3
   },
   "file_extension": ".py",
   "mimetype": "text/x-python",
   "name": "python",
   "nbconvert_exporter": "python",
   "pygments_lexer": "ipython3",
   "version": "3.7.3"
  }
 },
 "nbformat": 4,
 "nbformat_minor": 2
}
