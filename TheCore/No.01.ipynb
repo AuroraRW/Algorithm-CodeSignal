{
 "cells": [
  {
   "cell_type": "markdown",
   "metadata": {},
   "source": [
    "### Add Two Digits\n",
    "You are given a two-digit integer n. Return the sum of its digits.\n",
    "\n",
    "Example\n",
    "\n",
    "For n = 29, the output should be\n",
    "addTwoDigits(n) = 11.\n",
    "Input/Output\n",
    "\n",
    "    [execution time limit] 4 seconds (py3)\n",
    "\n",
    "    [input] integer n\n",
    "\n",
    "    A positive two-digit integer.\n",
    "\n",
    "    Guaranteed constraints:\n",
    "    10 ≤ n ≤ 99.\n",
    "\n",
    "    [output] integer\n",
    "        The sum of the first and second digits of the input number.\n"
   ]
  },
  {
   "cell_type": "code",
   "execution_count": 2,
   "metadata": {},
   "outputs": [],
   "source": [
    "def addTwoDigits(n):\n",
    "    return n // 10 + n % 10"
   ]
  }
 ],
 "metadata": {
  "kernelspec": {
   "display_name": "Alg",
   "language": "python",
   "name": "alg"
  },
  "language_info": {
   "codemirror_mode": {
    "name": "ipython",
    "version": 3
   },
   "file_extension": ".py",
   "mimetype": "text/x-python",
   "name": "python",
   "nbconvert_exporter": "python",
   "pygments_lexer": "ipython3",
   "version": "3.7.3"
  }
 },
 "nbformat": 4,
 "nbformat_minor": 2
}
