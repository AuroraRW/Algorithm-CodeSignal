{
 "cells": [
  {
   "cell_type": "markdown",
   "metadata": {},
   "source": [
    "### Cirle of Numbers\n",
    "Consider integer numbers from 0 to n - 1 written down along the circle in such a way that the distance between any two neighboring numbers is equal (note that 0 and n - 1 are neighboring, too).\n",
    "\n",
    "Given n and firstNumber, find the number which is written in the radially opposite position to firstNumber.\n",
    "\n",
    "Example\n",
    "\n",
    "For n = 10 and firstNumber = 2, the output should be\n",
    "circleOfNumbers(n, firstNumber) = 7.\n",
    "![title](06-1.png)\n",
    "Input/Output\n",
    "\n",
    "    [execution time limit] 4 seconds (py3)\n",
    "\n",
    "    [input] integer n\n",
    "\n",
    "    A positive even integer.\n",
    "\n",
    "    Guaranteed constraints:\n",
    "    4 ≤ n ≤ 20.\n",
    "\n",
    "    [input] integer firstNumber\n",
    "\n",
    "    Guaranteed constraints:\n",
    "    0 ≤ firstNumber ≤ n - 1.\n",
    "\n",
    "    [output] integer\n"
   ]
  },
  {
   "cell_type": "code",
   "execution_count": 1,
   "metadata": {},
   "outputs": [],
   "source": [
    "def circleOfNumbers(n, firstNumber):\n",
    "    return (n // 2 + firstNumber) % n"
   ]
  },
  {
   "cell_type": "code",
   "execution_count": null,
   "metadata": {},
   "outputs": [],
   "source": []
  }
 ],
 "metadata": {
  "kernelspec": {
   "display_name": "Alg",
   "language": "python",
   "name": "alg"
  },
  "language_info": {
   "codemirror_mode": {
    "name": "ipython",
    "version": 3
   },
   "file_extension": ".py",
   "mimetype": "text/x-python",
   "name": "python",
   "nbconvert_exporter": "python",
   "pygments_lexer": "ipython3",
   "version": "3.7.3"
  }
 },
 "nbformat": 4,
 "nbformat_minor": 2
}
