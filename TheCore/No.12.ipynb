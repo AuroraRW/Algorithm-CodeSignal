{
 "cells": [
  {
   "cell_type": "markdown",
   "metadata": {},
   "source": [
    "### Is Infinite Process\n",
    "Given integers a and b, determine whether the following pseudocode results in an infinite loop\n",
    "\n",
    "while a is not equal to b do\n",
    "  increase a by 1\n",
    "  decrease b by 1\n",
    "\n",
    "Assume that the program is executed on a virtual machine which can store arbitrary long numbers and execute forever.\n",
    "\n",
    "Example\n",
    "\n",
    "    For a = 2 and b = 6, the output should be\n",
    "    isInfiniteProcess(a, b) = false;\n",
    "    For a = 2 and b = 3, the output should be\n",
    "    isInfiniteProcess(a, b) = true.\n",
    "\n",
    "Input/Output\n",
    "\n",
    "    [execution time limit] 4 seconds (py3)\n",
    "\n",
    "    [input] integer a\n",
    "\n",
    "    Guaranteed constraints:\n",
    "    0 ≤ a ≤ 20.\n",
    "\n",
    "    [input] integer b\n",
    "\n",
    "    Guaranteed constraints:\n",
    "    0 ≤ b ≤ 20.\n",
    "\n",
    "    [output] boolean\n",
    "        true if the pseudocode will never stop, false otherwise.\n"
   ]
  },
  {
   "cell_type": "code",
   "execution_count": 1,
   "metadata": {},
   "outputs": [],
   "source": [
    "def isInfiniteProcess(a, b):\n",
    "    while a is not b:\n",
    "        a = a + 1\n",
    "        b = b - 1\n",
    "        if a > b:\n",
    "            return True\n",
    "    return False"
   ]
  },
  {
   "cell_type": "code",
   "execution_count": 2,
   "metadata": {},
   "outputs": [],
   "source": [
    "def isInfiniteProcess(a, b):\n",
    "    return (a+b)%2 != 0 or (a > b)"
   ]
  }
 ],
 "metadata": {
  "kernelspec": {
   "display_name": "Alg",
   "language": "python",
   "name": "alg"
  },
  "language_info": {
   "codemirror_mode": {
    "name": "ipython",
    "version": 3
   },
   "file_extension": ".py",
   "mimetype": "text/x-python",
   "name": "python",
   "nbconvert_exporter": "python",
   "pygments_lexer": "ipython3",
   "version": "3.7.3"
  }
 },
 "nbformat": 4,
 "nbformat_minor": 2
}
