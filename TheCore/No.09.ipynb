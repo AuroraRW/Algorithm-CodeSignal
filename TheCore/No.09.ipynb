{
 "cells": [
  {
   "cell_type": "markdown",
   "metadata": {},
   "source": [
    "### Reach Next Level\n",
    "You are playing an RPG game. Currently your experience points (XP) total is equal to experience. To reach the next level your XP should be at least at threshold. If you kill the monster in front of you, you will gain more experience points in the amount of the reward.\n",
    "\n",
    "Given values experience, threshold and reward, check if you reach the next level after killing the monster.\n",
    "\n",
    "Example\n",
    "\n",
    "    For experience = 10, threshold = 15, and reward = 5, the output should be\n",
    "    reachNextLevel(experience, threshold, reward) = true;\n",
    "    For experience = 10, threshold = 15, and reward = 4, the output should be\n",
    "    reachNextLevel(experience, threshold, reward) = false.\n",
    "\n",
    "Input/Output\n",
    "\n",
    "    [execution time limit] 4 seconds (py3)\n",
    "\n",
    "    [input] integer experience\n",
    "\n",
    "    Guaranteed constraints:\n",
    "    3 ≤ experience ≤ 250.\n",
    "\n",
    "    [input] integer threshold\n",
    "\n",
    "    Guaranteed constraints:\n",
    "    5 ≤ threshold ≤ 300.\n",
    "\n",
    "    [input] integer reward\n",
    "\n",
    "    Guaranteed constraints:\n",
    "    2 ≤ reward ≤ 65.\n",
    "\n",
    "    [output] boolean\n",
    "        true if you reach the next level, false otherwise.\n"
   ]
  },
  {
   "cell_type": "code",
   "execution_count": 1,
   "metadata": {},
   "outputs": [],
   "source": [
    "def reachNextLevel(experience, threshold, reward):\n",
    "    if experience + reward < threshold:\n",
    "        return False\n",
    "    else:\n",
    "        return True"
   ]
  },
  {
   "cell_type": "code",
   "execution_count": null,
   "metadata": {},
   "outputs": [],
   "source": []
  }
 ],
 "metadata": {
  "kernelspec": {
   "display_name": "Alg",
   "language": "python",
   "name": "alg"
  },
  "language_info": {
   "codemirror_mode": {
    "name": "ipython",
    "version": 3
   },
   "file_extension": ".py",
   "mimetype": "text/x-python",
   "name": "python",
   "nbconvert_exporter": "python",
   "pygments_lexer": "ipython3",
   "version": "3.7.3"
  }
 },
 "nbformat": 4,
 "nbformat_minor": 2
}
