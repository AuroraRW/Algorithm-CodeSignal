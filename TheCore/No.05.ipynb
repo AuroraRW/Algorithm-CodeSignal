{
 "cells": [
  {
   "cell_type": "markdown",
   "metadata": {},
   "source": [
    "### Max Multiple\n",
    "Given a divisor and a bound, find the largest integer N such that:\n",
    "\n",
    "    N is divisible by divisor.\n",
    "    N is less than or equal to bound.\n",
    "    N is greater than 0.\n",
    "\n",
    "It is guaranteed that such a number exists.\n",
    "\n",
    "Example\n",
    "\n",
    "For divisor = 3 and bound = 10, the output should be\n",
    "maxMultiple(divisor, bound) = 9.\n",
    "\n",
    "The largest integer divisible by 3 and not larger than 10 is 9.\n",
    "\n",
    "Input/Output\n",
    "\n",
    "    [execution time limit] 4 seconds (py3)\n",
    "\n",
    "    [input] integer divisor\n",
    "\n",
    "    Guaranteed constraints:\n",
    "    2 ≤ divisor ≤ 10.\n",
    "\n",
    "    [input] integer bound\n",
    "\n",
    "    Guaranteed constraints:\n",
    "    5 ≤ bound ≤ 100.\n",
    "\n",
    "    [output] integer\n",
    "        The largest integer not greater than bound that is divisible by divisor.\n"
   ]
  },
  {
   "cell_type": "code",
   "execution_count": 2,
   "metadata": {},
   "outputs": [],
   "source": [
    "def maxMultiple(divisor, bound):\n",
    "    for i in range(bound, 0, -1):\n",
    "        if i % divisor == 0:\n",
    "            return i"
   ]
  },
  {
   "cell_type": "code",
   "execution_count": 3,
   "metadata": {},
   "outputs": [],
   "source": [
    "def maxMultiple(divisor, bound):\n",
    "    return bound - (bound % divisor)"
   ]
  },
  {
   "cell_type": "code",
   "execution_count": 4,
   "metadata": {},
   "outputs": [],
   "source": [
    "def maxMultiple(divisor, bound):\n",
    "    return (bound // divisor) * divisor"
   ]
  },
  {
   "cell_type": "code",
   "execution_count": null,
   "metadata": {},
   "outputs": [],
   "source": []
  }
 ],
 "metadata": {
  "kernelspec": {
   "display_name": "Alg",
   "language": "python",
   "name": "alg"
  }
 },
 "nbformat": 4,
 "nbformat_minor": 2
}
