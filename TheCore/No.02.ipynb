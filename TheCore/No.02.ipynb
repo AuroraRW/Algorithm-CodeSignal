{
 "cells": [
  {
   "cell_type": "markdown",
   "metadata": {},
   "source": [
    "### Largest Number\n",
    "Given an integer n, return the largest number that contains exactly n digits.\n",
    "Example\n",
    "\n",
    "For n = 2, the output should be\n",
    "largestNumber(n) = 99.\n",
    "\n",
    "Input/Output\n",
    "\n",
    "    [execution time limit] 4 seconds (py3)\n",
    "\n",
    "    [input] integer n\n",
    "\n",
    "    Guaranteed constraints:\n",
    "    1 ≤ n ≤ 9.\n",
    "\n",
    "    [output] integer\n",
    "        The largest integer of length n.\n"
   ]
  },
  {
   "cell_type": "code",
   "execution_count": 1,
   "metadata": {},
   "outputs": [],
   "source": [
    "def largestNumber(n):\n",
    "    result = '1'\n",
    "    for i in range(n):\n",
    "        result = result + '0'\n",
    "    \n",
    "    return int(result) - 1"
   ]
  },
  {
   "cell_type": "code",
   "execution_count": 3,
   "metadata": {},
   "outputs": [],
   "source": [
    "def largestNumber(n):\n",
    "    return int('9'*n)"
   ]
  },
  {
   "cell_type": "code",
   "execution_count": 4,
   "metadata": {},
   "outputs": [],
   "source": [
    "def largestNumber(n):\n",
    "    return 10 ** n - 1"
   ]
  },
  {
   "cell_type": "code",
   "execution_count": null,
   "metadata": {},
   "outputs": [],
   "source": []
  }
 ],
 "metadata": {
  "kernelspec": {
   "display_name": "Alg",
   "language": "python",
   "name": "alg"
  },
  "language_info": {
   "codemirror_mode": {
    "name": "ipython",
    "version": 3
   },
   "file_extension": ".py",
   "mimetype": "text/x-python",
   "name": "python",
   "nbconvert_exporter": "python",
   "pygments_lexer": "ipython3",
   "version": "3.7.3"
  }
 },
 "nbformat": 4,
 "nbformat_minor": 2
}
