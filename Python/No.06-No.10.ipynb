{
 "cells": [
  {
   "cell_type": "markdown",
   "metadata": {},
   "source": [
    "### No. 06 Nodulus\n",
    "Implement the missing code, denoted by ellipses. You may not modify the pre-existing code.\n",
    "\n",
    "It frustrates you more than you'd like to admit that the modulus operator in Python can be applied to non-integer values. When you write code, you expect the result of the modulus operator to always be an integer, but thanks to Python this isn't always the case.\n",
    "\n",
    "To fix this, you've decided to write your own modulus operator as a function. Your task is to implement a function that, given a number n, returns -1 if this number is not an integer and n % 2 otherwise. It is guaranteed that if the number represents an integer, it will be written without a decimal point.\n",
    "\n",
    "Example\n",
    "\n",
    "    For n = 15, the output should be\n",
    "    modulus(n) = 1;\n",
    "\n",
    "    For n = 23.12, the output should be\n",
    "    modulus(n) = -1.\n",
    "\n",
    "Input/Output\n",
    "\n",
    "    [execution time limit] 4 seconds (py)\n",
    "\n",
    "    [input] numeric n\n",
    "\n",
    "    A non-negative number that can be an int, a float, or a long.\n",
    "\n",
    "    Guaranteed constraints:\n",
    "    0 ≤ n ≤ 1000.\n",
    "\n",
    "    [output] integer\n",
    "        Return n % 2 if n is an integer, otherwise return -1."
   ]
  },
  {
   "cell_type": "code",
   "execution_count": 1,
   "metadata": {},
   "outputs": [],
   "source": [
    "def modulus(n):\n",
    "    if n * 10 % 10 == 0:\n",
    "        return n % 2\n",
    "    else:\n",
    "        return -1"
   ]
  },
  {
   "cell_type": "code",
   "execution_count": 2,
   "metadata": {},
   "outputs": [],
   "source": [
    "def modulus(n):\n",
    "    if int(n) == n:\n",
    "        return n % 2\n",
    "    else:\n",
    "        return -1"
   ]
  },
  {
   "cell_type": "code",
   "execution_count": 2,
   "metadata": {},
   "outputs": [],
   "source": [
    "def modulus(n):\n",
    "    if type(n) is int:\n",
    "        return n % 2\n",
    "    else:\n",
    "        return -1"
   ]
  },
  {
   "cell_type": "code",
   "execution_count": 3,
   "metadata": {},
   "outputs": [],
   "source": [
    "def modulus(n):\n",
    "    if n % 1 == n:\n",
    "        return n % 2\n",
    "    else:\n",
    "        return -1"
   ]
  },
  {
   "cell_type": "code",
   "execution_count": 4,
   "metadata": {},
   "outputs": [],
   "source": [
    "def modulus(n):\n",
    "    if isinstance(n, int):\n",
    "        return n % 2\n",
    "    else:\n",
    "        return -1"
   ]
  },
  {
   "cell_type": "markdown",
   "metadata": {},
   "source": [
    "### No.07 Simple Sort\n",
    "Implement the missing code, denoted by ellipses. You may not modify the pre-existing code.\n",
    "\n",
    "To understand how efficient the built-in Python sorting function is, you decided to implement your own simple sorting algorithm and compare its speed to the speed of the Python sorting. Write a function that, given an array of integers arr, sorts its elements in ascending order.\n",
    "\n",
    "Hint: with Python it's possible to swap several elements in a single line. To solve the task, use this knowledge to fill in both of the blanks (...).\n",
    "\n",
    "Example\n",
    "For arr = [2, 4, 1, 5], the output should be\n",
    "simpleSort(arr) = [1, 2, 4, 5].\n",
    "\n",
    "Input/Output\n",
    "\n",
    "    [execution time limit] 4 seconds (py)\n",
    "\n",
    "    [input] array.integer arr\n",
    "\n",
    "    Guaranteed constraints:\n",
    "    1 ≤ arr.length ≤ 500,\n",
    "    -105 ≤ arr[i] ≤ 105.\n",
    "\n",
    "    [output] array.integer\n",
    "        The given array with elements sorted in ascending order.\n"
   ]
  },
  {
   "cell_type": "code",
   "execution_count": 5,
   "metadata": {},
   "outputs": [],
   "source": [
    "# bubble sorting\n",
    "def simpleSort(arr):\n",
    "\n",
    "    n = len(arr)\n",
    "\n",
    "    for i in range(n):\n",
    "        j = 0\n",
    "        stop = n - i\n",
    "        while j < stop - 1:\n",
    "            if arr[j] > arr[j + 1]:\n",
    "                arr[j], arr[j + 1] = arr[j + 1], arr[j]\n",
    "            j += 1\n",
    "    return arr"
   ]
  },
  {
   "cell_type": "markdown",
   "metadata": {},
   "source": [
    "### No.08 Base Conversion\n",
    "Implement the missing code, denoted by ellipses. You may not modify the pre-existing code.\n",
    "\n",
    "Your university professor decided to have a little fun and asked the class to implement a function that, given a number n and a base x, converts the number from base x to base 16. To make things more interesting, he announced that the first student to write the solution will have to answer fewer question than the rest of the class during the final exam.\n",
    "\n",
    "Laughing devilishly, you asked if it was okay to use a language of your choice, and the unsuspecting professor answered \"yes\". It's settled then: Python is your language of choice!\n",
    "\n",
    "Now you're bound to win. Implement a function that, given an integer number n and a base x, converts n from base x to base 16.\n",
    "\n",
    "Example\n",
    "\n",
    "For n = \"1302\" and x = 5, the output should be\n",
    "baseConversion(n, x) = \"ca\".\n",
    "\n",
    "Here's why:\n",
    "13025 = 20210 = ca16.\n",
    "\n",
    "Input/Output\n",
    "\n",
    "    [execution time limit] 4 seconds (py)\n",
    "\n",
    "    [input] string n\n",
    "\n",
    "    A valid non-negative integer in base x. The string is guaranteed to consist of digits and lowercase English letters.\n",
    "\n",
    "    Guaranteed constraints:\n",
    "    1 < n.length ≤ 10.\n",
    "\n",
    "    [input] integer x\n",
    "\n",
    "    The base of n.\n",
    "\n",
    "    Guaranteed constraints:\n",
    "    2 ≤ x ≤ 36.\n",
    "\n",
    "    [output] string\n",
    "        The value of n in base 16. The string should contain only digits and lowercase English letters 'a' - 'f'.\n"
   ]
  },
  {
   "cell_type": "code",
   "execution_count": 8,
   "metadata": {},
   "outputs": [],
   "source": [
    "def baseConversion(n, x):\n",
    "    #get rid of 'OX'\n",
    "    return hex(int(str(n),x))[2:] "
   ]
  },
  {
   "cell_type": "code",
   "execution_count": null,
   "metadata": {},
   "outputs": [],
   "source": []
  }
 ],
 "metadata": {
  "kernelspec": {
   "display_name": "Python 3",
   "language": "python",
   "name": "python3"
  },
  "language_info": {
   "codemirror_mode": {
    "name": "ipython",
    "version": 3
   },
   "file_extension": ".py",
   "mimetype": "text/x-python",
   "name": "python",
   "nbconvert_exporter": "python",
   "pygments_lexer": "ipython3",
   "version": "3.7.3"
  }
 },
 "nbformat": 4,
 "nbformat_minor": 2
}
