{
 "cells": [
  {
   "cell_type": "markdown",
   "metadata": {},
   "source": [
    "### No. 06 Nodulus\n",
    "Implement the missing code, denoted by ellipses. You may not modify the pre-existing code.\n",
    "\n",
    "It frustrates you more than you'd like to admit that the modulus operator in Python can be applied to non-integer values. When you write code, you expect the result of the modulus operator to always be an integer, but thanks to Python this isn't always the case.\n",
    "\n",
    "To fix this, you've decided to write your own modulus operator as a function. Your task is to implement a function that, given a number n, returns -1 if this number is not an integer and n % 2 otherwise. It is guaranteed that if the number represents an integer, it will be written without a decimal point.\n",
    "\n",
    "Example\n",
    "\n",
    "    For n = 15, the output should be\n",
    "    modulus(n) = 1;\n",
    "\n",
    "    For n = 23.12, the output should be\n",
    "    modulus(n) = -1.\n",
    "\n",
    "Input/Output\n",
    "\n",
    "    [execution time limit] 4 seconds (py)\n",
    "\n",
    "    [input] numeric n\n",
    "\n",
    "    A non-negative number that can be an int, a float, or a long.\n",
    "\n",
    "    Guaranteed constraints:\n",
    "    0 ≤ n ≤ 1000.\n",
    "\n",
    "    [output] integer\n",
    "        Return n % 2 if n is an integer, otherwise return -1."
   ]
  },
  {
   "cell_type": "code",
   "execution_count": 1,
   "metadata": {},
   "outputs": [],
   "source": [
    "def modulus(n):\n",
    "    if n * 10 % 10 == 0:\n",
    "        return n % 2\n",
    "    else:\n",
    "        return -1"
   ]
  },
  {
   "cell_type": "code",
   "execution_count": 2,
   "metadata": {},
   "outputs": [],
   "source": [
    "def modulus(n):\n",
    "    if int(n) == n:\n",
    "        return n % 2\n",
    "    else:\n",
    "        return -1"
   ]
  },
  {
   "cell_type": "code",
   "execution_count": 2,
   "metadata": {},
   "outputs": [],
   "source": [
    "def modulus(n):\n",
    "    if type(n) is int:\n",
    "        return n % 2\n",
    "    else:\n",
    "        return -1"
   ]
  },
  {
   "cell_type": "code",
   "execution_count": 3,
   "metadata": {},
   "outputs": [],
   "source": [
    "def modulus(n):\n",
    "    if n % 1 == n:\n",
    "        return n % 2\n",
    "    else:\n",
    "        return -1"
   ]
  },
  {
   "cell_type": "code",
   "execution_count": 4,
   "metadata": {},
   "outputs": [],
   "source": [
    "def modulus(n):\n",
    "    if isinstance(n, int):\n",
    "        return n % 2\n",
    "    else:\n",
    "        return -1"
   ]
  },
  {
   "cell_type": "markdown",
   "metadata": {},
   "source": [
    "### No.07 Simple Sort\n",
    "Implement the missing code, denoted by ellipses. You may not modify the pre-existing code.\n",
    "\n",
    "To understand how efficient the built-in Python sorting function is, you decided to implement your own simple sorting algorithm and compare its speed to the speed of the Python sorting. Write a function that, given an array of integers arr, sorts its elements in ascending order.\n",
    "\n",
    "Hint: with Python it's possible to swap several elements in a single line. To solve the task, use this knowledge to fill in both of the blanks (...).\n",
    "\n",
    "Example\n",
    "For arr = [2, 4, 1, 5], the output should be\n",
    "simpleSort(arr) = [1, 2, 4, 5].\n",
    "\n",
    "Input/Output\n",
    "\n",
    "    [execution time limit] 4 seconds (py)\n",
    "\n",
    "    [input] array.integer arr\n",
    "\n",
    "    Guaranteed constraints:\n",
    "    1 ≤ arr.length ≤ 500,\n",
    "    -105 ≤ arr[i] ≤ 105.\n",
    "\n",
    "    [output] array.integer\n",
    "        The given array with elements sorted in ascending order.\n"
   ]
  },
  {
   "cell_type": "code",
   "execution_count": 5,
   "metadata": {},
   "outputs": [],
   "source": [
    "# bubble sorting\n",
    "def simpleSort(arr):\n",
    "\n",
    "    n = len(arr)\n",
    "\n",
    "    for i in range(n):\n",
    "        j = 0\n",
    "        stop = n - i\n",
    "        while j < stop - 1:\n",
    "            if arr[j] > arr[j + 1]:\n",
    "                arr[j], arr[j + 1] = arr[j + 1], arr[j]\n",
    "            j += 1\n",
    "    return arr"
   ]
  },
  {
   "cell_type": "markdown",
   "metadata": {},
   "source": [
    "### No.08 Base Conversion\n",
    "Implement the missing code, denoted by ellipses. You may not modify the pre-existing code.\n",
    "\n",
    "Your university professor decided to have a little fun and asked the class to implement a function that, given a number n and a base x, converts the number from base x to base 16. To make things more interesting, he announced that the first student to write the solution will have to answer fewer question than the rest of the class during the final exam.\n",
    "\n",
    "Laughing devilishly, you asked if it was okay to use a language of your choice, and the unsuspecting professor answered \"yes\". It's settled then: Python is your language of choice!\n",
    "\n",
    "Now you're bound to win. Implement a function that, given an integer number n and a base x, converts n from base x to base 16.\n",
    "\n",
    "Example\n",
    "\n",
    "For n = \"1302\" and x = 5, the output should be\n",
    "baseConversion(n, x) = \"ca\".\n",
    "\n",
    "Here's why:\n",
    "13025 = 20210 = ca16.\n",
    "\n",
    "Input/Output\n",
    "\n",
    "    [execution time limit] 4 seconds (py)\n",
    "\n",
    "    [input] string n\n",
    "\n",
    "    A valid non-negative integer in base x. The string is guaranteed to consist of digits and lowercase English letters.\n",
    "\n",
    "    Guaranteed constraints:\n",
    "    1 < n.length ≤ 10.\n",
    "\n",
    "    [input] integer x\n",
    "\n",
    "    The base of n.\n",
    "\n",
    "    Guaranteed constraints:\n",
    "    2 ≤ x ≤ 36.\n",
    "\n",
    "    [output] string\n",
    "        The value of n in base 16. The string should contain only digits and lowercase English letters 'a' - 'f'.\n"
   ]
  },
  {
   "cell_type": "code",
   "execution_count": 8,
   "metadata": {},
   "outputs": [],
   "source": [
    "def baseConversion(n, x):\n",
    "    #get rid of 'OX'\n",
    "    return hex(int(str(n),x))[2:] "
   ]
  },
  {
   "cell_type": "markdown",
   "metadata": {},
   "source": [
    "### No.09 Mex Function\n",
    "Implement the missing code, denoted by ellipses. You may not modify the pre-existing code.\n",
    "\n",
    "You've just started to study impartial games, and came across an interesting theory. The theory is quite complicated, but it can be narrowed down to the following statements: solutions to all such games can be found with the mex function. Mex is an abbreviation of minimum excludant: for the given set s it finds the minimum non-negative integer that is not present in s.\n",
    "\n",
    "You don't yet know how to implement such a function efficiently, so would like to create a simplified version. For the given set s and given an upperBound, implement a function that will find its mex if it's smaller than upperBound or return upperBound instead.\n",
    "\n",
    "Hint: for loops also have an else clause which executes when the loop completes normally, i.e. without encountering any breaks\n",
    "\n",
    "Example\n",
    "\n",
    "    For s = [0, 4, 2, 3, 1, 7] and upperBound = 10,\n",
    "    the output should be\n",
    "    mexFunction(s, upperBound) = 5.\n",
    "\n",
    "    5 is the smallest non-negative integer that is not present in s, and it is smaller than upperBound.\n",
    "\n",
    "    For s = [0, 4, 2, 3, 1, 7] and upperBound = 3,\n",
    "    the output should be\n",
    "    mexFunction(s, upperBound) = 3.\n",
    "\n",
    "    The minimum excludant for the given set is 5, but it's greater than upperBound, so the output should be 3.\n",
    "\n",
    "Input/Output\n",
    "\n",
    "    [execution time limit] 4 seconds (py)\n",
    "\n",
    "    [input] array.integer s\n",
    "\n",
    "    Array of distinct non-negative integers.\n",
    "\n",
    "    Guaranteed constraints:\n",
    "    0 ≤ s.length ≤ 100,\n",
    "    0 ≤ s[i] ≤ 100.\n",
    "\n",
    "    [input] integer upperBound\n",
    "\n",
    "    A positive integer.\n",
    "\n",
    "    Guaranteed constraints:\n",
    "    1 ≤ upperBound ≤ 100.\n",
    "\n",
    "    [output] integer\n",
    "        Mex of s if it's smaller than upperBound, or upperBound instead."
   ]
  },
  {
   "cell_type": "code",
   "execution_count": null,
   "metadata": {},
   "outputs": [],
   "source": [
    "def mexFunction(s, upperBound):\n",
    "    found = -1\n",
    "    for i in range(upperBound):\n",
    "        if not i in s:\n",
    "            found = i\n",
    "            break\n",
    "    else:\n",
    "        found = upperBound\n",
    "\n",
    "    return found"
   ]
  },
  {
   "cell_type": "markdown",
   "metadata": {},
   "source": [
    "### No.10 List Beautifier\n",
    "Implement the missing code, denoted by ellipses. You may not modify the pre-existing code.\n",
    "\n",
    "Let's call a list beautiful if its first element is equal to its last element, or if a list is empty. Given a list a, your task is to chop off its first and its last element until it becomes beautiful. Implement a function that will make the given a beautiful as described, and return the resulting list as an answer.\n",
    "\n",
    "Hint: one of the features introduced in Python 3 called extended unpacking could help here.\n",
    "\n",
    "Example\n",
    "\n",
    "    For a = [3, 4, 2, 4, 38, 4, 5, 3, 2], the output should be\n",
    "    listBeautifier(a) = [4, 38, 4].\n",
    "\n",
    "    Here's how the answer is obtained:\n",
    "    [3, 4, 2, 4, 38, 4, 5, 3, 2] => [4, 2, 4, 38, 4, 5, 3] => [2, 4, 38, 4, 5] => [4, 38, 4].\n",
    "\n",
    "    For a = [1, 4, -5], the output should be\n",
    "    listBeautifier(a) = [4].\n",
    "\n",
    "Input/Output\n",
    "\n",
    "    [execution time limit] 4 seconds (py3)\n",
    "\n",
    "    [input] array.integer a\n",
    "\n",
    "    A list of integers.\n",
    "\n",
    "    Guaranteed constraints:\n",
    "    0 ≤ a.length ≤ 50,\n",
    "    1 ≤ a[i] ≤ 100.\n",
    "\n",
    "    [output] array.integer\n",
    "        A beautiful list obtained as described above."
   ]
  },
  {
   "cell_type": "code",
   "execution_count": 8,
   "metadata": {},
   "outputs": [],
   "source": [
    "def listBeautifier(a):\n",
    "    res = a[:]\n",
    "    while res and res[0] != res[-1]:\n",
    "        l,*res,r = res\n",
    "    return res"
   ]
  },
  {
   "cell_type": "code",
   "execution_count": 5,
   "metadata": {},
   "outputs": [
    {
     "name": "stdout",
     "output_type": "stream",
     "text": [
      "1\n",
      "2\n"
     ]
    }
   ],
   "source": [
    "a, b=[1,2]\n",
    "print(a)\n",
    "print(b)"
   ]
  },
  {
   "cell_type": "code",
   "execution_count": 7,
   "metadata": {},
   "outputs": [
    {
     "name": "stdout",
     "output_type": "stream",
     "text": [
      "1\n",
      "2\n",
      "[3, 4]\n"
     ]
    }
   ],
   "source": [
    "#in python3\n",
    "a,b,*rest=[1,2,3,4]\n",
    "print(a)\n",
    "print(b)\n",
    "print(rest)"
   ]
  },
  {
   "cell_type": "code",
   "execution_count": null,
   "metadata": {},
   "outputs": [],
   "source": [
    "a,*rest,b=[1,2,3,4]"
   ]
  }
 ],
 "metadata": {
  "kernelspec": {
   "display_name": "Python 3",
   "language": "python",
   "name": "python3"
  },
  "language_info": {
   "codemirror_mode": {
    "name": "ipython",
    "version": 3
   },
   "file_extension": ".py",
   "mimetype": "text/x-python",
   "name": "python",
   "nbconvert_exporter": "python",
   "pygments_lexer": "ipython3",
   "version": "3.7.3"
  }
 },
 "nbformat": 4,
 "nbformat_minor": 2
}
