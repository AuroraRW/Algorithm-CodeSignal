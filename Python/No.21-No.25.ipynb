{
 "cells": [
  {
   "cell_type": "markdown",
   "metadata": {},
   "source": [
    "### No.21 List Multiplication"
   ]
  },
  {
   "cell_type": "markdown",
   "metadata": {},
   "source": [
    "![title](P21-01.png)"
   ]
  },
  {
   "cell_type": "markdown",
   "metadata": {},
   "source": [
    "![title](P21-02.png)"
   ]
  },
  {
   "cell_type": "markdown",
   "metadata": {},
   "source": [
    "### No.22 List Concatenation\n",
    "There is a bug in one line of the code. Find it, fix it, and submit.\n",
    "\n",
    "Given two lists lst1 and lst2, your task is to return a list formed by the elements of lst1 followed by the elements of lst2.\n",
    "\n",
    "Note: this is a bugfix task, which means that the function is already implemented but there is a bug in one of its lines. Your task is to find and fix it.\n",
    "\n",
    "Example\n",
    "\n",
    "For lst1 = [2, 2, 1] and lst2 = [10, 11], the output should be\n",
    "listsConcatenation(lst1, lst2) = [2, 2, 1, 10, 11].\n",
    "\n",
    "Input/Output\n",
    "\n",
    "    [execution time limit] 4 seconds (py3)\n",
    "\n",
    "    [input] array.integer lst1\n",
    "\n",
    "    Guaranteed constraints:\n",
    "    0 ≤ lst1.length ≤ 20,\n",
    "    -106 ≤ lst1[i] ≤ 106.\n",
    "\n",
    "    [input] array.integer lst2\n",
    "\n",
    "    Guaranteed constraints:\n",
    "    0 ≤ lst2.length ≤ 20,\n",
    "    -106 ≤ lst2[i] ≤ 106.\n",
    "\n",
    "    [output] array.integer\n"
   ]
  },
  {
   "cell_type": "code",
   "execution_count": 2,
   "metadata": {},
   "outputs": [],
   "source": [
    "def listsConcatenation(lst1, lst2):\n",
    "    res = lst1\n",
    "    res.extend(lst2)\n",
    "    return res"
   ]
  },
  {
   "cell_type": "code",
   "execution_count": 3,
   "metadata": {},
   "outputs": [],
   "source": [
    "def listsConcatenation(lst1, lst2):\n",
    "    res = lst1\n",
    "    res += lst2\n",
    "    return res"
   ]
  },
  {
   "cell_type": "markdown",
   "metadata": {},
   "source": [
    "### No.23 Two Teams\n",
    "Implement the missing code, denoted by ellipses. You may not modify the pre-existing code.\n",
    "\n",
    "There are some students standing in a row, each has some number written on their back. The students are about to divide into two teams by counting off by twos: those standing at the even positions (0-based) will go to team A, and those standing at the odd position will join the team B.\n",
    "\n",
    "Your task is to calculate the difference between the sums of numbers written on the backs of the students that will join team A, and those written on the backs of the students that will join team B.\n",
    "\n",
    "Example\n",
    "\n",
    "For students = [1, 11, 13, 6, 14], the output should be\n",
    "twoTeams(students) = 11.\n",
    "\n",
    "Students with numbers 1, 13 and 14 will join team A, and students with numbers 11 and 6 will join team B. Thus, the answer is (1 + 13 + 14) - (11 + 6) = 11.\n",
    "\n",
    "Input/Output\n",
    "\n",
    "    [execution time limit] 4 seconds (py3)\n",
    "\n",
    "    [input] array.integer students\n",
    "\n",
    "    Array of numbers written on the students' backs.\n",
    "\n",
    "    Guaranteed constraints:\n",
    "    2 ≤ students.length ≤ 50,\n",
    "    1 ≤ students[i] ≤ 99.\n",
    "\n",
    "    [output] integer"
   ]
  },
  {
   "cell_type": "code",
   "execution_count": 8,
   "metadata": {},
   "outputs": [],
   "source": [
    "def twoTeams(students):\n",
    "    return sum(students[::2])-sum(students[1::2])"
   ]
  },
  {
   "cell_type": "markdown",
   "metadata": {},
   "source": [
    "### No.24 Remove Tasks\n",
    "Implement the missing code, denoted by ellipses. You may not modify the pre-existing code.\n",
    "\n",
    "Today is a good day: it's the kth year since you started to work at the company, which means you have to have a party today. In order to get home earlier and prepare for the jamboree, you need to get home early. You decided to remove each kth tasks from your toDo list, since today is your day and you can do whatever you please.\n",
    "\n",
    "Given the list of task ids in your toDo list, remove each kth task from it and return the list of remaining tasks.\n",
    "\n",
    "Example\n",
    "\n",
    "For k = 3 and toDo = [1237, 2847, 27485, 2947, 1, 247, 374827, 22],\n",
    "the output should be\n",
    "removeTasks(k, toDo) = [1237, 2847, 2947, 1, 374827, 22].\n",
    "\n",
    "Input/Output\n",
    "\n",
    "    [execution time limit] 4 seconds (py3)\n",
    "\n",
    "    [input] integer k\n",
    "\n",
    "    Guaranteed constraints:\n",
    "    1 ≤ k ≤ 30.\n",
    "\n",
    "    [input] array.integer toDo\n",
    "\n",
    "    Ids of the tasks in your to-do list.\n",
    "\n",
    "    Guaranteed constraints:\n",
    "    1 ≤ toDo.length ≤ 100,\n",
    "    1 ≤ toDo[i] ≤ 4 · 105.\n",
    "\n",
    "    [output] array.integer\n"
   ]
  },
  {
   "cell_type": "code",
   "execution_count": 12,
   "metadata": {},
   "outputs": [],
   "source": [
    "def removeTasks(k, toDo):\n",
    "    del toDo[k-1::k]\n",
    "    return toDo"
   ]
  },
  {
   "cell_type": "markdown",
   "metadata": {},
   "source": [
    "### No.25 Print List\n",
    "Implement the missing code, denoted by ellipses. You may not modify the pre-existing code.\n",
    "\n",
    "You were supposed to prepare a presentation about lists in Python, but totally forgot about it. Now that you don't have enough time for it, you decide to show some usage examples instead and say with the poker face that this is how you understood the assignment.\n",
    "\n",
    "Now you need to implement a function that will display a list in the console. Implement a function that, given a list lst, will return it as a string as follows: \"This is your list: lst\".\n",
    "\n",
    "Example\n",
    "\n",
    "For lst = [1, 2, 3, 4, 5], the output should be\n",
    "printList(lst) = \"This is your list: [1, 2, 3, 4, 5]\".\n",
    "\n",
    "Input/Output\n",
    "\n",
    "    [execution time limit] 4 seconds (py3)\n",
    "\n",
    "    [input] array.integer lst\n",
    "\n",
    "    A list containing integer values.\n",
    "\n",
    "    Guaranteed constraints:\n",
    "    0 ≤ lst.length ≤ 50,\n",
    "    -100 ≤ lst[i] ≤ 100.\n",
    "\n",
    "    [output] string\n",
    "        A string containing information about lst."
   ]
  },
  {
   "cell_type": "code",
   "execution_count": 15,
   "metadata": {},
   "outputs": [],
   "source": [
    "def printList(lst):\n",
    "    return \"This is your list: [{0}]\".format(', '.join(str(v) for v in lst))"
   ]
  },
  {
   "cell_type": "code",
   "execution_count": 16,
   "metadata": {},
   "outputs": [],
   "source": [
    "def printList(lst):\n",
    "    return f'This is your list: {lst}'"
   ]
  },
  {
   "cell_type": "code",
   "execution_count": 17,
   "metadata": {},
   "outputs": [],
   "source": [
    "def printList(lst):\n",
    "    return \"This is your list: \" + str(lst)"
   ]
  }
 ],
 "metadata": {
  "kernelspec": {
   "display_name": "Python 3",
   "language": "python",
   "name": "python3"
  },
  "language_info": {
   "codemirror_mode": {
    "name": "ipython",
    "version": 3
   },
   "file_extension": ".py",
   "mimetype": "text/x-python",
   "name": "python",
   "nbconvert_exporter": "python",
   "pygments_lexer": "ipython3",
   "version": "3.7.3"
  }
 },
 "nbformat": 4,
 "nbformat_minor": 2
}
