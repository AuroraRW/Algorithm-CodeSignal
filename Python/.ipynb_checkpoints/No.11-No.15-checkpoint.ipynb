{
 "cells": [
  {
   "cell_type": "markdown",
   "metadata": {},
   "source": [
    "### No.11 String Definition"
   ]
  },
  {
   "cell_type": "markdown",
   "metadata": {},
   "source": [
    "![title](P11-01.png)"
   ]
  },
  {
   "cell_type": "markdown",
   "metadata": {},
   "source": [
    "![title](P11-02.png)"
   ]
  },
  {
   "cell_type": "code",
   "execution_count": 1,
   "metadata": {},
   "outputs": [
    {
     "ename": "SyntaxError",
     "evalue": "invalid syntax (<ipython-input-1-bb8ea7842be6>, line 1)",
     "output_type": "error",
     "traceback": [
      "\u001b[1;36m  File \u001b[1;32m\"<ipython-input-1-bb8ea7842be6>\"\u001b[1;36m, line \u001b[1;32m1\u001b[0m\n\u001b[1;33m    print(''abacaba'')\u001b[0m\n\u001b[1;37m                  ^\u001b[0m\n\u001b[1;31mSyntaxError\u001b[0m\u001b[1;31m:\u001b[0m invalid syntax\n"
     ]
    }
   ],
   "source": [
    "print(''abacaba'')"
   ]
  },
  {
   "cell_type": "code",
   "execution_count": 2,
   "metadata": {},
   "outputs": [
    {
     "ename": "SyntaxError",
     "evalue": "invalid syntax (<ipython-input-2-2c6670196d31>, line 1)",
     "output_type": "error",
     "traceback": [
      "\u001b[1;36m  File \u001b[1;32m\"<ipython-input-2-2c6670196d31>\"\u001b[1;36m, line \u001b[1;32m1\u001b[0m\n\u001b[1;33m    print(\"\"abacaba\"\")\u001b[0m\n\u001b[1;37m                  ^\u001b[0m\n\u001b[1;31mSyntaxError\u001b[0m\u001b[1;31m:\u001b[0m invalid syntax\n"
     ]
    }
   ],
   "source": [
    "print(\"\"abacaba\"\")"
   ]
  },
  {
   "cell_type": "code",
   "execution_count": 3,
   "metadata": {},
   "outputs": [
    {
     "name": "stdout",
     "output_type": "stream",
     "text": [
      "abacaba\n"
     ]
    }
   ],
   "source": [
    "print('''abacaba''')"
   ]
  },
  {
   "cell_type": "code",
   "execution_count": 4,
   "metadata": {},
   "outputs": [
    {
     "name": "stdout",
     "output_type": "stream",
     "text": [
      "abacaba\n"
     ]
    }
   ],
   "source": [
    "print(\"\"\"abacaba\"\"\")"
   ]
  },
  {
   "cell_type": "markdown",
   "metadata": {},
   "source": [
    "### No.12 Fix Message\n",
    "Implement the missing code, denoted by ellipses. You may not modify the pre-existing code.\n",
    "\n",
    "One of your friends has an awful writing style: he almost never starts a message with a capital letter, but adds uppercase letters in random places throughout the message. It makes chatting with him very difficult for you, so you decided to write a plugin that will change each message received from your friend into a more readable form.\n",
    "\n",
    "Implement a function that will change the very first symbol of the given message to uppercase, and make all the other letters lowercase.\n",
    "\n",
    "Example\n",
    "\n",
    "For message = \"you'll NEVER believe what that 'FrIeNd' of mine did!!1\",\n",
    "the output should be\n",
    "fixMessage(message) = \"You'll never believe what that 'friend' of mine did!!1\".\n",
    "\n",
    "Input/Output\n",
    "\n",
    "    [execution time limit] 4 seconds (py)\n",
    "\n",
    "    [input] string message\n",
    "\n",
    "    A string consisting of English letters, whitespace characters, digits and punctuation marks.\n",
    "\n",
    "    Guaranteed constraints:\n",
    "    1 ≤ message.length ≤ 65.\n",
    "\n",
    "    [output] string\n",
    "        Fixed message with its first letter capitalized, and all other letters converted to lowercase.\n"
   ]
  },
  {
   "cell_type": "code",
   "execution_count": 9,
   "metadata": {},
   "outputs": [],
   "source": [
    "def fixMessage(message):\n",
    "    return message.capitalize()"
   ]
  },
  {
   "cell_type": "code",
   "execution_count": 10,
   "metadata": {},
   "outputs": [
    {
     "data": {
      "text/plain": [
       "'Abcdefghiabc'"
      ]
     },
     "execution_count": 10,
     "metadata": {},
     "output_type": "execute_result"
    }
   ],
   "source": [
    "'abcdeFGHIabc'.capitalize()"
   ]
  },
  {
   "cell_type": "code",
   "execution_count": 14,
   "metadata": {},
   "outputs": [],
   "source": [
    "def fixMessage(message):\n",
    "    return message[0].upper() + message[1:].lower()"
   ]
  },
  {
   "cell_type": "markdown",
   "metadata": {},
   "source": [
    "### No.13 Cat Walk\n",
    "Implement the missing code, denoted by ellipses. You may not modify the pre-existing code.\n",
    "\n",
    "You've been working on a particularly difficult algorithm all day, and finally decided to take a break and drink some coffee. To your horror, when you returned you found out that your cat decided to take a walk on the keyboard in your absence, and pressed a key or two. Your computer doesn't react to letters being pressed when an unauthorized action appears, but allows typing whitespace characters and moving the arrow keys, so now your masterpiece contains way too many whitespace characters.\n",
    "\n",
    "To repair the damage, you need to start with implementing a function that will replace all multiple space characters in the given line of your code with single ones. In addition, all leading and trailing whitespaces should be removed.\n",
    "\n",
    "Example\n",
    "\n",
    "For\n",
    "\n",
    "line = \"def      m   e  gaDifficu     ltFun        ction(x):\"\n",
    "\n",
    "the output should be\n",
    "catWalk(line) = \"def m e gaDifficu ltFun ction(x):\".\n",
    "\n",
    "Input/Output\n",
    "\n",
    "    [execution time limit] 4 seconds (py)\n",
    "\n",
    "    [input] string line\n",
    "\n",
    "    One line from your code containing way too many whitespace characters.\n",
    "\n",
    "    Guaranteed constraints:\n",
    "    5 ≤ line.length ≤ 125.\n",
    "\n",
    "    [output] string\n",
    "        line with unnecessary whitespace characters removed."
   ]
  },
  {
   "cell_type": "code",
   "execution_count": 15,
   "metadata": {},
   "outputs": [],
   "source": [
    "def catWalk(code):\n",
    "    return ' '.join(code.split())"
   ]
  },
  {
   "cell_type": "markdown",
   "metadata": {},
   "source": [
    "### No.14 Convert Tabs\n",
    "Implement the missing code, denoted by ellipses. You may not modify the pre-existing code.\n",
    "\n",
    "You found an awesome customizable Python IDE that has almost everything you'd like to see in your working environment. However, after a couple days of coding you discover that there is one important feature that this IDE lacks: it cannot convert tabs to spaces. Luckily, the IDE is easily customizable, so you decide to write a plugin that would convert all tabs in the code into the given number of whitespace characters.\n",
    "\n",
    "Implement a function that, given a piece of code and a positive integer x will turn each tabulation character in code into x whitespace characters.\n",
    "\n",
    "Example\n",
    "\n",
    "For code = \"\\treturn False\" and x = 4, the output should be\n",
    "\n",
    "convertTabs(code, x) = \"    return False\"\n",
    "\n",
    "Input/Output\n",
    "\n",
    "    [execution time limit] 4 seconds (py)\n",
    "\n",
    "    [input] string code\n",
    "\n",
    "    Your piece of code.\n",
    "\n",
    "    Guaranteed constraints:\n",
    "    0 ≤ code.length ≤ 1500.\n",
    "\n",
    "    [input] integer x\n",
    "\n",
    "    The number of whitespace characters (' ') that should replace each occurrence of the tabulation character ('\\t').\n",
    "\n",
    "    Guaranteed constraints:\n",
    "    1 ≤ x ≤ 16.\n",
    "\n",
    "    [output] string\n",
    "        The given code with tabulation characters expanded according to x."
   ]
  },
  {
   "cell_type": "code",
   "execution_count": 16,
   "metadata": {},
   "outputs": [],
   "source": [
    "def convertTabs(code, x):\n",
    "    return code.replace('\\t', ' '*x)"
   ]
  },
  {
   "cell_type": "markdown",
   "metadata": {},
   "source": [
    "### No.15 Feedback Review\n",
    "Implement the missing code, denoted by ellipses. You may not modify the pre-existing code.\n",
    "\n",
    "You've launched a revolutionary service not long ago, and were busy improving it for the last couple of months. When you finally decided that the service is perfect, you remembered that you created a feedbacks page long time ago, which you never checked out since then. Now that you have nothing left to do, you would like to have a look at what the community thinks of your service.\n",
    "\n",
    "Unfortunately it looks like the feedbacks page is far from perfect: each feedback is displayed as a one-line string, and if it's too long there's no way to see what it is about. Naturally, this horrible bug should be fixed. Implement a function that, given a feedback and the size of the screen, splits the feedback into lines so that:\n",
    "\n",
    "    each token (i.e. sequence of non-whitespace characters) belongs to one of the lines entirely;\n",
    "    each line is at most size characters long;\n",
    "    no line has trailing or leading spaces;\n",
    "    each line should have the maximum possible length, assuming that all lines before it were also the longest possible.\n",
    "\n",
    "Example\n",
    "\n",
    "For feedback = \"This is an example feedback\" and size = 8,\n",
    "the output should be\n",
    "\n",
    "feedbackReview(feedback, size) = [\"This is\", \n",
    "                                  \"an\", \n",
    "                                  \"example\", \n",
    "                                  \"feedback\"]\n",
    "\n",
    "Input/Output\n",
    "\n",
    "    [execution time limit] 4 seconds (py)\n",
    "\n",
    "    [input] string feedback\n",
    "\n",
    "    A string containing a feedback. Each feedback is guaranteed to contain only letters, punctuation marks and whitespace characters (' ').\n",
    "\n",
    "    Guaranteed constraints:\n",
    "    0 ≤ feedback.length ≤ 100.\n",
    "\n",
    "    [input] integer size\n",
    "\n",
    "    The size of the screen. It is guaranteed that it is not smaller than the longest token in the feedback.\n",
    "\n",
    "    Guaranteed constraints:\n",
    "    1 ≤ size ≤ 100.\n",
    "\n",
    "    [output] array.string\n",
    "        Lines from the feedback, split as described above.\n"
   ]
  },
  {
   "cell_type": "code",
   "execution_count": 6,
   "metadata": {},
   "outputs": [],
   "source": [
    "import textwrap\n",
    "def feedbackReview(feedback, size):\n",
    "    return textwrap.TextWrapper(width=size).wrap(text=feedback)"
   ]
  }
 ],
 "metadata": {
  "kernelspec": {
   "display_name": "Python 3",
   "language": "python",
   "name": "python3"
  },
  "language_info": {
   "codemirror_mode": {
    "name": "ipython",
    "version": 3
   },
   "file_extension": ".py",
   "mimetype": "text/x-python",
   "name": "python",
   "nbconvert_exporter": "python",
   "pygments_lexer": "ipython3",
   "version": "3.7.3"
  }
 },
 "nbformat": 4,
 "nbformat_minor": 2
}
