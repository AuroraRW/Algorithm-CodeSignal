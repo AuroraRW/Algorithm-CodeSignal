{
 "cells": [
  {
   "cell_type": "markdown",
   "metadata": {},
   "source": [
    "### No.16 Is Word Palindrome\n",
    "Implement the missing code, denoted by ellipses. You may not modify the pre-existing code.\n",
    "\n",
    "Given a word, check whether it is a palindrome or not. A string is considered to be a palindrome if it reads the same in both directions.\n",
    "\n",
    "Example\n",
    "\n",
    "    For word = \"aibohphobia\", the output should be\n",
    "    isWordPalindrome(word) = true;\n",
    "\n",
    "    For word = \"hehehehehe\", the output should be\n",
    "    isWordPalindrome(word) = false.\n",
    "\n",
    "Input/Output\n",
    "\n",
    "    [execution time limit] 4 seconds (py)\n",
    "\n",
    "    [input] string word\n",
    "\n",
    "    A string containing lowercase English letters.\n",
    "\n",
    "    Guaranteed constraints:\n",
    "    1 ≤ word.length ≤ 20.\n",
    "\n",
    "    [output] boolean\n",
    "        true if the given word is a palindrome, false otherwise.\n"
   ]
  },
  {
   "cell_type": "code",
   "execution_count": 1,
   "metadata": {},
   "outputs": [],
   "source": [
    "def isWordPalindrome(word):\n",
    "    return word == word[::-1]"
   ]
  },
  {
   "cell_type": "markdown",
   "metadata": {},
   "source": [
    "### No.17 Permutation Cipher\n",
    "Implement the missing code, denoted by ellipses. You may not modify the pre-existing code.\n",
    "\n",
    "You found your very first laptop in the attic, and decided to give in to nostalgia and turn it on. The laptop turned out to be password protected, but you know how to crack it: you have always used the same password, but encrypt it using permutation ciphers with various keys. The key to the cipher used to protect your old laptop very conveniently happened to be written on the laptop lid.\n",
    "\n",
    "Here's how permutation cipher works: the key to it consists of all the letters of the alphabet written up in some order. All occurrences of letter 'a' in the encrypted text are substituted with the first letter of the key, all occurrences of letter 'b' are replaced with the second letter from the key, and so on, up to letter 'z' replaced with the last symbol of the key.\n",
    "\n",
    "Given the password you always use, your task is to encrypt it using the permutation cipher with the given key.\n",
    "\n",
    "Example\n",
    "\n",
    "For password = \"iamthebest\" and\n",
    "key = \"zabcdefghijklmnopqrstuvwxy\", the output should be\n",
    "permutationCipher(password, key) = \"hzlsgdadrs\".\n",
    "\n",
    "Here's a table that can be used to encrypt the text:\n",
    "\n",
    "abcdefghijklmnopqrstuvwxyz\n",
    "||  |  ||   |     || \n",
    "vv  v  vv   v     vv\n",
    "zabcdefghijklmnopqrstuvwxy\n",
    "\n",
    "Input/Output\n",
    "\n",
    "    [execution time limit] 4 seconds (py)\n",
    "\n",
    "    [input] string password\n",
    "\n",
    "    The password you always use. It is guaranteed to consist only of lowercase English letters.\n",
    "    If you're using Python 2, note that the string is given as a unicode.\n",
    "\n",
    "    Guaranteed constraints:\n",
    "    1 ≤ password.length ≤ 26.\n",
    "\n",
    "    [input] string key\n",
    "\n",
    "    The key to the permutation cipher. It is guaranteed to be a permutation of the plaintext alphabet.\n",
    "    If you're using Python 2, note that the string is given as a unicode.\n",
    "\n",
    "    Guaranteed constraints:\n",
    "    key.length = 26.\n",
    "\n",
    "    [output] string\n",
    "    Your password encrypted by the permutations cipher with the given key.\n"
   ]
  },
  {
   "cell_type": "code",
   "execution_count": 17,
   "metadata": {},
   "outputs": [],
   "source": [
    "def permutationCipher(password, key):\n",
    "    table = {ord('a')+i : ord(k) for i, k in enumerate(key)}\n",
    "    return password.translate(table)"
   ]
  },
  {
   "cell_type": "markdown",
   "metadata": {},
   "source": [
    "### No.18 Competitive Eating\n",
    "Implement the missing code, denoted by ellipses. You may not modify the pre-existing code.\n",
    "\n",
    "The World Wide Competitive Eating tournament is going to be held in your town, and you're the one who is responsible for keeping track of time. For the great finale, a large billboard of the given width will be installed on the main square, where the time of possibly new world record will be shown.\n",
    "\n",
    "The track of time will be kept by a float number. It will be displayed on the board with the set precision precision with center alignment, and it is guaranteed that it will fit in the screen. Your task is to test the billboard. Given the time t, the width of the screen and the precision with which the time should be displayed, return a string that should be shown on the billboard.\n",
    "\n",
    "Example\n",
    "\n",
    "For t = 3.1415, width = 10, and precision = 2,\n",
    "the output should be\n",
    "\n",
    "competitiveEating(t, width, precision) = \"   3.14   \"\n",
    "\n",
    "Input/Output\n",
    "\n",
    "    [execution time limit] 4 seconds (py)\n",
    "\n",
    "    [input] float t\n",
    "\n",
    "    The time to be displayed on the billboard. It is guaranteed that t has at most 5 digits after the decimal point.\n",
    "\n",
    "    Guaranteed constraints:\n",
    "    0 ≤ t < 1000.\n",
    "\n",
    "    [input] integer width\n",
    "\n",
    "    The width of the billboard. It is guaranteed that it's big enough to display the time t with the desired precision.\n",
    "\n",
    "    In case it's impossible to align the time perfectly in the center, left padding should be 1 whitespace character shorter than right padding.\n",
    "\n",
    "    Guaranteed constraints:\n",
    "    3 ≤ width ≤ 20.\n",
    "\n",
    "    [input] integer precision\n",
    "\n",
    "    Precision with which the number should be displayed.\n",
    "\n",
    "    Guaranteed constraints:\n",
    "    0 ≤ precision ≤ 10.\n",
    "\n",
    "    [output] string\n",
    "    A string of length width representing the time t as it will be displayed on the billboard."
   ]
  },
  {
   "cell_type": "code",
   "execution_count": 3,
   "metadata": {},
   "outputs": [],
   "source": [
    "def competitiveEating(t, width, precision):\n",
    "    return \"{0:.{1}f}\".format(t,precision).center(width)"
   ]
  },
  {
   "cell_type": "markdown",
   "metadata": {},
   "source": [
    "### No.19 New Style Formatting\n",
    "You came to work in a big company as a Senior Python Developer. Unfortunately your team members seem to be quite old-school: you can see old-style string formatting everywhere in the code, which is not too cool. You tried to force the team members to start using the new style formatting, but it looks like it will take some time to persuade them: old habits die hard, especially in old-school programmers.\n",
    "\n",
    "To show your colleagues that the new style formatting is not that different from the old style, you decided to implement a function that will turn the old-style syntax into a new one. Implement a function that will turn the old-style string formating s into a new one so that the following two strings have the same meaning:\n",
    "\n",
    "    s % (*args)\n",
    "    s.format(*args)\n",
    "\n",
    "Example\n",
    "\n",
    "For s = \"We expect the %f%% growth this week\", the output should be\n",
    "newStyleFormatting(s) = \"We expect the {}% growth this week\".\n",
    "\n",
    "Input/Output\n",
    "\n",
    "    [execution time limit] 4 seconds (py3)\n",
    "\n",
    "    [input] string s\n",
    "\n",
    "    A correct old-style formatting string. It is guaranteed that each % sign in it is always followed either by a correct conversion type or by another '%' sign (see this for reference). It is also guaranteed that it doesn't contain curly brackets ('{' or '}').\n",
    "\n",
    "    Guaranteed constraints:\n",
    "    1 ≤ s.length ≤ 70.\n",
    "\n",
    "    [output] string\n",
    "        A new-style formatting string without positional indices.\n"
   ]
  },
  {
   "cell_type": "code",
   "execution_count": 4,
   "metadata": {},
   "outputs": [],
   "source": [
    "import re\n",
    "def newStyleFormatting(s):\n",
    "    return \"%\".join([re.sub(\"%([bcdeEfFgGnosxX])\",\"{}\", S) for S in s.split(\"%%\")])"
   ]
  },
  {
   "cell_type": "markdown",
   "metadata": {},
   "source": [
    "### No.20 Get Commit\n",
    "Implement the missing code, denoted by ellipses. You may not modify the pre-existing code.\n",
    "\n",
    "The Abanamama Version System (AVS) is a software versioning and revision control system used in highly secure environments. In this system, each commit is assigned a unique name, the first part of which consists of the username encrypted in the base-4 system using symbols '0', '?', '+', and '!', and the second part consists of symbols of English alphabet.\n",
    "\n",
    "Given such commit, your task is go remove the username part from it and return the second part as an answer.\n",
    "\n",
    "Example\n",
    "\n",
    "For commit = \"0??+0+!!someCommIdhsSt\", the output should be\n",
    "getCommit(commit) = \"someCommIdhsSt\".\n",
    "\n",
    "Input/Output\n",
    "\n",
    "    [execution time limit] 4 seconds (py3)\n",
    "\n",
    "    [input] string commit\n",
    "\n",
    "    Commit in the format given above. Note, that it is possible that it doesn't contain the first or the second part.\n",
    "\n",
    "    Guaranteed constraints:\n",
    "    5 ≤ commit.length ≤ 45.\n",
    "\n",
    "    [output] string\n",
    "        The second part of the commit.\n"
   ]
  },
  {
   "cell_type": "code",
   "execution_count": 10,
   "metadata": {},
   "outputs": [],
   "source": [
    "def getCommit(commit):\n",
    "    return ''.join([x for x in commit if 122>=ord(x)>=97 or 90>=ord(x)>=65])"
   ]
  },
  {
   "cell_type": "code",
   "execution_count": 9,
   "metadata": {},
   "outputs": [],
   "source": [
    "def getCommit(commit):\n",
    "    return commit.lstrip('0?+!')"
   ]
  },
  {
   "cell_type": "code",
   "execution_count": 11,
   "metadata": {},
   "outputs": [],
   "source": [
    "def getCommit(commit):\n",
    "    return \"\".join([c for c in commit if c.islower() or c.isupper()])"
   ]
  },
  {
   "cell_type": "code",
   "execution_count": 12,
   "metadata": {},
   "outputs": [],
   "source": [
    "def getCommit(commit):\n",
    "    return ''.join(i for i in commit if i.isalpha())"
   ]
  }
 ],
 "metadata": {
  "kernelspec": {
   "display_name": "Python 3",
   "language": "python",
   "name": "python3"
  },
  "language_info": {
   "codemirror_mode": {
    "name": "ipython",
    "version": 3
   },
   "file_extension": ".py",
   "mimetype": "text/x-python",
   "name": "python",
   "nbconvert_exporter": "python",
   "pygments_lexer": "ipython3",
   "version": "3.7.3"
  }
 },
 "nbformat": 4,
 "nbformat_minor": 2
}
