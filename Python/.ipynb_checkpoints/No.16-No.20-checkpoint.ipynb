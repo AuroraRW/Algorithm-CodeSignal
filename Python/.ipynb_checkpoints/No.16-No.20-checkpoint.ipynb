{
 "cells": [
  {
   "cell_type": "markdown",
   "metadata": {},
   "source": [
    "### No.17 Is Word Palindrome\n",
    "Implement the missing code, denoted by ellipses. You may not modify the pre-existing code.\n",
    "\n",
    "Given a word, check whether it is a palindrome or not. A string is considered to be a palindrome if it reads the same in both directions.\n",
    "\n",
    "Example\n",
    "\n",
    "    For word = \"aibohphobia\", the output should be\n",
    "    isWordPalindrome(word) = true;\n",
    "\n",
    "    For word = \"hehehehehe\", the output should be\n",
    "    isWordPalindrome(word) = false.\n",
    "\n",
    "Input/Output\n",
    "\n",
    "    [execution time limit] 4 seconds (py)\n",
    "\n",
    "    [input] string word\n",
    "\n",
    "    A string containing lowercase English letters.\n",
    "\n",
    "    Guaranteed constraints:\n",
    "    1 ≤ word.length ≤ 20.\n",
    "\n",
    "    [output] boolean\n",
    "        true if the given word is a palindrome, false otherwise.\n"
   ]
  },
  {
   "cell_type": "code",
   "execution_count": 1,
   "metadata": {},
   "outputs": [],
   "source": [
    "def isWordPalindrome(word):\n",
    "    return word == word[::-1]"
   ]
  },
  {
   "cell_type": "markdown",
   "metadata": {},
   "source": [
    "### No.17 Permutation Cipher\n",
    "Implement the missing code, denoted by ellipses. You may not modify the pre-existing code.\n",
    "\n",
    "You found your very first laptop in the attic, and decided to give in to nostalgia and turn it on. The laptop turned out to be password protected, but you know how to crack it: you have always used the same password, but encrypt it using permutation ciphers with various keys. The key to the cipher used to protect your old laptop very conveniently happened to be written on the laptop lid.\n",
    "\n",
    "Here's how permutation cipher works: the key to it consists of all the letters of the alphabet written up in some order. All occurrences of letter 'a' in the encrypted text are substituted with the first letter of the key, all occurrences of letter 'b' are replaced with the second letter from the key, and so on, up to letter 'z' replaced with the last symbol of the key.\n",
    "\n",
    "Given the password you always use, your task is to encrypt it using the permutation cipher with the given key.\n",
    "\n",
    "Example\n",
    "\n",
    "For password = \"iamthebest\" and\n",
    "key = \"zabcdefghijklmnopqrstuvwxy\", the output should be\n",
    "permutationCipher(password, key) = \"hzlsgdadrs\".\n",
    "\n",
    "Here's a table that can be used to encrypt the text:\n",
    "\n",
    "abcdefghijklmnopqrstuvwxyz\n",
    "||  |  ||   |     || \n",
    "vv  v  vv   v     vv\n",
    "zabcdefghijklmnopqrstuvwxy\n",
    "\n",
    "Input/Output\n",
    "\n",
    "    [execution time limit] 4 seconds (py)\n",
    "\n",
    "    [input] string password\n",
    "\n",
    "    The password you always use. It is guaranteed to consist only of lowercase English letters.\n",
    "    If you're using Python 2, note that the string is given as a unicode.\n",
    "\n",
    "    Guaranteed constraints:\n",
    "    1 ≤ password.length ≤ 26.\n",
    "\n",
    "    [input] string key\n",
    "\n",
    "    The key to the permutation cipher. It is guaranteed to be a permutation of the plaintext alphabet.\n",
    "    If you're using Python 2, note that the string is given as a unicode.\n",
    "\n",
    "    Guaranteed constraints:\n",
    "    key.length = 26.\n",
    "\n",
    "    [output] string\n",
    "    Your password encrypted by the permutations cipher with the given key.\n"
   ]
  },
  {
   "cell_type": "code",
   "execution_count": 17,
   "metadata": {},
   "outputs": [],
   "source": [
    "def permutationCipher(password, key):\n",
    "    table = {ord('a')+i : ord(k) for i, k in enumerate(key)}\n",
    "    return password.translate(table)"
   ]
  },
  {
   "cell_type": "code",
   "execution_count": null,
   "metadata": {},
   "outputs": [],
   "source": []
  }
 ],
 "metadata": {
  "kernelspec": {
   "display_name": "Python 3",
   "language": "python",
   "name": "python3"
  },
  "language_info": {
   "codemirror_mode": {
    "name": "ipython",
    "version": 3
   },
   "file_extension": ".py",
   "mimetype": "text/x-python",
   "name": "python",
   "nbconvert_exporter": "python",
   "pygments_lexer": "ipython3",
   "version": "3.7.3"
  }
 },
 "nbformat": 4,
 "nbformat_minor": 2
}
